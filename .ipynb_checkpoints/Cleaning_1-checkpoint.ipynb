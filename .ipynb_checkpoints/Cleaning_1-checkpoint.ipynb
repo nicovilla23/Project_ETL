{
 "cells": [
  {
   "cell_type": "code",
   "execution_count": 1,
   "id": "dabfbac1",
   "metadata": {},
   "outputs": [
    {
     "name": "stdout",
     "output_type": "stream",
     "text": [
      "Requirement already satisfied: vaex in /Users/nico/anaconda3/lib/python3.10/site-packages (4.17.0)\n",
      "Requirement already satisfied: vaex-core~=4.17.1 in /Users/nico/anaconda3/lib/python3.10/site-packages (from vaex) (4.17.1)\n",
      "Requirement already satisfied: vaex-viz<0.6,>=0.5.4 in /Users/nico/anaconda3/lib/python3.10/site-packages (from vaex) (0.5.4)\n",
      "Requirement already satisfied: vaex-astro<0.10,>=0.9.3 in /Users/nico/anaconda3/lib/python3.10/site-packages (from vaex) (0.9.3)\n",
      "Requirement already satisfied: vaex-server~=0.9.0 in /Users/nico/anaconda3/lib/python3.10/site-packages (from vaex) (0.9.0)\n",
      "Requirement already satisfied: vaex-jupyter<0.9,>=0.8.2 in /Users/nico/anaconda3/lib/python3.10/site-packages (from vaex) (0.8.2)\n",
      "Requirement already satisfied: vaex-ml<0.19,>=0.18.3 in /Users/nico/anaconda3/lib/python3.10/site-packages (from vaex) (0.18.3)\n",
      "Requirement already satisfied: vaex-hdf5<0.15,>=0.13.0 in /Users/nico/anaconda3/lib/python3.10/site-packages (from vaex) (0.14.1)\n",
      "Requirement already satisfied: astropy in /Users/nico/anaconda3/lib/python3.10/site-packages (from vaex-astro<0.10,>=0.9.3->vaex) (5.1)\n",
      "Requirement already satisfied: progressbar2 in /Users/nico/anaconda3/lib/python3.10/site-packages (from vaex-core~=4.17.1->vaex) (4.2.0)\n",
      "Requirement already satisfied: cloudpickle in /Users/nico/anaconda3/lib/python3.10/site-packages (from vaex-core~=4.17.1->vaex) (2.0.0)\n",
      "Requirement already satisfied: six in /Users/nico/anaconda3/lib/python3.10/site-packages (from vaex-core~=4.17.1->vaex) (1.16.0)\n",
      "Requirement already satisfied: aplus in /Users/nico/anaconda3/lib/python3.10/site-packages (from vaex-core~=4.17.1->vaex) (0.11.0)\n",
      "Requirement already satisfied: pandas in /Users/nico/anaconda3/lib/python3.10/site-packages (from vaex-core~=4.17.1->vaex) (1.5.3)\n",
      "Requirement already satisfied: requests in /Users/nico/anaconda3/lib/python3.10/site-packages (from vaex-core~=4.17.1->vaex) (2.28.1)\n",
      "Requirement already satisfied: frozendict!=2.2.0 in /Users/nico/anaconda3/lib/python3.10/site-packages (from vaex-core~=4.17.1->vaex) (2.3.8)\n",
      "Requirement already satisfied: rich in /Users/nico/anaconda3/lib/python3.10/site-packages (from vaex-core~=4.17.1->vaex) (13.5.2)\n",
      "Requirement already satisfied: future>=0.15.2 in /Users/nico/anaconda3/lib/python3.10/site-packages (from vaex-core~=4.17.1->vaex) (0.18.3)\n",
      "Requirement already satisfied: tabulate>=0.8.3 in /Users/nico/anaconda3/lib/python3.10/site-packages (from vaex-core~=4.17.1->vaex) (0.8.10)\n",
      "Requirement already satisfied: pyarrow>=5.0.0 in /Users/nico/anaconda3/lib/python3.10/site-packages (from vaex-core~=4.17.1->vaex) (12.0.1)\n",
      "Requirement already satisfied: dask!=2022.4.0 in /Users/nico/anaconda3/lib/python3.10/site-packages (from vaex-core~=4.17.1->vaex) (2022.7.0)\n",
      "Requirement already satisfied: pydantic>=1.8.0 in /Users/nico/anaconda3/lib/python3.10/site-packages (from vaex-core~=4.17.1->vaex) (2.1.1)\n",
      "Requirement already satisfied: blake3 in /Users/nico/anaconda3/lib/python3.10/site-packages (from vaex-core~=4.17.1->vaex) (0.3.3)\n",
      "Requirement already satisfied: numpy>=1.16 in /Users/nico/anaconda3/lib/python3.10/site-packages (from vaex-core~=4.17.1->vaex) (1.23.5)\n",
      "Requirement already satisfied: pyyaml in /Users/nico/anaconda3/lib/python3.10/site-packages (from vaex-core~=4.17.1->vaex) (6.0)\n",
      "Requirement already satisfied: nest-asyncio>=1.3.3 in /Users/nico/anaconda3/lib/python3.10/site-packages (from vaex-core~=4.17.1->vaex) (1.5.6)\n",
      "Requirement already satisfied: filelock in /Users/nico/anaconda3/lib/python3.10/site-packages (from vaex-core~=4.17.1->vaex) (3.9.0)\n",
      "Requirement already satisfied: h5py>=2.9 in /Users/nico/anaconda3/lib/python3.10/site-packages (from vaex-hdf5<0.15,>=0.13.0->vaex) (3.7.0)\n",
      "Requirement already satisfied: ipyvolume>=0.4 in /Users/nico/anaconda3/lib/python3.10/site-packages (from vaex-jupyter<0.9,>=0.8.2->vaex) (0.6.3)\n",
      "Requirement already satisfied: bqplot>=0.10.1 in /Users/nico/anaconda3/lib/python3.10/site-packages (from vaex-jupyter<0.9,>=0.8.2->vaex) (0.12.40)\n",
      "Requirement already satisfied: xarray in /Users/nico/anaconda3/lib/python3.10/site-packages (from vaex-jupyter<0.9,>=0.8.2->vaex) (2022.11.0)\n",
      "Requirement already satisfied: ipympl in /Users/nico/anaconda3/lib/python3.10/site-packages (from vaex-jupyter<0.9,>=0.8.2->vaex) (0.9.3)\n",
      "Requirement already satisfied: ipyvuetify<2,>=1.2.2 in /Users/nico/anaconda3/lib/python3.10/site-packages (from vaex-jupyter<0.9,>=0.8.2->vaex) (1.8.10)\n",
      "Requirement already satisfied: ipyleaflet in /Users/nico/anaconda3/lib/python3.10/site-packages (from vaex-jupyter<0.9,>=0.8.2->vaex) (0.17.3)\n",
      "Requirement already satisfied: jinja2 in /Users/nico/anaconda3/lib/python3.10/site-packages (from vaex-ml<0.19,>=0.18.3->vaex) (3.1.2)\n",
      "Requirement already satisfied: numba in /Users/nico/anaconda3/lib/python3.10/site-packages (from vaex-ml<0.19,>=0.18.3->vaex) (0.56.4)\n",
      "Requirement already satisfied: traitlets in /Users/nico/anaconda3/lib/python3.10/site-packages (from vaex-ml<0.19,>=0.18.3->vaex) (5.7.1)\n",
      "Requirement already satisfied: fastapi in /Users/nico/anaconda3/lib/python3.10/site-packages (from vaex-server~=0.9.0->vaex) (0.101.0)\n",
      "Requirement already satisfied: tornado>4.1 in /Users/nico/anaconda3/lib/python3.10/site-packages (from vaex-server~=0.9.0->vaex) (6.1)\n",
      "Requirement already satisfied: cachetools in /Users/nico/anaconda3/lib/python3.10/site-packages (from vaex-server~=0.9.0->vaex) (5.3.1)\n",
      "Requirement already satisfied: uvicorn[standard] in /Users/nico/anaconda3/lib/python3.10/site-packages (from vaex-server~=0.9.0->vaex) (0.23.2)\n",
      "Requirement already satisfied: pillow in /Users/nico/anaconda3/lib/python3.10/site-packages (from vaex-viz<0.6,>=0.5.4->vaex) (9.4.0)\n",
      "Requirement already satisfied: matplotlib>=1.3.1 in /Users/nico/anaconda3/lib/python3.10/site-packages (from vaex-viz<0.6,>=0.5.4->vaex) (3.7.0)\n",
      "Requirement already satisfied: ipywidgets<9,>=7.5.0 in /Users/nico/anaconda3/lib/python3.10/site-packages (from bqplot>=0.10.1->vaex-jupyter<0.9,>=0.8.2->vaex) (7.6.5)\n",
      "Requirement already satisfied: traittypes>=0.0.6 in /Users/nico/anaconda3/lib/python3.10/site-packages (from bqplot>=0.10.1->vaex-jupyter<0.9,>=0.8.2->vaex) (0.2.1)\n",
      "Requirement already satisfied: toolz>=0.8.2 in /Users/nico/anaconda3/lib/python3.10/site-packages (from dask!=2022.4.0->vaex-core~=4.17.1->vaex) (0.12.0)\n",
      "Requirement already satisfied: fsspec>=0.6.0 in /Users/nico/anaconda3/lib/python3.10/site-packages (from dask!=2022.4.0->vaex-core~=4.17.1->vaex) (2022.11.0)\n",
      "Requirement already satisfied: partd>=0.3.10 in /Users/nico/anaconda3/lib/python3.10/site-packages (from dask!=2022.4.0->vaex-core~=4.17.1->vaex) (1.2.0)\n",
      "Requirement already satisfied: packaging>=20.0 in /Users/nico/anaconda3/lib/python3.10/site-packages (from dask!=2022.4.0->vaex-core~=4.17.1->vaex) (22.0)\n",
      "Requirement already satisfied: ipywebrtc in /Users/nico/anaconda3/lib/python3.10/site-packages (from ipyvolume>=0.4->vaex-jupyter<0.9,>=0.8.2->vaex) (0.6.0)\n",
      "Requirement already satisfied: ipyvue>=1.7.0 in /Users/nico/anaconda3/lib/python3.10/site-packages (from ipyvolume>=0.4->vaex-jupyter<0.9,>=0.8.2->vaex) (1.9.2)\n",
      "Requirement already satisfied: pythreejs>=2.4.0 in /Users/nico/anaconda3/lib/python3.10/site-packages (from ipyvolume>=0.4->vaex-jupyter<0.9,>=0.8.2->vaex) (2.4.2)\n",
      "Requirement already satisfied: fonttools>=4.22.0 in /Users/nico/anaconda3/lib/python3.10/site-packages (from matplotlib>=1.3.1->vaex-viz<0.6,>=0.5.4->vaex) (4.25.0)\n",
      "Requirement already satisfied: python-dateutil>=2.7 in /Users/nico/anaconda3/lib/python3.10/site-packages (from matplotlib>=1.3.1->vaex-viz<0.6,>=0.5.4->vaex) (2.8.2)\n",
      "Requirement already satisfied: contourpy>=1.0.1 in /Users/nico/anaconda3/lib/python3.10/site-packages (from matplotlib>=1.3.1->vaex-viz<0.6,>=0.5.4->vaex) (1.0.5)\n",
      "Requirement already satisfied: cycler>=0.10 in /Users/nico/anaconda3/lib/python3.10/site-packages (from matplotlib>=1.3.1->vaex-viz<0.6,>=0.5.4->vaex) (0.11.0)\n",
      "Requirement already satisfied: kiwisolver>=1.0.1 in /Users/nico/anaconda3/lib/python3.10/site-packages (from matplotlib>=1.3.1->vaex-viz<0.6,>=0.5.4->vaex) (1.4.4)\n",
      "Requirement already satisfied: pyparsing>=2.3.1 in /Users/nico/anaconda3/lib/python3.10/site-packages (from matplotlib>=1.3.1->vaex-viz<0.6,>=0.5.4->vaex) (3.0.9)\n",
      "Requirement already satisfied: pytz>=2020.1 in /Users/nico/anaconda3/lib/python3.10/site-packages (from pandas->vaex-core~=4.17.1->vaex) (2022.7)\n"
     ]
    },
    {
     "name": "stdout",
     "output_type": "stream",
     "text": [
      "Requirement already satisfied: pydantic-core==2.4.0 in /Users/nico/anaconda3/lib/python3.10/site-packages (from pydantic>=1.8.0->vaex-core~=4.17.1->vaex) (2.4.0)\n",
      "Requirement already satisfied: annotated-types>=0.4.0 in /Users/nico/anaconda3/lib/python3.10/site-packages (from pydantic>=1.8.0->vaex-core~=4.17.1->vaex) (0.5.0)\n",
      "Requirement already satisfied: typing-extensions>=4.6.1 in /Users/nico/anaconda3/lib/python3.10/site-packages (from pydantic>=1.8.0->vaex-core~=4.17.1->vaex) (4.7.1)\n",
      "Requirement already satisfied: pyerfa>=2.0 in /Users/nico/anaconda3/lib/python3.10/site-packages (from astropy->vaex-astro<0.10,>=0.9.3->vaex) (2.0.0)\n",
      "Requirement already satisfied: starlette<0.28.0,>=0.27.0 in /Users/nico/anaconda3/lib/python3.10/site-packages (from fastapi->vaex-server~=0.9.0->vaex) (0.27.0)\n",
      "Requirement already satisfied: branca>=0.5.0 in /Users/nico/anaconda3/lib/python3.10/site-packages (from ipyleaflet->vaex-jupyter<0.9,>=0.8.2->vaex) (0.6.0)\n",
      "Requirement already satisfied: xyzservices>=2021.8.1 in /Users/nico/anaconda3/lib/python3.10/site-packages (from ipyleaflet->vaex-jupyter<0.9,>=0.8.2->vaex) (2023.7.0)\n",
      "Requirement already satisfied: ipython<9 in /Users/nico/anaconda3/lib/python3.10/site-packages (from ipympl->vaex-jupyter<0.9,>=0.8.2->vaex) (8.10.0)\n",
      "Requirement already satisfied: ipython-genutils in /Users/nico/anaconda3/lib/python3.10/site-packages (from ipympl->vaex-jupyter<0.9,>=0.8.2->vaex) (0.2.0)\n",
      "Requirement already satisfied: MarkupSafe>=2.0 in /Users/nico/anaconda3/lib/python3.10/site-packages (from jinja2->vaex-ml<0.19,>=0.18.3->vaex) (2.1.1)\n",
      "Requirement already satisfied: setuptools in /Users/nico/anaconda3/lib/python3.10/site-packages (from numba->vaex-ml<0.19,>=0.18.3->vaex) (65.6.3)\n",
      "Requirement already satisfied: llvmlite<0.40,>=0.39.0dev0 in /Users/nico/anaconda3/lib/python3.10/site-packages (from numba->vaex-ml<0.19,>=0.18.3->vaex) (0.39.1)\n",
      "Requirement already satisfied: python-utils>=3.0.0 in /Users/nico/anaconda3/lib/python3.10/site-packages (from progressbar2->vaex-core~=4.17.1->vaex) (3.7.0)\n",
      "Requirement already satisfied: urllib3<1.27,>=1.21.1 in /Users/nico/anaconda3/lib/python3.10/site-packages (from requests->vaex-core~=4.17.1->vaex) (1.26.14)\n",
      "Requirement already satisfied: idna<4,>=2.5 in /Users/nico/anaconda3/lib/python3.10/site-packages (from requests->vaex-core~=4.17.1->vaex) (3.4)\n",
      "Requirement already satisfied: certifi>=2017.4.17 in /Users/nico/anaconda3/lib/python3.10/site-packages (from requests->vaex-core~=4.17.1->vaex) (2023.7.22)\n",
      "Requirement already satisfied: charset-normalizer<3,>=2 in /Users/nico/anaconda3/lib/python3.10/site-packages (from requests->vaex-core~=4.17.1->vaex) (2.0.4)\n",
      "Requirement already satisfied: pygments<3.0.0,>=2.13.0 in /Users/nico/anaconda3/lib/python3.10/site-packages (from rich->vaex-core~=4.17.1->vaex) (2.15.1)\n",
      "Requirement already satisfied: markdown-it-py>=2.2.0 in /Users/nico/anaconda3/lib/python3.10/site-packages (from rich->vaex-core~=4.17.1->vaex) (3.0.0)\n",
      "Requirement already satisfied: click>=7.0 in /Users/nico/anaconda3/lib/python3.10/site-packages (from uvicorn[standard]->vaex-server~=0.9.0->vaex) (8.0.4)\n",
      "Requirement already satisfied: h11>=0.8 in /Users/nico/anaconda3/lib/python3.10/site-packages (from uvicorn[standard]->vaex-server~=0.9.0->vaex) (0.14.0)\n",
      "Requirement already satisfied: python-dotenv>=0.13 in /Users/nico/anaconda3/lib/python3.10/site-packages (from uvicorn[standard]->vaex-server~=0.9.0->vaex) (1.0.0)\n",
      "Requirement already satisfied: httptools>=0.5.0 in /Users/nico/anaconda3/lib/python3.10/site-packages (from uvicorn[standard]->vaex-server~=0.9.0->vaex) (0.6.0)\n",
      "Requirement already satisfied: watchfiles>=0.13 in /Users/nico/anaconda3/lib/python3.10/site-packages (from uvicorn[standard]->vaex-server~=0.9.0->vaex) (0.19.0)\n",
      "Requirement already satisfied: websockets>=10.4 in /Users/nico/anaconda3/lib/python3.10/site-packages (from uvicorn[standard]->vaex-server~=0.9.0->vaex) (11.0.3)\n",
      "Requirement already satisfied: uvloop!=0.15.0,!=0.15.1,>=0.14.0 in /Users/nico/anaconda3/lib/python3.10/site-packages (from uvicorn[standard]->vaex-server~=0.9.0->vaex) (0.17.0)\n",
      "Requirement already satisfied: prompt-toolkit<3.1.0,>=3.0.30 in /Users/nico/anaconda3/lib/python3.10/site-packages (from ipython<9->ipympl->vaex-jupyter<0.9,>=0.8.2->vaex) (3.0.36)\n",
      "Requirement already satisfied: matplotlib-inline in /Users/nico/anaconda3/lib/python3.10/site-packages (from ipython<9->ipympl->vaex-jupyter<0.9,>=0.8.2->vaex) (0.1.6)\n",
      "Requirement already satisfied: pickleshare in /Users/nico/anaconda3/lib/python3.10/site-packages (from ipython<9->ipympl->vaex-jupyter<0.9,>=0.8.2->vaex) (0.7.5)\n",
      "Requirement already satisfied: jedi>=0.16 in /Users/nico/anaconda3/lib/python3.10/site-packages (from ipython<9->ipympl->vaex-jupyter<0.9,>=0.8.2->vaex) (0.18.1)\n",
      "Requirement already satisfied: decorator in /Users/nico/anaconda3/lib/python3.10/site-packages (from ipython<9->ipympl->vaex-jupyter<0.9,>=0.8.2->vaex) (5.1.1)\n",
      "Requirement already satisfied: stack-data in /Users/nico/anaconda3/lib/python3.10/site-packages (from ipython<9->ipympl->vaex-jupyter<0.9,>=0.8.2->vaex) (0.2.0)\n",
      "Requirement already satisfied: pexpect>4.3 in /Users/nico/anaconda3/lib/python3.10/site-packages (from ipython<9->ipympl->vaex-jupyter<0.9,>=0.8.2->vaex) (4.8.0)\n",
      "Requirement already satisfied: backcall in /Users/nico/anaconda3/lib/python3.10/site-packages (from ipython<9->ipympl->vaex-jupyter<0.9,>=0.8.2->vaex) (0.2.0)\n",
      "Requirement already satisfied: appnope in /Users/nico/anaconda3/lib/python3.10/site-packages (from ipython<9->ipympl->vaex-jupyter<0.9,>=0.8.2->vaex) (0.1.2)\n",
      "Requirement already satisfied: jupyterlab-widgets>=1.0.0 in /Users/nico/anaconda3/lib/python3.10/site-packages (from ipywidgets<9,>=7.5.0->bqplot>=0.10.1->vaex-jupyter<0.9,>=0.8.2->vaex) (1.0.0)\n",
      "Requirement already satisfied: widgetsnbextension~=3.5.0 in /Users/nico/anaconda3/lib/python3.10/site-packages (from ipywidgets<9,>=7.5.0->bqplot>=0.10.1->vaex-jupyter<0.9,>=0.8.2->vaex) (3.5.2)\n",
      "Requirement already satisfied: nbformat>=4.2.0 in /Users/nico/anaconda3/lib/python3.10/site-packages (from ipywidgets<9,>=7.5.0->bqplot>=0.10.1->vaex-jupyter<0.9,>=0.8.2->vaex) (5.7.0)\n",
      "Requirement already satisfied: ipykernel>=4.5.1 in /Users/nico/anaconda3/lib/python3.10/site-packages (from ipywidgets<9,>=7.5.0->bqplot>=0.10.1->vaex-jupyter<0.9,>=0.8.2->vaex) (6.19.2)\n",
      "Requirement already satisfied: mdurl~=0.1 in /Users/nico/anaconda3/lib/python3.10/site-packages (from markdown-it-py>=2.2.0->rich->vaex-core~=4.17.1->vaex) (0.1.2)\n",
      "Requirement already satisfied: locket in /Users/nico/anaconda3/lib/python3.10/site-packages (from partd>=0.3.10->dask!=2022.4.0->vaex-core~=4.17.1->vaex) (1.0.0)\n",
      "Requirement already satisfied: ipydatawidgets>=1.1.1 in /Users/nico/anaconda3/lib/python3.10/site-packages (from pythreejs>=2.4.0->ipyvolume>=0.4->vaex-jupyter<0.9,>=0.8.2->vaex) (4.3.5)\n",
      "Requirement already satisfied: anyio<5,>=3.4.0 in /Users/nico/anaconda3/lib/python3.10/site-packages (from starlette<0.28.0,>=0.27.0->fastapi->vaex-server~=0.9.0->vaex) (3.5.0)\n",
      "Requirement already satisfied: sniffio>=1.1 in /Users/nico/anaconda3/lib/python3.10/site-packages (from anyio<5,>=3.4.0->starlette<0.28.0,>=0.27.0->fastapi->vaex-server~=0.9.0->vaex) (1.2.0)\n",
      "Requirement already satisfied: debugpy>=1.0 in /Users/nico/anaconda3/lib/python3.10/site-packages (from ipykernel>=4.5.1->ipywidgets<9,>=7.5.0->bqplot>=0.10.1->vaex-jupyter<0.9,>=0.8.2->vaex) (1.5.1)\n",
      "Requirement already satisfied: psutil in /Users/nico/anaconda3/lib/python3.10/site-packages (from ipykernel>=4.5.1->ipywidgets<9,>=7.5.0->bqplot>=0.10.1->vaex-jupyter<0.9,>=0.8.2->vaex) (5.9.0)\n",
      "Requirement already satisfied: pyzmq>=17 in /Users/nico/anaconda3/lib/python3.10/site-packages (from ipykernel>=4.5.1->ipywidgets<9,>=7.5.0->bqplot>=0.10.1->vaex-jupyter<0.9,>=0.8.2->vaex) (23.2.0)\n",
      "Requirement already satisfied: comm>=0.1.1 in /Users/nico/anaconda3/lib/python3.10/site-packages (from ipykernel>=4.5.1->ipywidgets<9,>=7.5.0->bqplot>=0.10.1->vaex-jupyter<0.9,>=0.8.2->vaex) (0.1.2)\n",
      "Requirement already satisfied: jupyter-client>=6.1.12 in /Users/nico/anaconda3/lib/python3.10/site-packages (from ipykernel>=4.5.1->ipywidgets<9,>=7.5.0->bqplot>=0.10.1->vaex-jupyter<0.9,>=0.8.2->vaex) (7.3.4)\n",
      "Requirement already satisfied: parso<0.9.0,>=0.8.0 in /Users/nico/anaconda3/lib/python3.10/site-packages (from jedi>=0.16->ipython<9->ipympl->vaex-jupyter<0.9,>=0.8.2->vaex) (0.8.3)\n"
     ]
    },
    {
     "name": "stdout",
     "output_type": "stream",
     "text": [
      "Requirement already satisfied: jsonschema>=2.6 in /Users/nico/anaconda3/lib/python3.10/site-packages (from nbformat>=4.2.0->ipywidgets<9,>=7.5.0->bqplot>=0.10.1->vaex-jupyter<0.9,>=0.8.2->vaex) (4.17.3)\n",
      "Requirement already satisfied: jupyter-core in /Users/nico/anaconda3/lib/python3.10/site-packages (from nbformat>=4.2.0->ipywidgets<9,>=7.5.0->bqplot>=0.10.1->vaex-jupyter<0.9,>=0.8.2->vaex) (5.2.0)\n",
      "Requirement already satisfied: fastjsonschema in /Users/nico/anaconda3/lib/python3.10/site-packages (from nbformat>=4.2.0->ipywidgets<9,>=7.5.0->bqplot>=0.10.1->vaex-jupyter<0.9,>=0.8.2->vaex) (2.16.2)\n",
      "Requirement already satisfied: ptyprocess>=0.5 in /Users/nico/anaconda3/lib/python3.10/site-packages (from pexpect>4.3->ipython<9->ipympl->vaex-jupyter<0.9,>=0.8.2->vaex) (0.7.0)\n",
      "Requirement already satisfied: wcwidth in /Users/nico/anaconda3/lib/python3.10/site-packages (from prompt-toolkit<3.1.0,>=3.0.30->ipython<9->ipympl->vaex-jupyter<0.9,>=0.8.2->vaex) (0.2.5)\n",
      "Requirement already satisfied: notebook>=4.4.1 in /Users/nico/anaconda3/lib/python3.10/site-packages (from widgetsnbextension~=3.5.0->ipywidgets<9,>=7.5.0->bqplot>=0.10.1->vaex-jupyter<0.9,>=0.8.2->vaex) (6.5.2)\n",
      "Requirement already satisfied: executing in /Users/nico/anaconda3/lib/python3.10/site-packages (from stack-data->ipython<9->ipympl->vaex-jupyter<0.9,>=0.8.2->vaex) (0.8.3)\n",
      "Requirement already satisfied: asttokens in /Users/nico/anaconda3/lib/python3.10/site-packages (from stack-data->ipython<9->ipympl->vaex-jupyter<0.9,>=0.8.2->vaex) (2.0.5)\n",
      "Requirement already satisfied: pure-eval in /Users/nico/anaconda3/lib/python3.10/site-packages (from stack-data->ipython<9->ipympl->vaex-jupyter<0.9,>=0.8.2->vaex) (0.2.2)\n",
      "Requirement already satisfied: pyrsistent!=0.17.0,!=0.17.1,!=0.17.2,>=0.14.0 in /Users/nico/anaconda3/lib/python3.10/site-packages (from jsonschema>=2.6->nbformat>=4.2.0->ipywidgets<9,>=7.5.0->bqplot>=0.10.1->vaex-jupyter<0.9,>=0.8.2->vaex) (0.18.0)\n",
      "Requirement already satisfied: attrs>=17.4.0 in /Users/nico/anaconda3/lib/python3.10/site-packages (from jsonschema>=2.6->nbformat>=4.2.0->ipywidgets<9,>=7.5.0->bqplot>=0.10.1->vaex-jupyter<0.9,>=0.8.2->vaex) (22.1.0)\n",
      "Requirement already satisfied: entrypoints in /Users/nico/anaconda3/lib/python3.10/site-packages (from jupyter-client>=6.1.12->ipykernel>=4.5.1->ipywidgets<9,>=7.5.0->bqplot>=0.10.1->vaex-jupyter<0.9,>=0.8.2->vaex) (0.4)\n",
      "Requirement already satisfied: platformdirs>=2.5 in /Users/nico/anaconda3/lib/python3.10/site-packages (from jupyter-core->nbformat>=4.2.0->ipywidgets<9,>=7.5.0->bqplot>=0.10.1->vaex-jupyter<0.9,>=0.8.2->vaex) (2.5.2)\n",
      "Requirement already satisfied: nbconvert>=5 in /Users/nico/anaconda3/lib/python3.10/site-packages (from notebook>=4.4.1->widgetsnbextension~=3.5.0->ipywidgets<9,>=7.5.0->bqplot>=0.10.1->vaex-jupyter<0.9,>=0.8.2->vaex) (6.5.4)\n",
      "Requirement already satisfied: terminado>=0.8.3 in /Users/nico/anaconda3/lib/python3.10/site-packages (from notebook>=4.4.1->widgetsnbextension~=3.5.0->ipywidgets<9,>=7.5.0->bqplot>=0.10.1->vaex-jupyter<0.9,>=0.8.2->vaex) (0.17.1)\n",
      "Requirement already satisfied: nbclassic>=0.4.7 in /Users/nico/anaconda3/lib/python3.10/site-packages (from notebook>=4.4.1->widgetsnbextension~=3.5.0->ipywidgets<9,>=7.5.0->bqplot>=0.10.1->vaex-jupyter<0.9,>=0.8.2->vaex) (0.5.2)\n",
      "Requirement already satisfied: argon2-cffi in /Users/nico/anaconda3/lib/python3.10/site-packages (from notebook>=4.4.1->widgetsnbextension~=3.5.0->ipywidgets<9,>=7.5.0->bqplot>=0.10.1->vaex-jupyter<0.9,>=0.8.2->vaex) (21.3.0)\n",
      "Requirement already satisfied: prometheus-client in /Users/nico/anaconda3/lib/python3.10/site-packages (from notebook>=4.4.1->widgetsnbextension~=3.5.0->ipywidgets<9,>=7.5.0->bqplot>=0.10.1->vaex-jupyter<0.9,>=0.8.2->vaex) (0.14.1)\n",
      "Requirement already satisfied: Send2Trash>=1.8.0 in /Users/nico/anaconda3/lib/python3.10/site-packages (from notebook>=4.4.1->widgetsnbextension~=3.5.0->ipywidgets<9,>=7.5.0->bqplot>=0.10.1->vaex-jupyter<0.9,>=0.8.2->vaex) (1.8.0)\n",
      "Requirement already satisfied: jupyter-server>=1.8 in /Users/nico/anaconda3/lib/python3.10/site-packages (from nbclassic>=0.4.7->notebook>=4.4.1->widgetsnbextension~=3.5.0->ipywidgets<9,>=7.5.0->bqplot>=0.10.1->vaex-jupyter<0.9,>=0.8.2->vaex) (1.23.4)\n",
      "Requirement already satisfied: notebook-shim>=0.1.0 in /Users/nico/anaconda3/lib/python3.10/site-packages (from nbclassic>=0.4.7->notebook>=4.4.1->widgetsnbextension~=3.5.0->ipywidgets<9,>=7.5.0->bqplot>=0.10.1->vaex-jupyter<0.9,>=0.8.2->vaex) (0.2.2)\n",
      "Requirement already satisfied: mistune<2,>=0.8.1 in /Users/nico/anaconda3/lib/python3.10/site-packages (from nbconvert>=5->notebook>=4.4.1->widgetsnbextension~=3.5.0->ipywidgets<9,>=7.5.0->bqplot>=0.10.1->vaex-jupyter<0.9,>=0.8.2->vaex) (0.8.4)\n",
      "Requirement already satisfied: beautifulsoup4 in /Users/nico/anaconda3/lib/python3.10/site-packages (from nbconvert>=5->notebook>=4.4.1->widgetsnbextension~=3.5.0->ipywidgets<9,>=7.5.0->bqplot>=0.10.1->vaex-jupyter<0.9,>=0.8.2->vaex) (4.11.1)\n",
      "Requirement already satisfied: nbclient>=0.5.0 in /Users/nico/anaconda3/lib/python3.10/site-packages (from nbconvert>=5->notebook>=4.4.1->widgetsnbextension~=3.5.0->ipywidgets<9,>=7.5.0->bqplot>=0.10.1->vaex-jupyter<0.9,>=0.8.2->vaex) (0.5.13)\n",
      "Requirement already satisfied: tinycss2 in /Users/nico/anaconda3/lib/python3.10/site-packages (from nbconvert>=5->notebook>=4.4.1->widgetsnbextension~=3.5.0->ipywidgets<9,>=7.5.0->bqplot>=0.10.1->vaex-jupyter<0.9,>=0.8.2->vaex) (1.2.1)\n",
      "Requirement already satisfied: bleach in /Users/nico/anaconda3/lib/python3.10/site-packages (from nbconvert>=5->notebook>=4.4.1->widgetsnbextension~=3.5.0->ipywidgets<9,>=7.5.0->bqplot>=0.10.1->vaex-jupyter<0.9,>=0.8.2->vaex) (4.1.0)\n",
      "Requirement already satisfied: lxml in /Users/nico/anaconda3/lib/python3.10/site-packages (from nbconvert>=5->notebook>=4.4.1->widgetsnbextension~=3.5.0->ipywidgets<9,>=7.5.0->bqplot>=0.10.1->vaex-jupyter<0.9,>=0.8.2->vaex) (4.9.1)\n",
      "Requirement already satisfied: pandocfilters>=1.4.1 in /Users/nico/anaconda3/lib/python3.10/site-packages (from nbconvert>=5->notebook>=4.4.1->widgetsnbextension~=3.5.0->ipywidgets<9,>=7.5.0->bqplot>=0.10.1->vaex-jupyter<0.9,>=0.8.2->vaex) (1.5.0)\n",
      "Requirement already satisfied: defusedxml in /Users/nico/anaconda3/lib/python3.10/site-packages (from nbconvert>=5->notebook>=4.4.1->widgetsnbextension~=3.5.0->ipywidgets<9,>=7.5.0->bqplot>=0.10.1->vaex-jupyter<0.9,>=0.8.2->vaex) (0.7.1)\n",
      "Requirement already satisfied: jupyterlab-pygments in /Users/nico/anaconda3/lib/python3.10/site-packages (from nbconvert>=5->notebook>=4.4.1->widgetsnbextension~=3.5.0->ipywidgets<9,>=7.5.0->bqplot>=0.10.1->vaex-jupyter<0.9,>=0.8.2->vaex) (0.1.2)\n",
      "Requirement already satisfied: argon2-cffi-bindings in /Users/nico/anaconda3/lib/python3.10/site-packages (from argon2-cffi->notebook>=4.4.1->widgetsnbextension~=3.5.0->ipywidgets<9,>=7.5.0->bqplot>=0.10.1->vaex-jupyter<0.9,>=0.8.2->vaex) (21.2.0)\n",
      "Requirement already satisfied: websocket-client in /Users/nico/anaconda3/lib/python3.10/site-packages (from jupyter-server>=1.8->nbclassic>=0.4.7->notebook>=4.4.1->widgetsnbextension~=3.5.0->ipywidgets<9,>=7.5.0->bqplot>=0.10.1->vaex-jupyter<0.9,>=0.8.2->vaex) (0.58.0)\n",
      "Requirement already satisfied: cffi>=1.0.1 in /Users/nico/anaconda3/lib/python3.10/site-packages (from argon2-cffi-bindings->argon2-cffi->notebook>=4.4.1->widgetsnbextension~=3.5.0->ipywidgets<9,>=7.5.0->bqplot>=0.10.1->vaex-jupyter<0.9,>=0.8.2->vaex) (1.15.1)\n",
      "Requirement already satisfied: soupsieve>1.2 in /Users/nico/anaconda3/lib/python3.10/site-packages (from beautifulsoup4->nbconvert>=5->notebook>=4.4.1->widgetsnbextension~=3.5.0->ipywidgets<9,>=7.5.0->bqplot>=0.10.1->vaex-jupyter<0.9,>=0.8.2->vaex) (2.3.2.post1)\n",
      "Requirement already satisfied: webencodings in /Users/nico/anaconda3/lib/python3.10/site-packages (from bleach->nbconvert>=5->notebook>=4.4.1->widgetsnbextension~=3.5.0->ipywidgets<9,>=7.5.0->bqplot>=0.10.1->vaex-jupyter<0.9,>=0.8.2->vaex) (0.5.1)\n",
      "Requirement already satisfied: pycparser in /Users/nico/anaconda3/lib/python3.10/site-packages (from cffi>=1.0.1->argon2-cffi-bindings->argon2-cffi->notebook>=4.4.1->widgetsnbextension~=3.5.0->ipywidgets<9,>=7.5.0->bqplot>=0.10.1->vaex-jupyter<0.9,>=0.8.2->vaex) (2.21)\n"
     ]
    },
    {
     "name": "stdout",
     "output_type": "stream",
     "text": [
      "Note: you may need to restart the kernel to use updated packages.\n",
      "Requirement already satisfied: vaex-viz in /Users/nico/anaconda3/lib/python3.10/site-packages (0.5.4)\n",
      "Requirement already satisfied: matplotlib>=1.3.1 in /Users/nico/anaconda3/lib/python3.10/site-packages (from vaex-viz) (3.7.0)\n",
      "Requirement already satisfied: pillow in /Users/nico/anaconda3/lib/python3.10/site-packages (from vaex-viz) (9.4.0)\n",
      "Requirement already satisfied: vaex-core<5,>=4.0.0 in /Users/nico/anaconda3/lib/python3.10/site-packages (from vaex-viz) (4.17.1)\n",
      "Requirement already satisfied: contourpy>=1.0.1 in /Users/nico/anaconda3/lib/python3.10/site-packages (from matplotlib>=1.3.1->vaex-viz) (1.0.5)\n",
      "Requirement already satisfied: kiwisolver>=1.0.1 in /Users/nico/anaconda3/lib/python3.10/site-packages (from matplotlib>=1.3.1->vaex-viz) (1.4.4)\n",
      "Requirement already satisfied: pyparsing>=2.3.1 in /Users/nico/anaconda3/lib/python3.10/site-packages (from matplotlib>=1.3.1->vaex-viz) (3.0.9)\n",
      "Requirement already satisfied: cycler>=0.10 in /Users/nico/anaconda3/lib/python3.10/site-packages (from matplotlib>=1.3.1->vaex-viz) (0.11.0)\n",
      "Requirement already satisfied: python-dateutil>=2.7 in /Users/nico/anaconda3/lib/python3.10/site-packages (from matplotlib>=1.3.1->vaex-viz) (2.8.2)\n",
      "Requirement already satisfied: numpy>=1.20 in /Users/nico/anaconda3/lib/python3.10/site-packages (from matplotlib>=1.3.1->vaex-viz) (1.23.5)\n",
      "Requirement already satisfied: fonttools>=4.22.0 in /Users/nico/anaconda3/lib/python3.10/site-packages (from matplotlib>=1.3.1->vaex-viz) (4.25.0)\n",
      "Requirement already satisfied: packaging>=20.0 in /Users/nico/anaconda3/lib/python3.10/site-packages (from matplotlib>=1.3.1->vaex-viz) (22.0)\n",
      "Requirement already satisfied: dask!=2022.4.0 in /Users/nico/anaconda3/lib/python3.10/site-packages (from vaex-core<5,>=4.0.0->vaex-viz) (2022.7.0)\n",
      "Requirement already satisfied: pyarrow>=5.0.0 in /Users/nico/anaconda3/lib/python3.10/site-packages (from vaex-core<5,>=4.0.0->vaex-viz) (12.0.1)\n",
      "Requirement already satisfied: pandas in /Users/nico/anaconda3/lib/python3.10/site-packages (from vaex-core<5,>=4.0.0->vaex-viz) (1.5.3)\n",
      "Requirement already satisfied: aplus in /Users/nico/anaconda3/lib/python3.10/site-packages (from vaex-core<5,>=4.0.0->vaex-viz) (0.11.0)\n",
      "Requirement already satisfied: rich in /Users/nico/anaconda3/lib/python3.10/site-packages (from vaex-core<5,>=4.0.0->vaex-viz) (13.5.2)\n",
      "Requirement already satisfied: requests in /Users/nico/anaconda3/lib/python3.10/site-packages (from vaex-core<5,>=4.0.0->vaex-viz) (2.28.1)\n",
      "Requirement already satisfied: pydantic>=1.8.0 in /Users/nico/anaconda3/lib/python3.10/site-packages (from vaex-core<5,>=4.0.0->vaex-viz) (2.1.1)\n",
      "Requirement already satisfied: progressbar2 in /Users/nico/anaconda3/lib/python3.10/site-packages (from vaex-core<5,>=4.0.0->vaex-viz) (4.2.0)\n",
      "Requirement already satisfied: future>=0.15.2 in /Users/nico/anaconda3/lib/python3.10/site-packages (from vaex-core<5,>=4.0.0->vaex-viz) (0.18.3)\n",
      "Requirement already satisfied: frozendict!=2.2.0 in /Users/nico/anaconda3/lib/python3.10/site-packages (from vaex-core<5,>=4.0.0->vaex-viz) (2.3.8)\n",
      "Requirement already satisfied: filelock in /Users/nico/anaconda3/lib/python3.10/site-packages (from vaex-core<5,>=4.0.0->vaex-viz) (3.9.0)\n",
      "Requirement already satisfied: pyyaml in /Users/nico/anaconda3/lib/python3.10/site-packages (from vaex-core<5,>=4.0.0->vaex-viz) (6.0)\n",
      "Requirement already satisfied: six in /Users/nico/anaconda3/lib/python3.10/site-packages (from vaex-core<5,>=4.0.0->vaex-viz) (1.16.0)\n",
      "Requirement already satisfied: nest-asyncio>=1.3.3 in /Users/nico/anaconda3/lib/python3.10/site-packages (from vaex-core<5,>=4.0.0->vaex-viz) (1.5.6)\n",
      "Requirement already satisfied: cloudpickle in /Users/nico/anaconda3/lib/python3.10/site-packages (from vaex-core<5,>=4.0.0->vaex-viz) (2.0.0)\n",
      "Requirement already satisfied: blake3 in /Users/nico/anaconda3/lib/python3.10/site-packages (from vaex-core<5,>=4.0.0->vaex-viz) (0.3.3)\n",
      "Requirement already satisfied: tabulate>=0.8.3 in /Users/nico/anaconda3/lib/python3.10/site-packages (from vaex-core<5,>=4.0.0->vaex-viz) (0.8.10)\n",
      "Requirement already satisfied: fsspec>=0.6.0 in /Users/nico/anaconda3/lib/python3.10/site-packages (from dask!=2022.4.0->vaex-core<5,>=4.0.0->vaex-viz) (2022.11.0)\n",
      "Requirement already satisfied: toolz>=0.8.2 in /Users/nico/anaconda3/lib/python3.10/site-packages (from dask!=2022.4.0->vaex-core<5,>=4.0.0->vaex-viz) (0.12.0)\n",
      "Requirement already satisfied: partd>=0.3.10 in /Users/nico/anaconda3/lib/python3.10/site-packages (from dask!=2022.4.0->vaex-core<5,>=4.0.0->vaex-viz) (1.2.0)\n",
      "Requirement already satisfied: annotated-types>=0.4.0 in /Users/nico/anaconda3/lib/python3.10/site-packages (from pydantic>=1.8.0->vaex-core<5,>=4.0.0->vaex-viz) (0.5.0)\n",
      "Requirement already satisfied: pydantic-core==2.4.0 in /Users/nico/anaconda3/lib/python3.10/site-packages (from pydantic>=1.8.0->vaex-core<5,>=4.0.0->vaex-viz) (2.4.0)\n",
      "Requirement already satisfied: typing-extensions>=4.6.1 in /Users/nico/anaconda3/lib/python3.10/site-packages (from pydantic>=1.8.0->vaex-core<5,>=4.0.0->vaex-viz) (4.7.1)\n",
      "Requirement already satisfied: pytz>=2020.1 in /Users/nico/anaconda3/lib/python3.10/site-packages (from pandas->vaex-core<5,>=4.0.0->vaex-viz) (2022.7)\n",
      "Requirement already satisfied: python-utils>=3.0.0 in /Users/nico/anaconda3/lib/python3.10/site-packages (from progressbar2->vaex-core<5,>=4.0.0->vaex-viz) (3.7.0)\n",
      "Requirement already satisfied: urllib3<1.27,>=1.21.1 in /Users/nico/anaconda3/lib/python3.10/site-packages (from requests->vaex-core<5,>=4.0.0->vaex-viz) (1.26.14)\n",
      "Requirement already satisfied: idna<4,>=2.5 in /Users/nico/anaconda3/lib/python3.10/site-packages (from requests->vaex-core<5,>=4.0.0->vaex-viz) (3.4)\n",
      "Requirement already satisfied: charset-normalizer<3,>=2 in /Users/nico/anaconda3/lib/python3.10/site-packages (from requests->vaex-core<5,>=4.0.0->vaex-viz) (2.0.4)\n",
      "Requirement already satisfied: certifi>=2017.4.17 in /Users/nico/anaconda3/lib/python3.10/site-packages (from requests->vaex-core<5,>=4.0.0->vaex-viz) (2023.7.22)\n",
      "Requirement already satisfied: pygments<3.0.0,>=2.13.0 in /Users/nico/anaconda3/lib/python3.10/site-packages (from rich->vaex-core<5,>=4.0.0->vaex-viz) (2.15.1)\n",
      "Requirement already satisfied: markdown-it-py>=2.2.0 in /Users/nico/anaconda3/lib/python3.10/site-packages (from rich->vaex-core<5,>=4.0.0->vaex-viz) (3.0.0)\n",
      "Requirement already satisfied: mdurl~=0.1 in /Users/nico/anaconda3/lib/python3.10/site-packages (from markdown-it-py>=2.2.0->rich->vaex-core<5,>=4.0.0->vaex-viz) (0.1.2)\n",
      "Requirement already satisfied: locket in /Users/nico/anaconda3/lib/python3.10/site-packages (from partd>=0.3.10->dask!=2022.4.0->vaex-core<5,>=4.0.0->vaex-viz) (1.0.0)\n",
      "Note: you may need to restart the kernel to use updated packages.\n"
     ]
    }
   ],
   "source": [
    "%pip install vaex\n",
    "%pip install vaex-viz"
   ]
  },
  {
   "cell_type": "code",
   "execution_count": 2,
   "id": "49153d7d",
   "metadata": {},
   "outputs": [],
   "source": [
    "import pandas as pd\n",
    "import numpy as np\n",
    "import seaborn as sns\n",
    "import matplotlib.pyplot as mat\n",
    "import plotly.express as px\n",
    "\n"
   ]
  },
  {
   "cell_type": "code",
   "execution_count": 3,
   "id": "c1dbdd50",
   "metadata": {},
   "outputs": [],
   "source": [
    "# Importing Data\n",
    "data = pd.read_csv('data/Electric_Vehicle_Population_Data.csv')"
   ]
  },
  {
   "cell_type": "code",
   "execution_count": 4,
   "id": "62089cd5",
   "metadata": {},
   "outputs": [
    {
     "data": {
      "text/html": [
       "<div>\n",
       "<style scoped>\n",
       "    .dataframe tbody tr th:only-of-type {\n",
       "        vertical-align: middle;\n",
       "    }\n",
       "\n",
       "    .dataframe tbody tr th {\n",
       "        vertical-align: top;\n",
       "    }\n",
       "\n",
       "    .dataframe thead th {\n",
       "        text-align: right;\n",
       "    }\n",
       "</style>\n",
       "<table border=\"1\" class=\"dataframe\">\n",
       "  <thead>\n",
       "    <tr style=\"text-align: right;\">\n",
       "      <th></th>\n",
       "      <th>VIN (1-10)</th>\n",
       "      <th>County</th>\n",
       "      <th>City</th>\n",
       "      <th>State</th>\n",
       "      <th>Postal Code</th>\n",
       "      <th>Model Year</th>\n",
       "      <th>Make</th>\n",
       "      <th>Model</th>\n",
       "      <th>Electric Vehicle Type</th>\n",
       "      <th>Clean Alternative Fuel Vehicle (CAFV) Eligibility</th>\n",
       "      <th>Electric Range</th>\n",
       "      <th>Base MSRP</th>\n",
       "      <th>Legislative District</th>\n",
       "      <th>DOL Vehicle ID</th>\n",
       "      <th>Vehicle Location</th>\n",
       "      <th>Electric Utility</th>\n",
       "      <th>2020 Census Tract</th>\n",
       "    </tr>\n",
       "  </thead>\n",
       "  <tbody>\n",
       "    <tr>\n",
       "      <th>0</th>\n",
       "      <td>JTMEB3FV6N</td>\n",
       "      <td>Monroe</td>\n",
       "      <td>Key West</td>\n",
       "      <td>FL</td>\n",
       "      <td>33040</td>\n",
       "      <td>2022</td>\n",
       "      <td>TOYOTA</td>\n",
       "      <td>RAV4 PRIME</td>\n",
       "      <td>Plug-in Hybrid Electric Vehicle (PHEV)</td>\n",
       "      <td>Clean Alternative Fuel Vehicle Eligible</td>\n",
       "      <td>42</td>\n",
       "      <td>0</td>\n",
       "      <td>NaN</td>\n",
       "      <td>198968248</td>\n",
       "      <td>POINT (-81.80023 24.5545)</td>\n",
       "      <td>NaN</td>\n",
       "      <td>12087972100</td>\n",
       "    </tr>\n",
       "    <tr>\n",
       "      <th>1</th>\n",
       "      <td>1G1RD6E45D</td>\n",
       "      <td>Clark</td>\n",
       "      <td>Laughlin</td>\n",
       "      <td>NV</td>\n",
       "      <td>89029</td>\n",
       "      <td>2013</td>\n",
       "      <td>CHEVROLET</td>\n",
       "      <td>VOLT</td>\n",
       "      <td>Plug-in Hybrid Electric Vehicle (PHEV)</td>\n",
       "      <td>Clean Alternative Fuel Vehicle Eligible</td>\n",
       "      <td>38</td>\n",
       "      <td>0</td>\n",
       "      <td>NaN</td>\n",
       "      <td>5204412</td>\n",
       "      <td>POINT (-114.57245 35.16815)</td>\n",
       "      <td>NaN</td>\n",
       "      <td>32003005702</td>\n",
       "    </tr>\n",
       "    <tr>\n",
       "      <th>2</th>\n",
       "      <td>JN1AZ0CP8B</td>\n",
       "      <td>Yakima</td>\n",
       "      <td>Yakima</td>\n",
       "      <td>WA</td>\n",
       "      <td>98901</td>\n",
       "      <td>2011</td>\n",
       "      <td>NISSAN</td>\n",
       "      <td>LEAF</td>\n",
       "      <td>Battery Electric Vehicle (BEV)</td>\n",
       "      <td>Clean Alternative Fuel Vehicle Eligible</td>\n",
       "      <td>73</td>\n",
       "      <td>0</td>\n",
       "      <td>15.0</td>\n",
       "      <td>218972519</td>\n",
       "      <td>POINT (-120.50721 46.60448)</td>\n",
       "      <td>PACIFICORP</td>\n",
       "      <td>53077001602</td>\n",
       "    </tr>\n",
       "    <tr>\n",
       "      <th>3</th>\n",
       "      <td>1G1FW6S08H</td>\n",
       "      <td>Skagit</td>\n",
       "      <td>Concrete</td>\n",
       "      <td>WA</td>\n",
       "      <td>98237</td>\n",
       "      <td>2017</td>\n",
       "      <td>CHEVROLET</td>\n",
       "      <td>BOLT EV</td>\n",
       "      <td>Battery Electric Vehicle (BEV)</td>\n",
       "      <td>Clean Alternative Fuel Vehicle Eligible</td>\n",
       "      <td>238</td>\n",
       "      <td>0</td>\n",
       "      <td>39.0</td>\n",
       "      <td>186750406</td>\n",
       "      <td>POINT (-121.7515 48.53892)</td>\n",
       "      <td>PUGET SOUND ENERGY INC</td>\n",
       "      <td>53057951101</td>\n",
       "    </tr>\n",
       "    <tr>\n",
       "      <th>4</th>\n",
       "      <td>3FA6P0SU1K</td>\n",
       "      <td>Snohomish</td>\n",
       "      <td>Everett</td>\n",
       "      <td>WA</td>\n",
       "      <td>98201</td>\n",
       "      <td>2019</td>\n",
       "      <td>FORD</td>\n",
       "      <td>FUSION</td>\n",
       "      <td>Plug-in Hybrid Electric Vehicle (PHEV)</td>\n",
       "      <td>Not eligible due to low battery range</td>\n",
       "      <td>26</td>\n",
       "      <td>0</td>\n",
       "      <td>38.0</td>\n",
       "      <td>2006714</td>\n",
       "      <td>POINT (-122.20596 47.97659)</td>\n",
       "      <td>PUGET SOUND ENERGY INC</td>\n",
       "      <td>53061041500</td>\n",
       "    </tr>\n",
       "  </tbody>\n",
       "</table>\n",
       "</div>"
      ],
      "text/plain": [
       "   VIN (1-10)     County      City State  Postal Code  Model Year       Make  \\\n",
       "0  JTMEB3FV6N     Monroe  Key West    FL        33040        2022     TOYOTA   \n",
       "1  1G1RD6E45D      Clark  Laughlin    NV        89029        2013  CHEVROLET   \n",
       "2  JN1AZ0CP8B     Yakima    Yakima    WA        98901        2011     NISSAN   \n",
       "3  1G1FW6S08H     Skagit  Concrete    WA        98237        2017  CHEVROLET   \n",
       "4  3FA6P0SU1K  Snohomish   Everett    WA        98201        2019       FORD   \n",
       "\n",
       "        Model                   Electric Vehicle Type  \\\n",
       "0  RAV4 PRIME  Plug-in Hybrid Electric Vehicle (PHEV)   \n",
       "1        VOLT  Plug-in Hybrid Electric Vehicle (PHEV)   \n",
       "2        LEAF          Battery Electric Vehicle (BEV)   \n",
       "3     BOLT EV          Battery Electric Vehicle (BEV)   \n",
       "4      FUSION  Plug-in Hybrid Electric Vehicle (PHEV)   \n",
       "\n",
       "  Clean Alternative Fuel Vehicle (CAFV) Eligibility  Electric Range  \\\n",
       "0           Clean Alternative Fuel Vehicle Eligible              42   \n",
       "1           Clean Alternative Fuel Vehicle Eligible              38   \n",
       "2           Clean Alternative Fuel Vehicle Eligible              73   \n",
       "3           Clean Alternative Fuel Vehicle Eligible             238   \n",
       "4             Not eligible due to low battery range              26   \n",
       "\n",
       "   Base MSRP  Legislative District  DOL Vehicle ID  \\\n",
       "0          0                   NaN       198968248   \n",
       "1          0                   NaN         5204412   \n",
       "2          0                  15.0       218972519   \n",
       "3          0                  39.0       186750406   \n",
       "4          0                  38.0         2006714   \n",
       "\n",
       "              Vehicle Location        Electric Utility  2020 Census Tract  \n",
       "0    POINT (-81.80023 24.5545)                     NaN        12087972100  \n",
       "1  POINT (-114.57245 35.16815)                     NaN        32003005702  \n",
       "2  POINT (-120.50721 46.60448)              PACIFICORP        53077001602  \n",
       "3   POINT (-121.7515 48.53892)  PUGET SOUND ENERGY INC        53057951101  \n",
       "4  POINT (-122.20596 47.97659)  PUGET SOUND ENERGY INC        53061041500  "
      ]
     },
     "execution_count": 4,
     "metadata": {},
     "output_type": "execute_result"
    }
   ],
   "source": [
    "data.head()"
   ]
  },
  {
   "cell_type": "code",
   "execution_count": 5,
   "id": "aaf3d256",
   "metadata": {},
   "outputs": [
    {
     "name": "stdout",
     "output_type": "stream",
     "text": [
      "<class 'pandas.core.frame.DataFrame'>\n",
      "RangeIndex: 112634 entries, 0 to 112633\n",
      "Data columns (total 17 columns):\n",
      " #   Column                                             Non-Null Count   Dtype  \n",
      "---  ------                                             --------------   -----  \n",
      " 0   VIN (1-10)                                         112634 non-null  object \n",
      " 1   County                                             112634 non-null  object \n",
      " 2   City                                               112634 non-null  object \n",
      " 3   State                                              112634 non-null  object \n",
      " 4   Postal Code                                        112634 non-null  int64  \n",
      " 5   Model Year                                         112634 non-null  int64  \n",
      " 6   Make                                               112634 non-null  object \n",
      " 7   Model                                              112614 non-null  object \n",
      " 8   Electric Vehicle Type                              112634 non-null  object \n",
      " 9   Clean Alternative Fuel Vehicle (CAFV) Eligibility  112634 non-null  object \n",
      " 10  Electric Range                                     112634 non-null  int64  \n",
      " 11  Base MSRP                                          112634 non-null  int64  \n",
      " 12  Legislative District                               112348 non-null  float64\n",
      " 13  DOL Vehicle ID                                     112634 non-null  int64  \n",
      " 14  Vehicle Location                                   112610 non-null  object \n",
      " 15  Electric Utility                                   112191 non-null  object \n",
      " 16  2020 Census Tract                                  112634 non-null  int64  \n",
      "dtypes: float64(1), int64(6), object(10)\n",
      "memory usage: 87.3 MB\n"
     ]
    }
   ],
   "source": [
    "# Checking columns and nan values\n",
    "data.info(memory_usage= 'deep')"
   ]
  },
  {
   "cell_type": "code",
   "execution_count": 6,
   "id": "416d207d",
   "metadata": {},
   "outputs": [],
   "source": [
    "# Eliminating columns based on objective \n",
    "data.drop('VIN (1-10)', axis = 1, inplace = True)\n",
    "data.drop('2020 Census Tract', axis = 1, inplace = True)\n",
    "data.drop('DOL Vehicle ID', axis = 1, inplace = True)\n",
    "data.drop('Legislative District', axis = 1, inplace = True)"
   ]
  },
  {
   "cell_type": "code",
   "execution_count": 7,
   "id": "813831fc",
   "metadata": {},
   "outputs": [
    {
     "data": {
      "text/plain": [
       "112604"
      ]
     },
     "execution_count": 7,
     "metadata": {},
     "output_type": "execute_result"
    }
   ],
   "source": [
    "data['Base MSRP'].duplicated().sum()"
   ]
  },
  {
   "cell_type": "code",
   "execution_count": 8,
   "id": "76f9718a",
   "metadata": {},
   "outputs": [],
   "source": [
    "# More than 90% duplicates \n",
    "data.drop('Base MSRP', axis = 1, inplace = True)\n"
   ]
  },
  {
   "cell_type": "code",
   "execution_count": 9,
   "id": "bec21313",
   "metadata": {},
   "outputs": [
    {
     "name": "stdout",
     "output_type": "stream",
     "text": [
      "<class 'pandas.core.frame.DataFrame'>\n",
      "RangeIndex: 112634 entries, 0 to 112633\n",
      "Data columns (total 12 columns):\n",
      " #   Column                                             Non-Null Count   Dtype \n",
      "---  ------                                             --------------   ----- \n",
      " 0   County                                             112634 non-null  object\n",
      " 1   City                                               112634 non-null  object\n",
      " 2   State                                              112634 non-null  object\n",
      " 3   Postal Code                                        112634 non-null  int64 \n",
      " 4   Model Year                                         112634 non-null  int64 \n",
      " 5   Make                                               112634 non-null  object\n",
      " 6   Model                                              112614 non-null  object\n",
      " 7   Electric Vehicle Type                              112634 non-null  object\n",
      " 8   Clean Alternative Fuel Vehicle (CAFV) Eligibility  112634 non-null  object\n",
      " 9   Electric Range                                     112634 non-null  int64 \n",
      " 10  Vehicle Location                                   112610 non-null  object\n",
      " 11  Electric Utility                                   112191 non-null  object\n",
      "dtypes: int64(3), object(9)\n",
      "memory usage: 76.6 MB\n"
     ]
    }
   ],
   "source": [
    "data.info(memory_usage= 'deep')"
   ]
  },
  {
   "cell_type": "code",
   "execution_count": 10,
   "id": "a0487baf",
   "metadata": {},
   "outputs": [
    {
     "data": {
      "text/plain": [
       "75890"
      ]
     },
     "execution_count": 10,
     "metadata": {},
     "output_type": "execute_result"
    }
   ],
   "source": [
    "data.duplicated().sum()"
   ]
  },
  {
   "cell_type": "code",
   "execution_count": 11,
   "id": "8886afc6",
   "metadata": {},
   "outputs": [],
   "source": [
    "data.drop_duplicates(inplace= True)"
   ]
  },
  {
   "cell_type": "code",
   "execution_count": 12,
   "id": "fead641a",
   "metadata": {},
   "outputs": [
    {
     "data": {
      "text/plain": [
       "(36744, 12)"
      ]
     },
     "execution_count": 12,
     "metadata": {},
     "output_type": "execute_result"
    }
   ],
   "source": [
    "data.shape"
   ]
  },
  {
   "cell_type": "code",
   "execution_count": 13,
   "id": "0653f89e",
   "metadata": {},
   "outputs": [
    {
     "data": {
      "text/plain": [
       "Model                19\n",
       "Vehicle Location     21\n",
       "Electric Utility    427\n",
       "dtype: int64"
      ]
     },
     "execution_count": 13,
     "metadata": {},
     "output_type": "execute_result"
    }
   ],
   "source": [
    "nan_cols=data.isna().sum()\n",
    "nan_cols[nan_cols>0]"
   ]
  },
  {
   "cell_type": "code",
   "execution_count": 14,
   "id": "ce540898",
   "metadata": {},
   "outputs": [],
   "source": [
    "# Erasing nans since given the size of the sample it wont affect\n",
    "data = data.dropna()"
   ]
  },
  {
   "cell_type": "code",
   "execution_count": 15,
   "id": "2123ca42",
   "metadata": {},
   "outputs": [
    {
     "name": "stdout",
     "output_type": "stream",
     "text": [
      "<class 'pandas.core.frame.DataFrame'>\n",
      "Int64Index: 36282 entries, 2 to 112633\n",
      "Data columns (total 12 columns):\n",
      " #   Column                                             Non-Null Count  Dtype \n",
      "---  ------                                             --------------  ----- \n",
      " 0   County                                             36282 non-null  object\n",
      " 1   City                                               36282 non-null  object\n",
      " 2   State                                              36282 non-null  object\n",
      " 3   Postal Code                                        36282 non-null  int64 \n",
      " 4   Model Year                                         36282 non-null  int64 \n",
      " 5   Make                                               36282 non-null  object\n",
      " 6   Model                                              36282 non-null  object\n",
      " 7   Electric Vehicle Type                              36282 non-null  object\n",
      " 8   Clean Alternative Fuel Vehicle (CAFV) Eligibility  36282 non-null  object\n",
      " 9   Electric Range                                     36282 non-null  int64 \n",
      " 10  Vehicle Location                                   36282 non-null  object\n",
      " 11  Electric Utility                                   36282 non-null  object\n",
      "dtypes: int64(3), object(9)\n",
      "memory usage: 25.0 MB\n"
     ]
    }
   ],
   "source": [
    "data.info(memory_usage= 'deep')"
   ]
  },
  {
   "cell_type": "code",
   "execution_count": 16,
   "id": "3500cc12",
   "metadata": {
    "scrolled": true
   },
   "outputs": [
    {
     "data": {
      "text/plain": [
       "['PACIFICORP',\n",
       " 'PUGET SOUND ENERGY INC',\n",
       " 'PUD NO 2 OF GRANT COUNTY',\n",
       " 'CITY OF SEATTLE - (WA)|CITY OF TACOMA - (WA)',\n",
       " 'PUGET SOUND ENERGY INC||CITY OF TACOMA - (WA)',\n",
       " 'AVISTA CORP',\n",
       " 'MODERN ELECTRIC WATER COMPANY',\n",
       " 'BONNEVILLE POWER ADMINISTRATION||PUD NO 1 OF COWLITZ COUNTY',\n",
       " 'BONNEVILLE POWER ADMINISTRATION||CITY OF TACOMA - (WA)||PENINSULA LIGHT COMPANY',\n",
       " 'BONNEVILLE POWER ADMINISTRATION||CITY OF ELLENSBURG - (WA)',\n",
       " 'BONNEVILLE POWER ADMINISTRATION||PUD NO 1 OF GRAYS HARBOR COUNTY',\n",
       " 'BONNEVILLE POWER ADMINISTRATION||PUD NO 1 OF CLARK COUNTY - (WA)',\n",
       " 'BONNEVILLE POWER ADMINISTRATION||AVISTA CORP||INLAND POWER & LIGHT COMPANY',\n",
       " 'BONNEVILLE POWER ADMINISTRATION||PUD 1 OF SNOHOMISH COUNTY',\n",
       " 'PUD NO 1 OF CHELAN COUNTY',\n",
       " 'BONNEVILLE POWER ADMINISTRATION||VERA IRRIGATION DISTRICT #15',\n",
       " 'BONNEVILLE POWER ADMINISTRATION||CITY OF TACOMA - (WA)||ELMHURST MUTUAL POWER & LIGHT CO|PENINSULA LIGHT COMPANY',\n",
       " 'PUGET SOUND ENERGY INC||PUD NO 1 OF WHATCOM COUNTY',\n",
       " 'BONNEVILLE POWER ADMINISTRATION||CITY OF RICHLAND - (WA)',\n",
       " 'BONNEVILLE POWER ADMINISTRATION||PUD NO 1 OF BENTON COUNTY',\n",
       " 'BONNEVILLE POWER ADMINISTRATION||CITY OF TACOMA - (WA)||PUD NO 3 OF MASON COUNTY',\n",
       " 'BONNEVILLE POWER ADMINISTRATION||ORCAS POWER & LIGHT COOP',\n",
       " 'BONNEVILLE POWER ADMINISTRATION||CITY OF TACOMA - (WA)||PUD NO 1 OF LEWIS COUNTY',\n",
       " 'BONNEVILLE POWER ADMINISTRATION||PUGET SOUND ENERGY INC||PUD NO 1 OF JEFFERSON COUNTY',\n",
       " 'BONNEVILLE POWER ADMINISTRATION||PUD NO 1 OF CLALLAM COUNTY',\n",
       " 'PUD NO 1 OF DOUGLAS COUNTY',\n",
       " 'BONNEVILLE POWER ADMINISTRATION||PUD NO 1 OF KLICKITAT COUNTY',\n",
       " 'BONNEVILLE POWER ADMINISTRATION||TOWN OF STEILACOOM|CITY OF TACOMA - (WA)||PENINSULA LIGHT COMPANY',\n",
       " 'BONNEVILLE POWER ADMINISTRATION||INLAND POWER & LIGHT COMPANY',\n",
       " 'BONNEVILLE POWER ADMINISTRATION||PUD NO 1 OF SKAMANIA CO',\n",
       " 'BONNEVILLE POWER ADMINISTRATION||CITY OF TACOMA - (WA)||LAKEVIEW LIGHT & POWER|PENINSULA LIGHT COMPANY',\n",
       " 'BONNEVILLE POWER ADMINISTRATION||AVISTA CORP||BIG BEND ELECTRIC COOP, INC',\n",
       " 'BONNEVILLE POWER ADMINISTRATION||CITY OF TACOMA - (WA)||PUD NO 1 OF MASON COUNTY',\n",
       " 'BONNEVILLE POWER ADMINISTRATION||PUD NO 1 OF FRANKLIN COUNTY',\n",
       " 'PUD NO 1 OF OKANOGAN COUNTY',\n",
       " 'BONNEVILLE POWER ADMINISTRATION||CITY OF MCCLEARY - (WA)',\n",
       " 'BONNEVILLE POWER ADMINISTRATION||PACIFICORP||BENTON RURAL ELECTRIC ASSN',\n",
       " 'BONNEVILLE POWER ADMINISTRATION||CITY OF PORT ANGELES - (WA)',\n",
       " 'OKANOGAN COUNTY ELEC COOP, INC',\n",
       " 'BONNEVILLE POWER ADMINISTRATION||CITY OF TACOMA - (WA)||OHOP MUTUAL LIGHT COMPANY, INC|PENINSULA LIGHT COMPANY',\n",
       " 'BONNEVILLE POWER ADMINISTRATION||AVISTA CORP||PUD NO 1 OF ASOTIN COUNTY',\n",
       " 'BONNEVILLE POWER ADMINISTRATION||PUD NO 1 OF FERRY COUNTY',\n",
       " 'BONNEVILLE POWER ADMINISTRATION||CITY OF MILTON - (WA)|CITY OF TACOMA - (WA)',\n",
       " 'BONNEVILLE POWER ADMINISTRATION||CITY OF TACOMA - (WA)||PARKLAND LIGHT & WATER COMPANY|PENINSULA LIGHT COMPANY',\n",
       " 'BONNEVILLE POWER ADMINISTRATION||PUD NO 2 OF PACIFIC COUNTY',\n",
       " 'CITY OF TACOMA - (WA)||TANNER ELECTRIC COOP',\n",
       " 'CITY OF BLAINE - (WA)||PUD NO 1 OF WHATCOM COUNTY',\n",
       " 'BONNEVILLE POWER ADMINISTRATION||PACIFICORP||PUD NO 1 OF CLARK COUNTY - (WA)',\n",
       " 'BONNEVILLE POWER ADMINISTRATION||COLUMBIA RURAL ELEC ASSN, INC',\n",
       " 'BONNEVILLE POWER ADMINISTRATION||PACIFICORP||COLUMBIA RURAL ELEC ASSN, INC',\n",
       " 'BONNEVILLE POWER ADMINISTRATION||CITY OF CENTRALIA - (WA)|CITY OF TACOMA - (WA)',\n",
       " 'PUD NO 1 OF WHATCOM COUNTY',\n",
       " 'BONNEVILLE POWER ADMINISTRATION||PUD NO 1 OF WAHKIAKUM COUNTY',\n",
       " 'CITY OF CHENEY - (WA)',\n",
       " 'CITY OF CHEWELAH',\n",
       " 'BONNEVILLE POWER ADMINISTRATION||BENTON RURAL ELECTRIC ASSN',\n",
       " 'PUD NO 1 OF PEND OREILLE COUNTY',\n",
       " 'BONNEVILLE POWER ADMINISTRATION||BIG BEND ELECTRIC COOP, INC',\n",
       " 'BONNEVILLE POWER ADMINISTRATION||PUD NO 1 OF MASON COUNTY|PUD NO 1 OF JEFFERSON COUNTY',\n",
       " 'BONNEVILLE POWER ADMINISTRATION||PUD NO 1 OF KITTITAS COUNTY',\n",
       " 'BONNEVILLE POWER ADMINISTRATION||TOWN OF EATONVILLE - (WA)|CITY OF TACOMA - (WA)',\n",
       " 'BONNEVILLE POWER ADMINISTRATION||TOWN OF RUSTON - (WA)|CITY OF TACOMA - (WA)||PENINSULA LIGHT COMPANY',\n",
       " 'BONNEVILLE POWER ADMINISTRATION||CITY OF TACOMA - (WA)||BENTON RURAL ELECTRIC ASSN|PENINSULA LIGHT COMPANY',\n",
       " 'CITY OF SEATTLE - (WA)',\n",
       " 'CITY OF SUMAS - (WA)||PUD NO 1 OF WHATCOM COUNTY',\n",
       " 'BONNEVILLE POWER ADMINISTRATION||CITY OF COULEE DAM - (WA)',\n",
       " 'BONNEVILLE POWER ADMINISTRATION||PENINSULA LIGHT COMPANY',\n",
       " 'CITY OF TACOMA - (WA)',\n",
       " 'BONNEVILLE POWER ADMINISTRATION||PUD NO 1 OF ASOTIN COUNTY',\n",
       " 'PORTLAND GENERAL ELECTRIC CO',\n",
       " 'BONNEVILLE POWER ADMINISTRATION||PUD NO 1 OF ASOTIN COUNTY||INLAND POWER & LIGHT COMPANY',\n",
       " 'BONNEVILLE POWER ADMINISTRATION||NESPELEM VALLEY ELEC COOP, INC',\n",
       " 'BONNEVILLE POWER ADMINISTRATION||PUD NO 1 OF CLALLAM COUNTY|PUD NO 1 OF JEFFERSON COUNTY']"
      ]
     },
     "execution_count": 16,
     "metadata": {},
     "output_type": "execute_result"
    }
   ],
   "source": [
    "lop = list(data['Electric Utility'].unique())\n",
    "lop"
   ]
  },
  {
   "cell_type": "code",
   "execution_count": 17,
   "id": "479b1b9c",
   "metadata": {},
   "outputs": [],
   "source": [
    "def clean(x):\n",
    "    x = str(x)\n",
    "    if  'BONNEVILLE POWER ADMINISTRATION' in x :\n",
    "        return 'BONNEVILLE POWER ADMINISTRATION'\n",
    "    elif 'PUGET SOUND ENERGY INC' in x:\n",
    "        return 'PUGET SOUND ENERGY INC'\n",
    "    else:\n",
    "        return x\n",
    "data['Electric Utility'] = data['Electric Utility'].apply(clean)"
   ]
  },
  {
   "cell_type": "code",
   "execution_count": 18,
   "id": "5c5defec",
   "metadata": {},
   "outputs": [
    {
     "data": {
      "text/plain": [
       "array(['PACIFICORP', 'PUGET SOUND ENERGY INC', 'PUD NO 2 OF GRANT COUNTY',\n",
       "       'CITY OF SEATTLE - (WA)|CITY OF TACOMA - (WA)', 'AVISTA CORP',\n",
       "       'MODERN ELECTRIC WATER COMPANY', 'BONNEVILLE POWER ADMINISTRATION',\n",
       "       'PUD NO 1 OF CHELAN COUNTY', 'PUD NO 1 OF DOUGLAS COUNTY',\n",
       "       'PUD NO 1 OF OKANOGAN COUNTY', 'OKANOGAN COUNTY ELEC COOP, INC',\n",
       "       'CITY OF TACOMA - (WA)||TANNER ELECTRIC COOP',\n",
       "       'CITY OF BLAINE - (WA)||PUD NO 1 OF WHATCOM COUNTY',\n",
       "       'PUD NO 1 OF WHATCOM COUNTY', 'CITY OF CHENEY - (WA)',\n",
       "       'CITY OF CHEWELAH', 'PUD NO 1 OF PEND OREILLE COUNTY',\n",
       "       'CITY OF SEATTLE - (WA)',\n",
       "       'CITY OF SUMAS - (WA)||PUD NO 1 OF WHATCOM COUNTY',\n",
       "       'CITY OF TACOMA - (WA)', 'PORTLAND GENERAL ELECTRIC CO'],\n",
       "      dtype=object)"
      ]
     },
     "execution_count": 18,
     "metadata": {},
     "output_type": "execute_result"
    }
   ],
   "source": [
    "data['Electric Utility'].unique()"
   ]
  },
  {
   "cell_type": "code",
   "execution_count": 19,
   "id": "578584eb",
   "metadata": {},
   "outputs": [
    {
     "data": {
      "text/plain": [
       "array(['Clean Alternative Fuel Vehicle Eligible',\n",
       "       'Not eligible due to low battery range',\n",
       "       'Eligibility unknown as battery range has not been researched'],\n",
       "      dtype=object)"
      ]
     },
     "execution_count": 19,
     "metadata": {},
     "output_type": "execute_result"
    }
   ],
   "source": [
    "data['Clean Alternative Fuel Vehicle (CAFV) Eligibility'].unique()"
   ]
  },
  {
   "cell_type": "code",
   "execution_count": 20,
   "id": "38e654a1",
   "metadata": {},
   "outputs": [
    {
     "data": {
      "text/plain": [
       "array(['Yakima', 'Skagit', 'Snohomish', 'Island', 'Thurston', 'Grant',\n",
       "       'King', 'Kitsap', 'Whitman', 'Spokane', 'Cowlitz', 'Pierce',\n",
       "       'Kittitas', 'Grays Harbor', 'Clark', 'Chelan', 'Whatcom', 'Benton',\n",
       "       'Walla Walla', 'Mason', 'San Juan', 'Lewis', 'Jefferson',\n",
       "       'Clallam', 'Douglas', 'Klickitat', 'Skamania', 'Adams', 'Franklin',\n",
       "       'Okanogan', 'Stevens', 'Asotin', 'Ferry', 'Pacific', 'Columbia',\n",
       "       'Wahkiakum', 'Lincoln', 'Pend Oreille', 'Garfield'], dtype=object)"
      ]
     },
     "execution_count": 20,
     "metadata": {},
     "output_type": "execute_result"
    }
   ],
   "source": [
    "data['County'].unique()"
   ]
  },
  {
   "cell_type": "code",
   "execution_count": 21,
   "id": "a4c8a59c",
   "metadata": {},
   "outputs": [
    {
     "data": {
      "text/plain": [
       "array(['Yakima', 'Concrete', 'Everett', 'Bothell', 'Mukilteo', 'Clinton',\n",
       "       'Anacortes', 'Lacey', 'Moses Lake', 'Rochester', 'Burlington',\n",
       "       'Marysville', 'Lynnwood', 'Edmonds', 'Olympia', 'Seattle',\n",
       "       'Auburn', 'Langley', 'Snohomish', 'Bremerton', 'Pullman',\n",
       "       'Spokane', 'Suquamish', 'Monroe', 'Keyport', 'Maple Valley',\n",
       "       'Kent', 'Lake Forest Park', 'Poulsbo', 'Redmond', 'Issaquah',\n",
       "       'Longview', 'Tacoma', 'Ellensburg', 'Burien', 'Gig Harbor',\n",
       "       'South Hill', 'Sammamish', 'Westport', 'Vancouver',\n",
       "       'Airway Heights', 'Mercer Island', 'Stanwood', 'Tumwater',\n",
       "       'Bainbridge Island', 'Entiat', 'Lakewood', 'Lake Tapps',\n",
       "       'Bellevue', 'Kirkland', 'Newcastle', 'Port Orchard', 'Bellingham',\n",
       "       'Richland', 'Camano Island', 'Wenatchee', 'Lake Stevens', 'Roy',\n",
       "       'Des Moines', 'Renton', 'Camas', 'Kennewick', 'Battle Ground',\n",
       "       'Bonney Lake', 'Walla Walla', 'North Bend', 'Mount Vernon',\n",
       "       'Woodland', 'Woodinville', 'Allyn', 'Brier', 'Snoqualmie',\n",
       "       'Fall City', 'Puyallup', 'Friday Harbor', 'Point Roberts',\n",
       "       'Dupont', 'Castle Rock', 'Blaine', 'Morton', 'Port Townsend',\n",
       "       'Roslyn', 'Kenmore', 'Covington', 'Federal Way', 'Silverdale',\n",
       "       'Medina', 'Shoreline', 'Enumclaw', 'Sequim', 'Orondo', 'Grandview',\n",
       "       'Mill Creek', 'Zillah', 'Edgewood', 'Vashon', 'White Salmon',\n",
       "       'Normandy Park', 'Fircrest', 'East Wenatchee', 'Peshastin',\n",
       "       'Grapeview', 'Steilacoom', 'Sumner', 'Greenacres', 'Shelton',\n",
       "       'Chehalis', 'Pacific Beach', 'Everson', 'Black Diamond',\n",
       "       'North Bonneville', 'Coupeville', 'Seabeck', 'Arlington',\n",
       "       'Palouse', 'Bow', 'Lakebay', 'University Place', 'Clyde Hill',\n",
       "       'Cle Elum', 'Yacolt', 'Oak Harbor', 'Goldendale', 'Port Hadlock',\n",
       "       'Acme', 'Ritzville', 'Union', 'Orting', 'Tahuya', 'Fox Island',\n",
       "       'Moxee', 'Port Angeles', 'Spanaway', 'Lopez Island', 'Hunts Point',\n",
       "       'Leavenworth', 'Seatac', 'Stevenson', 'Pasco', 'Yelm', 'Tonasket',\n",
       "       'Liberty Lake', 'Hansville', 'Eastsound', 'Nordland', 'Touchet',\n",
       "       'Spokane Valley', 'Tukwila', 'Nine Mile Falls', 'Selah', 'Fife',\n",
       "       'Lynden', 'Aberdeen', 'Anderson Island', 'Orcas Is', 'Kingston',\n",
       "       'Randle', 'Sedro-Woolley', 'Carnation', 'Belfair', 'Cheney',\n",
       "       'Elma', 'Olalla', 'Granite Falls', 'Ephrata', 'Preston',\n",
       "       'Ridgefield', 'Mccleary', 'Ferndale', 'Mountlake Terrace',\n",
       "       'Freeland', 'Yarrow Point', 'Rainier', 'Sunnyside', 'Salkum',\n",
       "       'Colville', 'Duvall', 'Otis Orchards', 'Twisp', 'Eatonville',\n",
       "       'Chattaroy', 'Ocean Shores', 'Washougal', 'Port Ludlow',\n",
       "       'Benton City', 'Clarkston', 'Ravensdale', 'Kelso', 'Curlew',\n",
       "       'Deming', 'Prosser', 'Milton', 'Artondale', 'Hoodsport',\n",
       "       'West Richland', 'Parkland', 'Chelan', 'Graham', 'Raymond',\n",
       "       'Brush Prairie', 'Rock Island', 'La Conner', 'St John', 'Mead',\n",
       "       'Hoquiam', 'Deer Park', 'Electric City', 'Chimacum', 'Burbank',\n",
       "       'Quincy', 'La Center', 'Ronald', 'Long Beach', 'Valley',\n",
       "       'Beaux Arts', 'Kalama', 'Indianola', 'Winthrop', 'Buckley',\n",
       "       'Montesano', 'Dayton', 'Vaughn', 'Onalaska', 'Medical Lake',\n",
       "       'Nooksack', 'Centralia', 'Sultan', 'Trout Lake', 'Seaview',\n",
       "       'Carson', 'Colbert', 'Lummi Island', 'Newman Lake', 'Cathlamet',\n",
       "       'Woodway', 'Veradale', 'Valleyford', 'Cashmere', 'Ariel',\n",
       "       'Cosmopolis', 'Bz Corner', 'Ilwaco', 'Oakville', 'Algona',\n",
       "       'Silverlake', 'Lopez Is', 'Winlock', 'Greenbank', 'Tenino',\n",
       "       'Royal City', 'Tulalip', 'Custer', 'College Place', 'Underwood',\n",
       "       'Amboy', 'Bingen', 'Ryderwood', 'Clearlake', 'Naches', 'Surfside',\n",
       "       'Olga', 'Ocean Park', 'Othello', 'Rosalia', 'Snoqualmie Pass',\n",
       "       'Republic', 'Grand Coulee', 'Chewelah', 'Packwood', 'Thorp',\n",
       "       'Malaga', 'Lind', 'Joint Base Lewis Mcchord', 'Granger', 'Wilbur',\n",
       "       'Toledo', 'Pacific', 'Toppenish', 'Eltopia', 'Sekiu',\n",
       "       'Sedro Woolley', 'Garfield', 'Lincoln', 'Newport', 'Harrington',\n",
       "       'Ethel', 'Pomeroy', 'Longbranch', 'Connell', 'Brinnon',\n",
       "       'Skykomish', 'Reardan', 'Maple Falls', 'Coulee City', 'Dallesport',\n",
       "       'Vantage', 'Oroville', 'Manson', 'Omak', 'Bridgeport Bar', 'Mesa',\n",
       "       'Waterville', 'Chinook', 'Gold Bar', 'Soap Lake', 'Nahcotta',\n",
       "       'Tieton', 'Mattawa', 'Addy', 'Ruston', 'Forks', 'Wapato',\n",
       "       'Naselle', 'Quilcene', 'Asotin', 'Easton',\n",
       "       'Fairchild Air Force Base', 'Skamokawa', 'Lilliwaup', 'Marlin',\n",
       "       'Warden', 'Seven Bays', 'Kettle Falls', 'South Bend', 'Okanogan',\n",
       "       'Mansfield', 'Pateros', 'Sumas', 'McCleary', 'Cusick', 'Ashford',\n",
       "       'Elk', 'Carbonado', 'Rockford', 'Lyle', 'Latah', 'Carlton',\n",
       "       'Darrington', 'Mossyrock', 'Riverside', 'North Cove', 'Bay Center',\n",
       "       'Brewster', 'Springdale', 'Cougar', 'Endicott', 'Inchelium',\n",
       "       'Frances', 'Colfax', 'White Swan', 'Grayland', 'Rice', 'Neah Bay',\n",
       "       'Davenport', 'Coulee Dam', 'Union Gap', 'Shaw Island',\n",
       "       'Marblemount', 'Baring', 'Spangle', 'Glacier', 'Deer Meadows',\n",
       "       'Silver Creek', 'Menlo', 'Tokeland', 'Roosevelt', 'Wahkiacus',\n",
       "       'Snowden', 'Walla Walla Co', 'Outlook', 'Vader', 'Kittitas',\n",
       "       'Mica', 'Mazama', 'Hunters', 'Evans', 'Beaver', 'Loon Lake',\n",
       "       'Grays River', 'Odessa', 'Usk', 'Oysterville', 'Mineral',\n",
       "       'Amanda Park', 'Toutle', 'Curtis', 'Cinebar', 'Hartline',\n",
       "       'Waitsburg', 'Husum', 'Klickitat', 'Edwall', 'Sprague', 'Tekoa',\n",
       "       'Pe Ell', 'Methow', 'Murdock', 'Ford', 'Moclips', 'Holden Village',\n",
       "       'Lyman', 'Mcchord Afb', 'Glenwood', 'Colton', 'South Prairie',\n",
       "       'Clallam Bay', 'Malott', 'Rockport', 'Bucoda', 'Smith Creek',\n",
       "       'Lebam', 'Glenoma', 'Copalis Beach', 'Satsop', 'Palisades',\n",
       "       'Danville', 'Quinault', 'Maryhill', 'Waldron', 'Fruitland',\n",
       "       'South Cle Elum', 'Centerville', 'Fairfield', 'Lamont',\n",
       "       'Copalis Crossing', 'Taholah', 'Port Gamble', 'Rosburg',\n",
       "       'Stratford', 'Matlock', 'Gifford', 'Prescott', 'Carrolls',\n",
       "       'Mabton', 'Uniontown'], dtype=object)"
      ]
     },
     "execution_count": 21,
     "metadata": {},
     "output_type": "execute_result"
    }
   ],
   "source": [
    "data['City'].unique()"
   ]
  },
  {
   "cell_type": "code",
   "execution_count": 22,
   "id": "88923e2a",
   "metadata": {},
   "outputs": [
    {
     "data": {
      "text/plain": [
       "array(['WA'], dtype=object)"
      ]
     },
     "execution_count": 22,
     "metadata": {},
     "output_type": "execute_result"
    }
   ],
   "source": [
    "data['State'].unique()"
   ]
  },
  {
   "cell_type": "code",
   "execution_count": 23,
   "id": "9eda126f",
   "metadata": {},
   "outputs": [
    {
     "data": {
      "text/plain": [
       "array(['NISSAN', 'CHEVROLET', 'FORD', 'TESLA', 'KIA', 'AUDI', 'BMW',\n",
       "       'PORSCHE', 'FIAT', 'CADILLAC', 'MITSUBISHI', 'CHRYSLER', 'RIVIAN',\n",
       "       'HONDA', 'HYUNDAI', 'VOLVO', 'VOLKSWAGEN', 'TOYOTA',\n",
       "       'MERCEDES-BENZ', 'JEEP', 'MINI', 'SMART', 'SUBARU', 'POLESTAR',\n",
       "       'LUCID MOTORS', 'LINCOLN', 'JAGUAR', 'FISKER', 'LAND ROVER',\n",
       "       'LEXUS', 'TH!NK', 'GENESIS', 'BENTLEY', 'AZURE DYNAMICS'],\n",
       "      dtype=object)"
      ]
     },
     "execution_count": 23,
     "metadata": {},
     "output_type": "execute_result"
    }
   ],
   "source": [
    "data['Make'].unique()"
   ]
  },
  {
   "cell_type": "code",
   "execution_count": 24,
   "id": "748012bf",
   "metadata": {},
   "outputs": [
    {
     "data": {
      "text/plain": [
       "array(['LEAF', 'BOLT EV', 'FUSION', 'MODEL 3', 'SOUL', 'Q5 E', 'MODEL X',\n",
       "       'VOLT', 'X5', '530E', 'TAYCAN', 'X3', 'A3', 'SOUL EV', 'C-MAX',\n",
       "       '500', 'MODEL S', 'F-150', 'CT6', 'I3', 'MODEL Y', 'NIRO',\n",
       "       'OUTLANDER', 'PACIFICA', 'R1T', 'CLARITY', 'KONA ELECTRIC', 'XC40',\n",
       "       'ID.4', 'PRIUS PLUG-IN', 'MUSTANG MACH-E', 'EQB-CLASS',\n",
       "       'RAV4 PRIME', 'E-GOLF', 'PRIUS PRIME', 'C40', 'SORENTO', 'XC60',\n",
       "       'CAYENNE', 'WRANGLER', 'COUNTRYMAN', 'S60', 'EV6',\n",
       "       'FORTWO ELECTRIC DRIVE', 'GRAND CHEROKEE', '330E', 'CROSSTREK',\n",
       "       'IONIQ 5', 'IONIQ', 'E-TRON', 'ROADSTER', 'KONA', 'XC90', 'SPARK',\n",
       "       'PS2', 'A7', 'HARDTOP', 'ESCAPE', 'LUCID AIR', 'E-TRON SPORTBACK',\n",
       "       'Q5', 'RAV4', 'AVIATOR', 'E-TRON GT', 'EDV', 'IX', 'FORTWO',\n",
       "       'I-PACE', 'SANTA FE', 'B-CLASS', 'KARMA', 'I4', 'OPTIMA',\n",
       "       'GLC-CLASS', 'Q4', 'SONATA', 'EQ FORTWO', 'FOCUS',\n",
       "       'RANGE ROVER SPORT', 'TRANSIT', 'PANAMERA', 'I8', 'BOLT EUV',\n",
       "       'CORSAIR', 'ELR', 'GLE-CLASS', 'V60', 'EQS-CLASS SEDAN', 'R1S',\n",
       "       'I-MIEV', 'NX', '740E', 'SPORTAGE', 'C-CLASS', 'S-CLASS', 'CITY',\n",
       "       'S90', 'TUCSON', 'GV60', 'EQS-CLASS SUV', 'A8 E', 'RANGE ROVER',\n",
       "       'RS E-TRON GT', 'RANGER', 'BENTAYGA', '745E',\n",
       "       'TRANSIT CONNECT ELECTRIC', 'ACCORD', 'S-10 PICKUP', 'SOLTERRA',\n",
       "       'G80', '918', 'FLYING SPUR', '745LE'], dtype=object)"
      ]
     },
     "execution_count": 24,
     "metadata": {},
     "output_type": "execute_result"
    }
   ],
   "source": [
    "data['Model'].unique()"
   ]
  },
  {
   "cell_type": "code",
   "execution_count": 25,
   "id": "5b957d84",
   "metadata": {},
   "outputs": [
    {
     "data": {
      "text/plain": [
       "array(['Battery Electric Vehicle (BEV)',\n",
       "       'Plug-in Hybrid Electric Vehicle (PHEV)'], dtype=object)"
      ]
     },
     "execution_count": 25,
     "metadata": {},
     "output_type": "execute_result"
    }
   ],
   "source": [
    "data['Electric Vehicle Type'].unique()"
   ]
  },
  {
   "cell_type": "code",
   "execution_count": 26,
   "id": "8c4cafcc",
   "metadata": {},
   "outputs": [],
   "source": [
    "data['Electric Vehicle Type']=data['Electric Vehicle Type'].replace('Plug-in Hybrid Electric Vehicle (PHEV)','Plug-in Hybrid')\n",
    "data['Electric Vehicle Type']=data['Electric Vehicle Type'].replace('Battery Electric Vehicle (BEV)','Electric')"
   ]
  },
  {
   "cell_type": "code",
   "execution_count": 27,
   "id": "8b6d6513",
   "metadata": {},
   "outputs": [
    {
     "data": {
      "text/plain": [
       "array(['Electric', 'Plug-in Hybrid'], dtype=object)"
      ]
     },
     "execution_count": 27,
     "metadata": {},
     "output_type": "execute_result"
    }
   ],
   "source": [
    "data['Electric Vehicle Type'].unique()"
   ]
  },
  {
   "cell_type": "code",
   "execution_count": 28,
   "id": "e0b1340a",
   "metadata": {},
   "outputs": [
    {
     "data": {
      "text/plain": [
       "array([ 73, 238,  26, 215,  75,  84,  93,  20, 293,  53, 150, 107,  14,\n",
       "         0,  15, 151, 266, 192,  17,  16, 200, 220, 111,  19,  87, 249,\n",
       "        31, 208, 259,  72, 239,  22, 322,  32, 291,  47,  38,   6, 203,\n",
       "        42,  83,  25, 125,  21, 149, 210,  97, 289,  18,  13,  12,  68,\n",
       "        30, 308, 170, 204, 245, 258, 126,  82,  29,  24, 110, 218,  41,\n",
       "       265, 330, 222,  23, 103, 270,  35,  58,  33, 234,  81, 153, 114,\n",
       "        10,  27,  76,  28,  40,   8, 337,  37,  62,  34, 233,   9, 124,\n",
       "       100,  57,  56,  39,  48,  74,  36,  11,  59,  95])"
      ]
     },
     "execution_count": 28,
     "metadata": {},
     "output_type": "execute_result"
    }
   ],
   "source": [
    "data['Electric Range'].unique()"
   ]
  },
  {
   "cell_type": "code",
   "execution_count": 29,
   "id": "98a5489a",
   "metadata": {},
   "outputs": [
    {
     "data": {
      "text/plain": [
       "array(['POINT (-120.50721 46.60448)', 'POINT (-121.7515 48.53892)',\n",
       "       'POINT (-122.20596 47.97659)', 'POINT (-122.18384 47.8031)',\n",
       "       'POINT (-122.23019 47.94949)', 'POINT (-122.29196 47.89908)',\n",
       "       'POINT (-122.35803 47.9796)', 'POINT (-122.61214 48.51748)',\n",
       "       'POINT (-122.75379 47.06316)', 'POINT (-119.2771 47.13196)',\n",
       "       'POINT (-123.08743 46.82175)', 'POINT (-122.33029 48.46846)',\n",
       "       'POINT (-122.19388 48.15353)', 'POINT (-122.27734 47.83785)',\n",
       "       'POINT (-122.31768 47.87166)', 'POINT (-122.92333 47.03779)',\n",
       "       'POINT (-122.27981 47.85727)', 'POINT (-122.3026 47.72656)',\n",
       "       'POINT (-122.23035 47.3074)', 'POINT (-122.31765 47.70013)',\n",
       "       'POINT (-122.37689 47.81116)', 'POINT (-122.40618 48.0399)',\n",
       "       'POINT (-122.82324 47.04437)', 'POINT (-122.89166 47.03956)',\n",
       "       'POINT (-122.18637 47.89252)', 'POINT (-122.1389 47.87115)',\n",
       "       'POINT (-122.66122 47.56573)', 'POINT (-122.29245 47.82557)',\n",
       "       'POINT (-122.25527 47.90456)', 'POINT (-120.52301 46.60138)',\n",
       "       'POINT (-120.56916 46.58514)', 'POINT (-117.18147 46.73015)',\n",
       "       'POINT (-117.45674 47.69963)', 'POINT (-122.55242 47.73162)',\n",
       "       'POINT (-121.98087 47.8526)', 'POINT (-122.62316 47.70251)',\n",
       "       'POINT (-122.80277 46.99409)', 'POINT (-122.04526 47.39394)',\n",
       "       'POINT (-122.1769 48.06114)', 'POINT (-122.17743 47.41185)',\n",
       "       'POINT (-122.31327 47.75736)', 'POINT (-122.64681 47.73689)',\n",
       "       'POINT (-122.09305 47.91265)', 'POINT (-122.13158 47.67858)',\n",
       "       'POINT (-122.00292 47.54748)', 'POINT (-122.95058 46.14681)',\n",
       "       'POINT (-122.52054 47.26887)', 'POINT (-120.54872 46.99703)',\n",
       "       'POINT (-122.3317 47.50314)', 'POINT (-122.72457 47.38165)',\n",
       "       'POINT (-122.35051 47.15252)', 'POINT (-122.02054 47.60326)',\n",
       "       'POINT (-122.32427 47.63433)', 'POINT (-124.10424 46.89078)',\n",
       "       'POINT (-122.49212 45.60365)', 'POINT (-122.20563 47.76144)',\n",
       "       'POINT (-117.59311 47.6443)', 'POINT (-122.03539 47.61344)',\n",
       "       'POINT (-122.21238 47.57816)', 'POINT (-122.37265 48.24159)',\n",
       "       'POINT (-122.03287 47.68555)', 'POINT (-122.521 47.62728)',\n",
       "       'POINT (-122.23741 47.3807)', 'POINT (-122.30716 47.62687)',\n",
       "       'POINT (-122.31009 47.60803)', 'POINT (-122.41067 47.57894)',\n",
       "       'POINT (-122.21698 47.28317)', 'POINT (-120.20831 47.67562)',\n",
       "       'POINT (-122.54795 47.17997)', 'POINT (-122.17144 47.19175)',\n",
       "       'POINT (-122.35186 47.54286)', 'POINT (-122.44164 47.25517)',\n",
       "       'POINT (-122.11867 47.63131)', 'POINT (-122.64695 45.65675)',\n",
       "       'POINT (-117.3186 47.6505)', 'POINT (-122.2066 47.67887)',\n",
       "       'POINT (-122.30866 47.57874)', 'POINT (-122.37571 47.16104)',\n",
       "       'POINT (-122.38591 47.67597)', 'POINT (-122.15771 47.50549)',\n",
       "       'POINT (-122.65745 47.4916)', 'POINT (-122.47122 48.75235)',\n",
       "       'POINT (-122.62934 45.63201)', 'POINT (-119.26844 46.31484)',\n",
       "       'POINT (-122.1872 47.61001)', 'POINT (-122.40049 48.23986)',\n",
       "       'POINT (-120.30522 47.41494)', 'POINT (-122.35436 47.67596)',\n",
       "       'POINT (-122.23825 47.49461)', 'POINT (-122.06402 48.01497)',\n",
       "       'POINT (-122.5476 45.62832)', 'POINT (-122.62731 45.71668)',\n",
       "       'POINT (-122.45516 48.74487)', 'POINT (-122.54332 47.00328)',\n",
       "       'POINT (-122.60302 47.36223)', 'POINT (-122.34223 47.61085)',\n",
       "       'POINT (-122.29592 47.40139)', 'POINT (-122.36498 47.72238)',\n",
       "       'POINT (-122.40199 45.58694)', 'POINT (-119.3118 46.20664)',\n",
       "       'POINT (-122.38415 47.53755)', 'POINT (-122.63847 47.54103)',\n",
       "       'POINT (-122.31307 47.66127)', 'POINT (-122.08747 47.4466)',\n",
       "       'POINT (-122.21061 47.83448)', 'POINT (-122.34118 47.46665)',\n",
       "       'POINT (-119.27372 46.27391)', 'POINT (-122.2668 47.55115)',\n",
       "       'POINT (-122.5331 45.78092)', 'POINT (-122.70303 45.70954)',\n",
       "       'POINT (-122.34468 47.61578)', 'POINT (-118.34261 46.07068)',\n",
       "       'POINT (-121.7831 47.49348)', 'POINT (-122.12096 47.55584)',\n",
       "       'POINT (-122.22901 47.72201)', 'POINT (-122.18463 47.49929)',\n",
       "       'POINT (-122.87741 47.05997)', 'POINT (-122.19564 47.37271)',\n",
       "       'POINT (-122.32267 48.41626)', 'POINT (-122.58009 47.328)',\n",
       "       'POINT (-122.1621 47.64441)', 'POINT (-122.74017 45.9094)',\n",
       "       'POINT (-122.15545 47.75448)', 'POINT (-122.82983 47.38174)',\n",
       "       'POINT (-122.3684 47.64586)', 'POINT (-121.82432 47.52716)',\n",
       "       'POINT (-121.89086 47.56812)', 'POINT (-122.28449 47.146)',\n",
       "       'POINT (-123.01648 48.53448)', 'POINT (-122.38418 47.70044)',\n",
       "       'POINT (-123.05688 48.98867)', 'POINT (-122.62954 47.09583)',\n",
       "       'POINT (-122.346385 47.630685)', 'POINT (-122.07479 47.75264)',\n",
       "       'POINT (-122.90724 46.27509)', 'POINT (-122.74888 48.99404)',\n",
       "       'POINT (-122.55149 45.69345)', 'POINT (-119.11698 46.20804)',\n",
       "       'POINT (-122.03439 47.5301)', 'POINT (-117.45005 47.7333)',\n",
       "       'POINT (-122.30346 47.55379)', 'POINT (-117.3797 47.65548)',\n",
       "       'POINT (-122.27511 46.55465)', 'POINT (-122.77263 48.1212)',\n",
       "       'POINT (-120.99607 47.22593)', 'POINT (-122.24369 47.75892)',\n",
       "       'POINT (-122.09124 47.33778)', 'POINT (-122.3303 47.30151)',\n",
       "       'POINT (-122.69275 47.65171)', 'POINT (-122.3503 47.71868)',\n",
       "       'POINT (-122.40092 47.65908)', 'POINT (-122.23892 47.61613)',\n",
       "       'POINT (-122.21152 47.43954)', 'POINT (-121.99136 47.20433)',\n",
       "       'POINT (-123.10367 48.07965)', 'POINT (-122.33891 48.41644)',\n",
       "       'POINT (-120.22795 47.62352)', 'POINT (-119.90123 46.25606)',\n",
       "       'POINT (-120.26186 46.40186)', 'POINT (-122.28556 47.18709)',\n",
       "       'POINT (-122.4573 47.44929)', 'POINT (-122.52886 47.24977)',\n",
       "       'POINT (-121.48704 45.72776)', 'POINT (-122.57722 45.64251)',\n",
       "       'POINT (-122.32945 47.60357)', 'POINT (-122.5338 47.23594)',\n",
       "       'POINT (-121.97745 47.53433)', 'POINT (-120.29473 47.41515)',\n",
       "       'POINT (-120.60364 47.56805)', 'POINT (-122.82364 47.32767)',\n",
       "       'POINT (-122.59802 47.17303)', 'POINT (-117.46996 47.59431)',\n",
       "       'POINT (-122.23972 47.2022)', 'POINT (-119.141 46.19162)',\n",
       "       'POINT (-117.1748 47.65699)', 'POINT (-123.10565 47.21248)',\n",
       "       'POINT (-122.41249 47.21584)', 'POINT (-122.96462 46.6621)',\n",
       "       'POINT (-117.36043 47.63396)', 'POINT (-122.46495 47.16778)',\n",
       "       'POINT (-124.20177 47.20886)', 'POINT (-122.34536 48.92009)',\n",
       "       'POINT (-122.36646 47.19269)', 'POINT (-122.00143 47.30893)',\n",
       "       'POINT (-122.51766 47.27779)', 'POINT (-121.97 45.64119)',\n",
       "       'POINT (-122.64443 45.67871)', 'POINT (-122.12053 47.61334)',\n",
       "       'POINT (-122.68558 48.21857)', 'POINT (-122.81585 47.64509)',\n",
       "       'POINT (-122.1264 48.19471)', 'POINT (-122.92057 47.0031)',\n",
       "       'POINT (-117.0768 46.9101)', 'POINT (-122.397 48.56045)',\n",
       "       'POINT (-122.35206 47.30297)', 'POINT (-122.17663 47.32326)',\n",
       "       'POINT (-122.61624 47.57772)', 'POINT (-122.75493 47.25035)',\n",
       "       'POINT (-122.53691 47.20606)', 'POINT (-122.6462 47.63132)',\n",
       "       'POINT (-122.49756 48.7999)', 'POINT (-120.93943 47.195)',\n",
       "       'POINT (-122.40908 45.86679)', 'POINT (-122.64682 48.29077)',\n",
       "       'POINT (-122.41894 47.15806)', 'POINT (-120.82548 45.823)',\n",
       "       'POINT (-122.75878 48.03591)', 'POINT (-122.20348 48.71768)',\n",
       "       'POINT (-118.37977 47.1274)', 'POINT (-123.09944 47.35689)',\n",
       "       'POINT (-122.20166 47.09596)', 'POINT (-123.04061 47.37733)',\n",
       "       'POINT (-122.65107 47.27375)', 'POINT (-122.41666 47.30682)',\n",
       "       'POINT (-120.39197 46.55621)', 'POINT (-123.46296 48.11653)',\n",
       "       'POINT (-122.36178 47.49408)', 'POINT (-122.41046 47.06512)',\n",
       "       'POINT (-122.59219 45.62158)', 'POINT (-117.4077 47.74527)',\n",
       "       'POINT (-122.91395 48.52342)', 'POINT (-120.65754 47.5982)',\n",
       "       'POINT (-122.30164 47.45775)', 'POINT (-121.88258 45.69417)',\n",
       "       'POINT (-119.09467 46.23542)', 'POINT (-122.44718 47.20144)',\n",
       "       'POINT (-122.60735 46.94239)', 'POINT (-119.43683 48.70854)',\n",
       "       'POINT (-117.1015 47.66829)', 'POINT (-122.54758 47.91795)',\n",
       "       'POINT (-122.91109 48.69389)', 'POINT (-117.42571 47.64779)',\n",
       "       'POINT (-122.69107 48.05105)', 'POINT (-118.66919 46.04238)',\n",
       "       'POINT (-117.2335 47.67666)', 'POINT (-117.54392 47.77676)',\n",
       "       'POINT (-120.53113 46.65404)', 'POINT (-117.37056 47.70402)',\n",
       "       'POINT (-122.35686 47.23679)', 'POINT (-122.45079 48.9429)',\n",
       "       'POINT (-123.81619 46.97606)', 'POINT (-122.67876 47.17794)',\n",
       "       'POINT (-123.00026 48.61989)', 'POINT (-122.49771 47.79803)',\n",
       "       'POINT (-121.95585 46.53534)', 'POINT (-122.48271 47.24737)',\n",
       "       'POINT (-117.41162 47.65726)', 'POINT (-122.23857 48.50858)',\n",
       "       'POINT (-121.91353 47.64901)', 'POINT (-122.43874 47.22448)',\n",
       "       'POINT (-122.29537 47.19044)', 'POINT (-122.82764 47.45054)',\n",
       "       'POINT (-117.57445 47.48928)', 'POINT (-123.40382 47.00379)',\n",
       "       'POINT (-122.45691 47.26496)', 'POINT (-122.54729 47.42602)',\n",
       "       'POINT (-121.96931 48.08157)', 'POINT (-119.55125 47.31867)',\n",
       "       'POINT (-122.74595 45.81539)', 'POINT (-123.26405 47.04946)',\n",
       "       'POINT (-122.59351 48.84756)', 'POINT (-122.30116 47.1165)',\n",
       "       'POINT (-122.32806 47.46155)', 'POINT (-122.28879 47.44538)',\n",
       "       'POINT (-122.31111 47.78803)', 'POINT (-122.47554 47.21835)',\n",
       "       'POINT (-122.67156 45.63248)', 'POINT (-123.4313 48.11872)',\n",
       "       'POINT (-122.52664 48.00956)', 'POINT (-122.68993 46.88897)',\n",
       "       'POINT (-120.00949 46.32379)', 'POINT (-122.6306 46.53186)',\n",
       "       'POINT (-117.90454 48.54657)', 'POINT (-121.98609 47.74068)',\n",
       "       'POINT (-117.3973 47.67573)', 'POINT (-117.11195 47.70763)',\n",
       "       'POINT (-120.1231 48.3652)', 'POINT (-122.26832 46.86733)',\n",
       "       'POINT (-117.35237 47.89594)', 'POINT (-124.16408 47.01156)',\n",
       "       'POINT (-122.35341 45.57923)', 'POINT (-122.68475 47.92989)',\n",
       "       'POINT (-119.48756 46.26543)', 'POINT (-117.04556 46.41402)',\n",
       "       'POINT (-121.98233 47.35298)', 'POINT (-122.89868 46.14425)',\n",
       "       'POINT (-118.60061 48.88101)', 'POINT (-117.39322 47.63374)',\n",
       "       'POINT (-122.21766 48.8268)', 'POINT (-119.76877 46.20645)',\n",
       "       'POINT (-122.32172 47.24898)', 'POINT (-123.14135 47.40639)',\n",
       "       'POINT (-119.33788 46.2969)', 'POINT (114.32466 4.17756)',\n",
       "       'POINT (-102.69968 22.95716)', 'POINT (-120.01454 47.83985)',\n",
       "       'POINT (-122.29477 47.05703)', 'POINT (-123.72994 46.68867)',\n",
       "       'POINT (-122.54578 45.73473)', 'POINT (-120.14545 47.37163)',\n",
       "       'POINT (-122.51495 47.16195)', 'POINT (-122.49724 48.38874)',\n",
       "       'POINT (-117.5821 47.09185)', 'POINT (-117.35586 47.7628)',\n",
       "       'POINT (-123.88689 46.97982)', 'POINT (-117.47154 47.95431)',\n",
       "       'POINT (-119.03591 47.93348)', 'POINT (-122.77295 48.01182)',\n",
       "       'POINT (-119.01561 46.1992)', 'POINT (-119.85338 47.23748)',\n",
       "       'POINT (-122.67244 45.86161)', 'POINT (-121.02627 47.23781)',\n",
       "       'POINT (-124.05439 46.35232)', 'POINT (-117.72555 48.17623)',\n",
       "       'POINT (-122.84226 46.00813)', 'POINT (-122.62749 47.565)',\n",
       "       'POINT (-122.51843 47.7487)', 'POINT (-120.17739 48.47396)',\n",
       "       'POINT (-122.02523 47.16299)', 'POINT (-123.60076 46.98384)',\n",
       "       'POINT (-117.2718 47.65388)', 'POINT (-122.31902 48.01306)',\n",
       "       'POINT (-117.97577 46.32189)', 'POINT (-122.76355 47.34347)',\n",
       "       'POINT (-122.69891 46.57613)', 'POINT (-117.68269 47.57261)',\n",
       "       'POINT (-122.32181 48.92857)', 'POINT (-122.95298 46.72894)',\n",
       "       'POINT (-121.81688 47.8623)', 'POINT (-121.52529 45.99588)',\n",
       "       'POINT (-124.05475 46.3354)', 'POINT (-121.82048 45.72558)',\n",
       "       'POINT (-117.35414 47.83743)', 'POINT (-122.68321 48.72043)',\n",
       "       'POINT (-117.06882 47.7251)', 'POINT (-123.38568 46.20728)',\n",
       "       'POINT (-117.19631 47.65706)', 'POINT (-117.23995 47.5353)',\n",
       "       'POINT (-120.47005 47.5224)', 'POINT (-122.53658 45.98974)',\n",
       "       'POINT (-123.76901 46.95413)', 'POINT (-124.03547 46.3088)',\n",
       "       'POINT (-123.23286 46.84077)', 'POINT (-122.70639 47.68732)',\n",
       "       'POINT (-122.8112 46.29694)', 'POINT (-122.93881 46.49114)',\n",
       "       'POINT (-122.56821 48.08844)', 'POINT (-122.85135 46.85752)',\n",
       "       'POINT (-119.63136 46.90248)', 'POINT (-122.32738 47.58616)',\n",
       "       'POINT (-122.64219 48.91865)', 'POINT (-122.57908 47.10349)',\n",
       "       'POINT (-118.38864 46.03456)', 'POINT (-121.52357 45.72902)',\n",
       "       'POINT (-122.42148 45.91958)', 'POINT (-121.46623 45.71513)',\n",
       "       'POINT (-123.04373 46.37331)', 'POINT (-122.23452 48.46376)',\n",
       "       'POINT (-120.69972 46.7309)', 'POINT (-121.93654 47.54371)',\n",
       "       'POINT (-124.0495 46.49147)', 'POINT (-122.8357 48.62356)',\n",
       "       'POINT (-119.1742 46.82616)', 'POINT (-117.37047 47.23428)',\n",
       "       'POINT (-121.41201 47.41873)', 'POINT (-118.73748 48.64426)',\n",
       "       'POINT (-119.00041 47.94283)', 'POINT (-117.71555 48.28136)',\n",
       "       'POINT (-121.66939 46.61019)', 'POINT (-120.66621 47.05139)',\n",
       "       'POINT (-120.47794 46.55282)', 'POINT (-120.20227 47.37238)',\n",
       "       'POINT (-118.61566 46.97135)', 'POINT (-120.18721 46.33937)',\n",
       "       'POINT (-118.70912 47.75942)', 'POINT (-122.84784 46.44067)',\n",
       "       'POINT (-120.31298 46.37508)', 'POINT (-119.01647 46.45698)',\n",
       "       'POINT (-124.30041 48.25978)', 'POINT (-117.13359 47.00706)',\n",
       "       'POINT (-118.41899 47.82937)', 'POINT (-117.04398 48.18285)',\n",
       "       'POINT (-118.25682 47.4829)', 'POINT (-122.24692 47.26465)',\n",
       "       'POINT (-122.33145 47.60622)', 'POINT (-122.7478 46.53239)',\n",
       "       'POINT (-117.58937 46.47398)', 'POINT (-122.75905 47.21454)',\n",
       "       'POINT (-118.86063 46.66146)', 'POINT (-122.89646 47.69838)',\n",
       "       'POINT (-121.35912 47.71192)', 'POINT (-117.87704 47.66951)',\n",
       "       'POINT (-122.07728 48.92369)', 'POINT (-119.28816 47.61233)',\n",
       "       'POINT (-121.14532 45.61623)', 'POINT (-119.9899 46.94468)',\n",
       "       'POINT (-119.43558 48.93881)', 'POINT (-120.16034 47.8854)',\n",
       "       'POINT (-119.52724 48.41078)', 'POINT (-119.78093 48.09967)',\n",
       "       'POINT (-119.00503 46.57833)', 'POINT (-120.07145 47.64963)',\n",
       "       'POINT (-123.94534 46.27264)', 'POINT (-121.69743 47.85565)',\n",
       "       'POINT (-119.48323 47.38898)', 'POINT (-120.75541 46.70257)',\n",
       "       'POINT (-119.9 46.73777)', 'POINT (-117.8379 48.35609)',\n",
       "       'POINT (-124.38543 47.95014)', 'POINT (-120.42051 46.44779)',\n",
       "       'POINT (-123.81154 46.36545)', 'POINT (-122.8775 47.82642)',\n",
       "       'POINT (-117.04784 46.34056)', 'POINT (-121.17954 47.2378)',\n",
       "       'POINT (-117.64458 47.64046)', 'POINT (-122.50156 47.13872)',\n",
       "       'POINT (-123.45797 46.2716)', 'POINT (-123.0921 47.47203)',\n",
       "       'POINT (-118.98504 47.40718)', 'POINT (-119.04573 46.96971)',\n",
       "       'POINT (-118.14913 47.65405)', 'POINT (-121.28544 45.6939)',\n",
       "       'POINT (-118.06211 48.61053)', 'POINT (-123.81481 46.66382)',\n",
       "       'POINT (-122.40527 47.2556)', 'POINT (-119.57959 48.3654)',\n",
       "       'POINT (-119.63759 47.8118)', 'POINT (-119.89975 48.05502)',\n",
       "       'POINT (-122.26496 48.99956)', 'POINT (-117.30443 48.33866)',\n",
       "       'POINT (-122.03243 46.75908)', 'POINT (-117.27816 48.01723)',\n",
       "       'POINT (-122.04735 47.08015)', 'POINT (-117.13261 47.45227)',\n",
       "       'POINT (-117.15511 47.27966)', 'POINT (-120.0051 48.12868)',\n",
       "       'POINT (-121.60421 48.25431)', 'POINT (-122.48446 46.52948)',\n",
       "       'POINT (-122.53087 47.12729)', 'POINT (-119.50853 48.5012)',\n",
       "       'POINT (-124.09366 46.80933)', 'POINT (-117.74137 48.05738)',\n",
       "       'POINT (-122.30857 46.04647)', 'POINT (-117.68485 46.92752)',\n",
       "       'POINT (-118.19657 48.29812)', 'POINT (-120.10803 48.25448)',\n",
       "       'POINT (-117.36477 46.87965)', 'POINT (-120.73063 46.38287)',\n",
       "       'POINT (-118.16165 48.42934)', 'POINT (-124.62735 48.36778)',\n",
       "       'POINT (-118.97669 47.9708)', 'POINT (-122.92991 48.58348)',\n",
       "       'POINT (-121.41604 48.52739)', 'POINT (-121.48491 47.77193)',\n",
       "       'POINT (-117.38035 47.42909)', 'POINT (-122.60209 46.52793)',\n",
       "       'POINT (-123.99814 46.71227)', 'POINT (-121.10717 45.84657)',\n",
       "       'POINT (-120.08512 46.3294)', 'POINT (-122.95015 46.40201)',\n",
       "       'POINT (-120.41752 46.98472)', 'POINT (-117.21611 47.56436)',\n",
       "       'POINT (-120.4072 48.59369)', 'POINT (-118.20299 48.11777)',\n",
       "       'POINT (-118.02345 48.71331)', 'POINT (-124.33152 48.05431)',\n",
       "       'POINT (-117.63731 48.06288)', 'POINT (-123.61022 46.35588)',\n",
       "       'POINT (-118.68999 47.33323)', 'POINT (-117.28054 48.31375)',\n",
       "       'POINT (-122.64751 47.55671)', 'POINT (-122.18768 46.71902)',\n",
       "       'POINT (-123.89691 47.45917)', 'POINT (-122.73237 46.32447)',\n",
       "       'POINT (-123.13056 46.56094)', 'POINT (-122.49165 46.60409)',\n",
       "       'POINT (-119.10557 47.69015)', 'POINT (-118.15448 46.27013)',\n",
       "       'POINT (-117.95109 47.50524)', 'POINT (-117.97378 47.30036)',\n",
       "       'POINT (-117.07351 47.22679)', 'POINT (-123.29831 46.57001)',\n",
       "       'POINT (-117.80582 47.90886)', 'POINT (-124.21349 47.23932)',\n",
       "       'POINT (-122.05976 48.52525)', 'POINT (-121.29272 46.01842)',\n",
       "       'POINT (-117.12984 46.56801)', 'POINT (-122.09624 47.13954)',\n",
       "       'POINT (-124.26015 48.25371)', 'POINT (-121.59274 48.48758)',\n",
       "       'POINT (27.25316 67.01865)', 'POINT (-124.16705 47.11487)',\n",
       "       'POINT (-123.48162 47.00236)', 'POINT (-119.9176 47.41492)',\n",
       "       'POINT (-118.50797 48.99237)', 'POINT (-123.84618 47.46807)',\n",
       "       'POINT (-120.20117 45.74956)', 'POINT (-123.03598 48.68843)',\n",
       "       'POINT (-118.19894 48.0784)', 'POINT (-120.94822 47.18891)',\n",
       "       'POINT (-120.903 45.75198)', 'POINT (-117.17125 47.38522)',\n",
       "       'POINT (-117.90629 47.20139)', 'POINT (-124.02697 46.54905)',\n",
       "       'POINT (-124.07463 47.11059)', 'POINT (-124.28628 47.34257)',\n",
       "       'POINT (-123.6386 46.33397)', 'POINT (-119.27844 47.4263)',\n",
       "       'POINT (-123.95518 46.63188)', 'POINT (-123.40727 47.23519)',\n",
       "       'POINT (-118.13633 48.31085)', 'POINT (-118.31243 46.29961)',\n",
       "       'POINT (-122.86239 46.07142)', 'POINT (-122.13017 46.53072)',\n",
       "       'POINT (-119.99854 46.21092)', 'POINT (-117.08742 46.53906)'],\n",
       "      dtype=object)"
      ]
     },
     "execution_count": 29,
     "metadata": {},
     "output_type": "execute_result"
    }
   ],
   "source": [
    "data['Vehicle Location'].unique()"
   ]
  },
  {
   "cell_type": "code",
   "execution_count": 30,
   "id": "13e42737",
   "metadata": {},
   "outputs": [],
   "source": [
    "data['Vehicle Location']= data['Vehicle Location'].str.replace('POINT','')"
   ]
  },
  {
   "cell_type": "code",
   "execution_count": 31,
   "id": "e349ed59",
   "metadata": {},
   "outputs": [
    {
     "data": {
      "text/plain": [
       "array([' (-120.50721 46.60448)', ' (-121.7515 48.53892)',\n",
       "       ' (-122.20596 47.97659)', ' (-122.18384 47.8031)',\n",
       "       ' (-122.23019 47.94949)', ' (-122.29196 47.89908)',\n",
       "       ' (-122.35803 47.9796)', ' (-122.61214 48.51748)',\n",
       "       ' (-122.75379 47.06316)', ' (-119.2771 47.13196)',\n",
       "       ' (-123.08743 46.82175)', ' (-122.33029 48.46846)',\n",
       "       ' (-122.19388 48.15353)', ' (-122.27734 47.83785)',\n",
       "       ' (-122.31768 47.87166)', ' (-122.92333 47.03779)',\n",
       "       ' (-122.27981 47.85727)', ' (-122.3026 47.72656)',\n",
       "       ' (-122.23035 47.3074)', ' (-122.31765 47.70013)',\n",
       "       ' (-122.37689 47.81116)', ' (-122.40618 48.0399)',\n",
       "       ' (-122.82324 47.04437)', ' (-122.89166 47.03956)',\n",
       "       ' (-122.18637 47.89252)', ' (-122.1389 47.87115)',\n",
       "       ' (-122.66122 47.56573)', ' (-122.29245 47.82557)',\n",
       "       ' (-122.25527 47.90456)', ' (-120.52301 46.60138)',\n",
       "       ' (-120.56916 46.58514)', ' (-117.18147 46.73015)',\n",
       "       ' (-117.45674 47.69963)', ' (-122.55242 47.73162)',\n",
       "       ' (-121.98087 47.8526)', ' (-122.62316 47.70251)',\n",
       "       ' (-122.80277 46.99409)', ' (-122.04526 47.39394)',\n",
       "       ' (-122.1769 48.06114)', ' (-122.17743 47.41185)',\n",
       "       ' (-122.31327 47.75736)', ' (-122.64681 47.73689)',\n",
       "       ' (-122.09305 47.91265)', ' (-122.13158 47.67858)',\n",
       "       ' (-122.00292 47.54748)', ' (-122.95058 46.14681)',\n",
       "       ' (-122.52054 47.26887)', ' (-120.54872 46.99703)',\n",
       "       ' (-122.3317 47.50314)', ' (-122.72457 47.38165)',\n",
       "       ' (-122.35051 47.15252)', ' (-122.02054 47.60326)',\n",
       "       ' (-122.32427 47.63433)', ' (-124.10424 46.89078)',\n",
       "       ' (-122.49212 45.60365)', ' (-122.20563 47.76144)',\n",
       "       ' (-117.59311 47.6443)', ' (-122.03539 47.61344)',\n",
       "       ' (-122.21238 47.57816)', ' (-122.37265 48.24159)',\n",
       "       ' (-122.03287 47.68555)', ' (-122.521 47.62728)',\n",
       "       ' (-122.23741 47.3807)', ' (-122.30716 47.62687)',\n",
       "       ' (-122.31009 47.60803)', ' (-122.41067 47.57894)',\n",
       "       ' (-122.21698 47.28317)', ' (-120.20831 47.67562)',\n",
       "       ' (-122.54795 47.17997)', ' (-122.17144 47.19175)',\n",
       "       ' (-122.35186 47.54286)', ' (-122.44164 47.25517)',\n",
       "       ' (-122.11867 47.63131)', ' (-122.64695 45.65675)',\n",
       "       ' (-117.3186 47.6505)', ' (-122.2066 47.67887)',\n",
       "       ' (-122.30866 47.57874)', ' (-122.37571 47.16104)',\n",
       "       ' (-122.38591 47.67597)', ' (-122.15771 47.50549)',\n",
       "       ' (-122.65745 47.4916)', ' (-122.47122 48.75235)',\n",
       "       ' (-122.62934 45.63201)', ' (-119.26844 46.31484)',\n",
       "       ' (-122.1872 47.61001)', ' (-122.40049 48.23986)',\n",
       "       ' (-120.30522 47.41494)', ' (-122.35436 47.67596)',\n",
       "       ' (-122.23825 47.49461)', ' (-122.06402 48.01497)',\n",
       "       ' (-122.5476 45.62832)', ' (-122.62731 45.71668)',\n",
       "       ' (-122.45516 48.74487)', ' (-122.54332 47.00328)',\n",
       "       ' (-122.60302 47.36223)', ' (-122.34223 47.61085)',\n",
       "       ' (-122.29592 47.40139)', ' (-122.36498 47.72238)',\n",
       "       ' (-122.40199 45.58694)', ' (-119.3118 46.20664)',\n",
       "       ' (-122.38415 47.53755)', ' (-122.63847 47.54103)',\n",
       "       ' (-122.31307 47.66127)', ' (-122.08747 47.4466)',\n",
       "       ' (-122.21061 47.83448)', ' (-122.34118 47.46665)',\n",
       "       ' (-119.27372 46.27391)', ' (-122.2668 47.55115)',\n",
       "       ' (-122.5331 45.78092)', ' (-122.70303 45.70954)',\n",
       "       ' (-122.34468 47.61578)', ' (-118.34261 46.07068)',\n",
       "       ' (-121.7831 47.49348)', ' (-122.12096 47.55584)',\n",
       "       ' (-122.22901 47.72201)', ' (-122.18463 47.49929)',\n",
       "       ' (-122.87741 47.05997)', ' (-122.19564 47.37271)',\n",
       "       ' (-122.32267 48.41626)', ' (-122.58009 47.328)',\n",
       "       ' (-122.1621 47.64441)', ' (-122.74017 45.9094)',\n",
       "       ' (-122.15545 47.75448)', ' (-122.82983 47.38174)',\n",
       "       ' (-122.3684 47.64586)', ' (-121.82432 47.52716)',\n",
       "       ' (-121.89086 47.56812)', ' (-122.28449 47.146)',\n",
       "       ' (-123.01648 48.53448)', ' (-122.38418 47.70044)',\n",
       "       ' (-123.05688 48.98867)', ' (-122.62954 47.09583)',\n",
       "       ' (-122.346385 47.630685)', ' (-122.07479 47.75264)',\n",
       "       ' (-122.90724 46.27509)', ' (-122.74888 48.99404)',\n",
       "       ' (-122.55149 45.69345)', ' (-119.11698 46.20804)',\n",
       "       ' (-122.03439 47.5301)', ' (-117.45005 47.7333)',\n",
       "       ' (-122.30346 47.55379)', ' (-117.3797 47.65548)',\n",
       "       ' (-122.27511 46.55465)', ' (-122.77263 48.1212)',\n",
       "       ' (-120.99607 47.22593)', ' (-122.24369 47.75892)',\n",
       "       ' (-122.09124 47.33778)', ' (-122.3303 47.30151)',\n",
       "       ' (-122.69275 47.65171)', ' (-122.3503 47.71868)',\n",
       "       ' (-122.40092 47.65908)', ' (-122.23892 47.61613)',\n",
       "       ' (-122.21152 47.43954)', ' (-121.99136 47.20433)',\n",
       "       ' (-123.10367 48.07965)', ' (-122.33891 48.41644)',\n",
       "       ' (-120.22795 47.62352)', ' (-119.90123 46.25606)',\n",
       "       ' (-120.26186 46.40186)', ' (-122.28556 47.18709)',\n",
       "       ' (-122.4573 47.44929)', ' (-122.52886 47.24977)',\n",
       "       ' (-121.48704 45.72776)', ' (-122.57722 45.64251)',\n",
       "       ' (-122.32945 47.60357)', ' (-122.5338 47.23594)',\n",
       "       ' (-121.97745 47.53433)', ' (-120.29473 47.41515)',\n",
       "       ' (-120.60364 47.56805)', ' (-122.82364 47.32767)',\n",
       "       ' (-122.59802 47.17303)', ' (-117.46996 47.59431)',\n",
       "       ' (-122.23972 47.2022)', ' (-119.141 46.19162)',\n",
       "       ' (-117.1748 47.65699)', ' (-123.10565 47.21248)',\n",
       "       ' (-122.41249 47.21584)', ' (-122.96462 46.6621)',\n",
       "       ' (-117.36043 47.63396)', ' (-122.46495 47.16778)',\n",
       "       ' (-124.20177 47.20886)', ' (-122.34536 48.92009)',\n",
       "       ' (-122.36646 47.19269)', ' (-122.00143 47.30893)',\n",
       "       ' (-122.51766 47.27779)', ' (-121.97 45.64119)',\n",
       "       ' (-122.64443 45.67871)', ' (-122.12053 47.61334)',\n",
       "       ' (-122.68558 48.21857)', ' (-122.81585 47.64509)',\n",
       "       ' (-122.1264 48.19471)', ' (-122.92057 47.0031)',\n",
       "       ' (-117.0768 46.9101)', ' (-122.397 48.56045)',\n",
       "       ' (-122.35206 47.30297)', ' (-122.17663 47.32326)',\n",
       "       ' (-122.61624 47.57772)', ' (-122.75493 47.25035)',\n",
       "       ' (-122.53691 47.20606)', ' (-122.6462 47.63132)',\n",
       "       ' (-122.49756 48.7999)', ' (-120.93943 47.195)',\n",
       "       ' (-122.40908 45.86679)', ' (-122.64682 48.29077)',\n",
       "       ' (-122.41894 47.15806)', ' (-120.82548 45.823)',\n",
       "       ' (-122.75878 48.03591)', ' (-122.20348 48.71768)',\n",
       "       ' (-118.37977 47.1274)', ' (-123.09944 47.35689)',\n",
       "       ' (-122.20166 47.09596)', ' (-123.04061 47.37733)',\n",
       "       ' (-122.65107 47.27375)', ' (-122.41666 47.30682)',\n",
       "       ' (-120.39197 46.55621)', ' (-123.46296 48.11653)',\n",
       "       ' (-122.36178 47.49408)', ' (-122.41046 47.06512)',\n",
       "       ' (-122.59219 45.62158)', ' (-117.4077 47.74527)',\n",
       "       ' (-122.91395 48.52342)', ' (-120.65754 47.5982)',\n",
       "       ' (-122.30164 47.45775)', ' (-121.88258 45.69417)',\n",
       "       ' (-119.09467 46.23542)', ' (-122.44718 47.20144)',\n",
       "       ' (-122.60735 46.94239)', ' (-119.43683 48.70854)',\n",
       "       ' (-117.1015 47.66829)', ' (-122.54758 47.91795)',\n",
       "       ' (-122.91109 48.69389)', ' (-117.42571 47.64779)',\n",
       "       ' (-122.69107 48.05105)', ' (-118.66919 46.04238)',\n",
       "       ' (-117.2335 47.67666)', ' (-117.54392 47.77676)',\n",
       "       ' (-120.53113 46.65404)', ' (-117.37056 47.70402)',\n",
       "       ' (-122.35686 47.23679)', ' (-122.45079 48.9429)',\n",
       "       ' (-123.81619 46.97606)', ' (-122.67876 47.17794)',\n",
       "       ' (-123.00026 48.61989)', ' (-122.49771 47.79803)',\n",
       "       ' (-121.95585 46.53534)', ' (-122.48271 47.24737)',\n",
       "       ' (-117.41162 47.65726)', ' (-122.23857 48.50858)',\n",
       "       ' (-121.91353 47.64901)', ' (-122.43874 47.22448)',\n",
       "       ' (-122.29537 47.19044)', ' (-122.82764 47.45054)',\n",
       "       ' (-117.57445 47.48928)', ' (-123.40382 47.00379)',\n",
       "       ' (-122.45691 47.26496)', ' (-122.54729 47.42602)',\n",
       "       ' (-121.96931 48.08157)', ' (-119.55125 47.31867)',\n",
       "       ' (-122.74595 45.81539)', ' (-123.26405 47.04946)',\n",
       "       ' (-122.59351 48.84756)', ' (-122.30116 47.1165)',\n",
       "       ' (-122.32806 47.46155)', ' (-122.28879 47.44538)',\n",
       "       ' (-122.31111 47.78803)', ' (-122.47554 47.21835)',\n",
       "       ' (-122.67156 45.63248)', ' (-123.4313 48.11872)',\n",
       "       ' (-122.52664 48.00956)', ' (-122.68993 46.88897)',\n",
       "       ' (-120.00949 46.32379)', ' (-122.6306 46.53186)',\n",
       "       ' (-117.90454 48.54657)', ' (-121.98609 47.74068)',\n",
       "       ' (-117.3973 47.67573)', ' (-117.11195 47.70763)',\n",
       "       ' (-120.1231 48.3652)', ' (-122.26832 46.86733)',\n",
       "       ' (-117.35237 47.89594)', ' (-124.16408 47.01156)',\n",
       "       ' (-122.35341 45.57923)', ' (-122.68475 47.92989)',\n",
       "       ' (-119.48756 46.26543)', ' (-117.04556 46.41402)',\n",
       "       ' (-121.98233 47.35298)', ' (-122.89868 46.14425)',\n",
       "       ' (-118.60061 48.88101)', ' (-117.39322 47.63374)',\n",
       "       ' (-122.21766 48.8268)', ' (-119.76877 46.20645)',\n",
       "       ' (-122.32172 47.24898)', ' (-123.14135 47.40639)',\n",
       "       ' (-119.33788 46.2969)', ' (114.32466 4.17756)',\n",
       "       ' (-102.69968 22.95716)', ' (-120.01454 47.83985)',\n",
       "       ' (-122.29477 47.05703)', ' (-123.72994 46.68867)',\n",
       "       ' (-122.54578 45.73473)', ' (-120.14545 47.37163)',\n",
       "       ' (-122.51495 47.16195)', ' (-122.49724 48.38874)',\n",
       "       ' (-117.5821 47.09185)', ' (-117.35586 47.7628)',\n",
       "       ' (-123.88689 46.97982)', ' (-117.47154 47.95431)',\n",
       "       ' (-119.03591 47.93348)', ' (-122.77295 48.01182)',\n",
       "       ' (-119.01561 46.1992)', ' (-119.85338 47.23748)',\n",
       "       ' (-122.67244 45.86161)', ' (-121.02627 47.23781)',\n",
       "       ' (-124.05439 46.35232)', ' (-117.72555 48.17623)',\n",
       "       ' (-122.84226 46.00813)', ' (-122.62749 47.565)',\n",
       "       ' (-122.51843 47.7487)', ' (-120.17739 48.47396)',\n",
       "       ' (-122.02523 47.16299)', ' (-123.60076 46.98384)',\n",
       "       ' (-117.2718 47.65388)', ' (-122.31902 48.01306)',\n",
       "       ' (-117.97577 46.32189)', ' (-122.76355 47.34347)',\n",
       "       ' (-122.69891 46.57613)', ' (-117.68269 47.57261)',\n",
       "       ' (-122.32181 48.92857)', ' (-122.95298 46.72894)',\n",
       "       ' (-121.81688 47.8623)', ' (-121.52529 45.99588)',\n",
       "       ' (-124.05475 46.3354)', ' (-121.82048 45.72558)',\n",
       "       ' (-117.35414 47.83743)', ' (-122.68321 48.72043)',\n",
       "       ' (-117.06882 47.7251)', ' (-123.38568 46.20728)',\n",
       "       ' (-117.19631 47.65706)', ' (-117.23995 47.5353)',\n",
       "       ' (-120.47005 47.5224)', ' (-122.53658 45.98974)',\n",
       "       ' (-123.76901 46.95413)', ' (-124.03547 46.3088)',\n",
       "       ' (-123.23286 46.84077)', ' (-122.70639 47.68732)',\n",
       "       ' (-122.8112 46.29694)', ' (-122.93881 46.49114)',\n",
       "       ' (-122.56821 48.08844)', ' (-122.85135 46.85752)',\n",
       "       ' (-119.63136 46.90248)', ' (-122.32738 47.58616)',\n",
       "       ' (-122.64219 48.91865)', ' (-122.57908 47.10349)',\n",
       "       ' (-118.38864 46.03456)', ' (-121.52357 45.72902)',\n",
       "       ' (-122.42148 45.91958)', ' (-121.46623 45.71513)',\n",
       "       ' (-123.04373 46.37331)', ' (-122.23452 48.46376)',\n",
       "       ' (-120.69972 46.7309)', ' (-121.93654 47.54371)',\n",
       "       ' (-124.0495 46.49147)', ' (-122.8357 48.62356)',\n",
       "       ' (-119.1742 46.82616)', ' (-117.37047 47.23428)',\n",
       "       ' (-121.41201 47.41873)', ' (-118.73748 48.64426)',\n",
       "       ' (-119.00041 47.94283)', ' (-117.71555 48.28136)',\n",
       "       ' (-121.66939 46.61019)', ' (-120.66621 47.05139)',\n",
       "       ' (-120.47794 46.55282)', ' (-120.20227 47.37238)',\n",
       "       ' (-118.61566 46.97135)', ' (-120.18721 46.33937)',\n",
       "       ' (-118.70912 47.75942)', ' (-122.84784 46.44067)',\n",
       "       ' (-120.31298 46.37508)', ' (-119.01647 46.45698)',\n",
       "       ' (-124.30041 48.25978)', ' (-117.13359 47.00706)',\n",
       "       ' (-118.41899 47.82937)', ' (-117.04398 48.18285)',\n",
       "       ' (-118.25682 47.4829)', ' (-122.24692 47.26465)',\n",
       "       ' (-122.33145 47.60622)', ' (-122.7478 46.53239)',\n",
       "       ' (-117.58937 46.47398)', ' (-122.75905 47.21454)',\n",
       "       ' (-118.86063 46.66146)', ' (-122.89646 47.69838)',\n",
       "       ' (-121.35912 47.71192)', ' (-117.87704 47.66951)',\n",
       "       ' (-122.07728 48.92369)', ' (-119.28816 47.61233)',\n",
       "       ' (-121.14532 45.61623)', ' (-119.9899 46.94468)',\n",
       "       ' (-119.43558 48.93881)', ' (-120.16034 47.8854)',\n",
       "       ' (-119.52724 48.41078)', ' (-119.78093 48.09967)',\n",
       "       ' (-119.00503 46.57833)', ' (-120.07145 47.64963)',\n",
       "       ' (-123.94534 46.27264)', ' (-121.69743 47.85565)',\n",
       "       ' (-119.48323 47.38898)', ' (-120.75541 46.70257)',\n",
       "       ' (-119.9 46.73777)', ' (-117.8379 48.35609)',\n",
       "       ' (-124.38543 47.95014)', ' (-120.42051 46.44779)',\n",
       "       ' (-123.81154 46.36545)', ' (-122.8775 47.82642)',\n",
       "       ' (-117.04784 46.34056)', ' (-121.17954 47.2378)',\n",
       "       ' (-117.64458 47.64046)', ' (-122.50156 47.13872)',\n",
       "       ' (-123.45797 46.2716)', ' (-123.0921 47.47203)',\n",
       "       ' (-118.98504 47.40718)', ' (-119.04573 46.96971)',\n",
       "       ' (-118.14913 47.65405)', ' (-121.28544 45.6939)',\n",
       "       ' (-118.06211 48.61053)', ' (-123.81481 46.66382)',\n",
       "       ' (-122.40527 47.2556)', ' (-119.57959 48.3654)',\n",
       "       ' (-119.63759 47.8118)', ' (-119.89975 48.05502)',\n",
       "       ' (-122.26496 48.99956)', ' (-117.30443 48.33866)',\n",
       "       ' (-122.03243 46.75908)', ' (-117.27816 48.01723)',\n",
       "       ' (-122.04735 47.08015)', ' (-117.13261 47.45227)',\n",
       "       ' (-117.15511 47.27966)', ' (-120.0051 48.12868)',\n",
       "       ' (-121.60421 48.25431)', ' (-122.48446 46.52948)',\n",
       "       ' (-122.53087 47.12729)', ' (-119.50853 48.5012)',\n",
       "       ' (-124.09366 46.80933)', ' (-117.74137 48.05738)',\n",
       "       ' (-122.30857 46.04647)', ' (-117.68485 46.92752)',\n",
       "       ' (-118.19657 48.29812)', ' (-120.10803 48.25448)',\n",
       "       ' (-117.36477 46.87965)', ' (-120.73063 46.38287)',\n",
       "       ' (-118.16165 48.42934)', ' (-124.62735 48.36778)',\n",
       "       ' (-118.97669 47.9708)', ' (-122.92991 48.58348)',\n",
       "       ' (-121.41604 48.52739)', ' (-121.48491 47.77193)',\n",
       "       ' (-117.38035 47.42909)', ' (-122.60209 46.52793)',\n",
       "       ' (-123.99814 46.71227)', ' (-121.10717 45.84657)',\n",
       "       ' (-120.08512 46.3294)', ' (-122.95015 46.40201)',\n",
       "       ' (-120.41752 46.98472)', ' (-117.21611 47.56436)',\n",
       "       ' (-120.4072 48.59369)', ' (-118.20299 48.11777)',\n",
       "       ' (-118.02345 48.71331)', ' (-124.33152 48.05431)',\n",
       "       ' (-117.63731 48.06288)', ' (-123.61022 46.35588)',\n",
       "       ' (-118.68999 47.33323)', ' (-117.28054 48.31375)',\n",
       "       ' (-122.64751 47.55671)', ' (-122.18768 46.71902)',\n",
       "       ' (-123.89691 47.45917)', ' (-122.73237 46.32447)',\n",
       "       ' (-123.13056 46.56094)', ' (-122.49165 46.60409)',\n",
       "       ' (-119.10557 47.69015)', ' (-118.15448 46.27013)',\n",
       "       ' (-117.95109 47.50524)', ' (-117.97378 47.30036)',\n",
       "       ' (-117.07351 47.22679)', ' (-123.29831 46.57001)',\n",
       "       ' (-117.80582 47.90886)', ' (-124.21349 47.23932)',\n",
       "       ' (-122.05976 48.52525)', ' (-121.29272 46.01842)',\n",
       "       ' (-117.12984 46.56801)', ' (-122.09624 47.13954)',\n",
       "       ' (-124.26015 48.25371)', ' (-121.59274 48.48758)',\n",
       "       ' (27.25316 67.01865)', ' (-124.16705 47.11487)',\n",
       "       ' (-123.48162 47.00236)', ' (-119.9176 47.41492)',\n",
       "       ' (-118.50797 48.99237)', ' (-123.84618 47.46807)',\n",
       "       ' (-120.20117 45.74956)', ' (-123.03598 48.68843)',\n",
       "       ' (-118.19894 48.0784)', ' (-120.94822 47.18891)',\n",
       "       ' (-120.903 45.75198)', ' (-117.17125 47.38522)',\n",
       "       ' (-117.90629 47.20139)', ' (-124.02697 46.54905)',\n",
       "       ' (-124.07463 47.11059)', ' (-124.28628 47.34257)',\n",
       "       ' (-123.6386 46.33397)', ' (-119.27844 47.4263)',\n",
       "       ' (-123.95518 46.63188)', ' (-123.40727 47.23519)',\n",
       "       ' (-118.13633 48.31085)', ' (-118.31243 46.29961)',\n",
       "       ' (-122.86239 46.07142)', ' (-122.13017 46.53072)',\n",
       "       ' (-119.99854 46.21092)', ' (-117.08742 46.53906)'], dtype=object)"
      ]
     },
     "execution_count": 31,
     "metadata": {},
     "output_type": "execute_result"
    }
   ],
   "source": [
    "data['Vehicle Location'].unique()"
   ]
  },
  {
   "cell_type": "code",
   "execution_count": 32,
   "id": "0d6ccefd",
   "metadata": {},
   "outputs": [],
   "source": [
    "data[['Latitude', 'Longitude']] = data['Vehicle Location'].str.strip('POINT ()').str.split(expand=True)"
   ]
  },
  {
   "cell_type": "code",
   "execution_count": 33,
   "id": "ec2fc7a5",
   "metadata": {},
   "outputs": [
    {
     "data": {
      "text/html": [
       "<div>\n",
       "<style scoped>\n",
       "    .dataframe tbody tr th:only-of-type {\n",
       "        vertical-align: middle;\n",
       "    }\n",
       "\n",
       "    .dataframe tbody tr th {\n",
       "        vertical-align: top;\n",
       "    }\n",
       "\n",
       "    .dataframe thead th {\n",
       "        text-align: right;\n",
       "    }\n",
       "</style>\n",
       "<table border=\"1\" class=\"dataframe\">\n",
       "  <thead>\n",
       "    <tr style=\"text-align: right;\">\n",
       "      <th></th>\n",
       "      <th>County</th>\n",
       "      <th>City</th>\n",
       "      <th>State</th>\n",
       "      <th>Postal Code</th>\n",
       "      <th>Model Year</th>\n",
       "      <th>Make</th>\n",
       "      <th>Model</th>\n",
       "      <th>Electric Vehicle Type</th>\n",
       "      <th>Clean Alternative Fuel Vehicle (CAFV) Eligibility</th>\n",
       "      <th>Electric Range</th>\n",
       "      <th>Vehicle Location</th>\n",
       "      <th>Electric Utility</th>\n",
       "      <th>Latitude</th>\n",
       "      <th>Longitude</th>\n",
       "    </tr>\n",
       "  </thead>\n",
       "  <tbody>\n",
       "    <tr>\n",
       "      <th>2</th>\n",
       "      <td>Yakima</td>\n",
       "      <td>Yakima</td>\n",
       "      <td>WA</td>\n",
       "      <td>98901</td>\n",
       "      <td>2011</td>\n",
       "      <td>NISSAN</td>\n",
       "      <td>LEAF</td>\n",
       "      <td>Electric</td>\n",
       "      <td>Clean Alternative Fuel Vehicle Eligible</td>\n",
       "      <td>73</td>\n",
       "      <td>(-120.50721 46.60448)</td>\n",
       "      <td>PACIFICORP</td>\n",
       "      <td>-120.50721</td>\n",
       "      <td>46.60448</td>\n",
       "    </tr>\n",
       "    <tr>\n",
       "      <th>3</th>\n",
       "      <td>Skagit</td>\n",
       "      <td>Concrete</td>\n",
       "      <td>WA</td>\n",
       "      <td>98237</td>\n",
       "      <td>2017</td>\n",
       "      <td>CHEVROLET</td>\n",
       "      <td>BOLT EV</td>\n",
       "      <td>Electric</td>\n",
       "      <td>Clean Alternative Fuel Vehicle Eligible</td>\n",
       "      <td>238</td>\n",
       "      <td>(-121.7515 48.53892)</td>\n",
       "      <td>PUGET SOUND ENERGY INC</td>\n",
       "      <td>-121.7515</td>\n",
       "      <td>48.53892</td>\n",
       "    </tr>\n",
       "    <tr>\n",
       "      <th>4</th>\n",
       "      <td>Snohomish</td>\n",
       "      <td>Everett</td>\n",
       "      <td>WA</td>\n",
       "      <td>98201</td>\n",
       "      <td>2019</td>\n",
       "      <td>FORD</td>\n",
       "      <td>FUSION</td>\n",
       "      <td>Plug-in Hybrid</td>\n",
       "      <td>Not eligible due to low battery range</td>\n",
       "      <td>26</td>\n",
       "      <td>(-122.20596 47.97659)</td>\n",
       "      <td>PUGET SOUND ENERGY INC</td>\n",
       "      <td>-122.20596</td>\n",
       "      <td>47.97659</td>\n",
       "    </tr>\n",
       "    <tr>\n",
       "      <th>5</th>\n",
       "      <td>Snohomish</td>\n",
       "      <td>Bothell</td>\n",
       "      <td>WA</td>\n",
       "      <td>98021</td>\n",
       "      <td>2018</td>\n",
       "      <td>TESLA</td>\n",
       "      <td>MODEL 3</td>\n",
       "      <td>Electric</td>\n",
       "      <td>Clean Alternative Fuel Vehicle Eligible</td>\n",
       "      <td>215</td>\n",
       "      <td>(-122.18384 47.8031)</td>\n",
       "      <td>PUGET SOUND ENERGY INC</td>\n",
       "      <td>-122.18384</td>\n",
       "      <td>47.8031</td>\n",
       "    </tr>\n",
       "    <tr>\n",
       "      <th>6</th>\n",
       "      <td>Snohomish</td>\n",
       "      <td>Everett</td>\n",
       "      <td>WA</td>\n",
       "      <td>98203</td>\n",
       "      <td>2013</td>\n",
       "      <td>NISSAN</td>\n",
       "      <td>LEAF</td>\n",
       "      <td>Electric</td>\n",
       "      <td>Clean Alternative Fuel Vehicle Eligible</td>\n",
       "      <td>75</td>\n",
       "      <td>(-122.23019 47.94949)</td>\n",
       "      <td>PUGET SOUND ENERGY INC</td>\n",
       "      <td>-122.23019</td>\n",
       "      <td>47.94949</td>\n",
       "    </tr>\n",
       "    <tr>\n",
       "      <th>...</th>\n",
       "      <td>...</td>\n",
       "      <td>...</td>\n",
       "      <td>...</td>\n",
       "      <td>...</td>\n",
       "      <td>...</td>\n",
       "      <td>...</td>\n",
       "      <td>...</td>\n",
       "      <td>...</td>\n",
       "      <td>...</td>\n",
       "      <td>...</td>\n",
       "      <td>...</td>\n",
       "      <td>...</td>\n",
       "      <td>...</td>\n",
       "      <td>...</td>\n",
       "    </tr>\n",
       "    <tr>\n",
       "      <th>112608</th>\n",
       "      <td>Kitsap</td>\n",
       "      <td>Gig Harbor</td>\n",
       "      <td>WA</td>\n",
       "      <td>98329</td>\n",
       "      <td>2018</td>\n",
       "      <td>TESLA</td>\n",
       "      <td>MODEL 3</td>\n",
       "      <td>Electric</td>\n",
       "      <td>Clean Alternative Fuel Vehicle Eligible</td>\n",
       "      <td>215</td>\n",
       "      <td>(-122.72457 47.38165)</td>\n",
       "      <td>PUGET SOUND ENERGY INC</td>\n",
       "      <td>-122.72457</td>\n",
       "      <td>47.38165</td>\n",
       "    </tr>\n",
       "    <tr>\n",
       "      <th>112613</th>\n",
       "      <td>King</td>\n",
       "      <td>Seattle</td>\n",
       "      <td>WA</td>\n",
       "      <td>98133</td>\n",
       "      <td>2019</td>\n",
       "      <td>SMART</td>\n",
       "      <td>EQ FORTWO</td>\n",
       "      <td>Electric</td>\n",
       "      <td>Clean Alternative Fuel Vehicle Eligible</td>\n",
       "      <td>58</td>\n",
       "      <td>(-122.3503 47.71868)</td>\n",
       "      <td>CITY OF SEATTLE - (WA)|CITY OF TACOMA - (WA)</td>\n",
       "      <td>-122.3503</td>\n",
       "      <td>47.71868</td>\n",
       "    </tr>\n",
       "    <tr>\n",
       "      <th>112624</th>\n",
       "      <td>Kitsap</td>\n",
       "      <td>Bainbridge Island</td>\n",
       "      <td>WA</td>\n",
       "      <td>98110</td>\n",
       "      <td>2018</td>\n",
       "      <td>MERCEDES-BENZ</td>\n",
       "      <td>C-CLASS</td>\n",
       "      <td>Plug-in Hybrid</td>\n",
       "      <td>Not eligible due to low battery range</td>\n",
       "      <td>8</td>\n",
       "      <td>(-122.521 47.62728)</td>\n",
       "      <td>PUGET SOUND ENERGY INC</td>\n",
       "      <td>-122.521</td>\n",
       "      <td>47.62728</td>\n",
       "    </tr>\n",
       "    <tr>\n",
       "      <th>112628</th>\n",
       "      <td>King</td>\n",
       "      <td>Seattle</td>\n",
       "      <td>WA</td>\n",
       "      <td>98177</td>\n",
       "      <td>2020</td>\n",
       "      <td>AUDI</td>\n",
       "      <td>Q5 E</td>\n",
       "      <td>Plug-in Hybrid</td>\n",
       "      <td>Not eligible due to low battery range</td>\n",
       "      <td>20</td>\n",
       "      <td>(-122.36498 47.72238)</td>\n",
       "      <td>CITY OF SEATTLE - (WA)|CITY OF TACOMA - (WA)</td>\n",
       "      <td>-122.36498</td>\n",
       "      <td>47.72238</td>\n",
       "    </tr>\n",
       "    <tr>\n",
       "      <th>112633</th>\n",
       "      <td>King</td>\n",
       "      <td>Covington</td>\n",
       "      <td>WA</td>\n",
       "      <td>98042</td>\n",
       "      <td>2022</td>\n",
       "      <td>VOLVO</td>\n",
       "      <td>XC90</td>\n",
       "      <td>Plug-in Hybrid</td>\n",
       "      <td>Not eligible due to low battery range</td>\n",
       "      <td>18</td>\n",
       "      <td>(-122.09124 47.33778)</td>\n",
       "      <td>PUGET SOUND ENERGY INC</td>\n",
       "      <td>-122.09124</td>\n",
       "      <td>47.33778</td>\n",
       "    </tr>\n",
       "  </tbody>\n",
       "</table>\n",
       "<p>36282 rows × 14 columns</p>\n",
       "</div>"
      ],
      "text/plain": [
       "           County               City State  Postal Code  Model Year  \\\n",
       "2          Yakima             Yakima    WA        98901        2011   \n",
       "3          Skagit           Concrete    WA        98237        2017   \n",
       "4       Snohomish            Everett    WA        98201        2019   \n",
       "5       Snohomish            Bothell    WA        98021        2018   \n",
       "6       Snohomish            Everett    WA        98203        2013   \n",
       "...           ...                ...   ...          ...         ...   \n",
       "112608     Kitsap         Gig Harbor    WA        98329        2018   \n",
       "112613       King            Seattle    WA        98133        2019   \n",
       "112624     Kitsap  Bainbridge Island    WA        98110        2018   \n",
       "112628       King            Seattle    WA        98177        2020   \n",
       "112633       King          Covington    WA        98042        2022   \n",
       "\n",
       "                 Make      Model Electric Vehicle Type  \\\n",
       "2              NISSAN       LEAF              Electric   \n",
       "3           CHEVROLET    BOLT EV              Electric   \n",
       "4                FORD     FUSION        Plug-in Hybrid   \n",
       "5               TESLA    MODEL 3              Electric   \n",
       "6              NISSAN       LEAF              Electric   \n",
       "...               ...        ...                   ...   \n",
       "112608          TESLA    MODEL 3              Electric   \n",
       "112613          SMART  EQ FORTWO              Electric   \n",
       "112624  MERCEDES-BENZ    C-CLASS        Plug-in Hybrid   \n",
       "112628           AUDI       Q5 E        Plug-in Hybrid   \n",
       "112633          VOLVO       XC90        Plug-in Hybrid   \n",
       "\n",
       "       Clean Alternative Fuel Vehicle (CAFV) Eligibility  Electric Range  \\\n",
       "2                Clean Alternative Fuel Vehicle Eligible              73   \n",
       "3                Clean Alternative Fuel Vehicle Eligible             238   \n",
       "4                  Not eligible due to low battery range              26   \n",
       "5                Clean Alternative Fuel Vehicle Eligible             215   \n",
       "6                Clean Alternative Fuel Vehicle Eligible              75   \n",
       "...                                                  ...             ...   \n",
       "112608           Clean Alternative Fuel Vehicle Eligible             215   \n",
       "112613           Clean Alternative Fuel Vehicle Eligible              58   \n",
       "112624             Not eligible due to low battery range               8   \n",
       "112628             Not eligible due to low battery range              20   \n",
       "112633             Not eligible due to low battery range              18   \n",
       "\n",
       "              Vehicle Location                              Electric Utility  \\\n",
       "2        (-120.50721 46.60448)                                    PACIFICORP   \n",
       "3         (-121.7515 48.53892)                        PUGET SOUND ENERGY INC   \n",
       "4        (-122.20596 47.97659)                        PUGET SOUND ENERGY INC   \n",
       "5         (-122.18384 47.8031)                        PUGET SOUND ENERGY INC   \n",
       "6        (-122.23019 47.94949)                        PUGET SOUND ENERGY INC   \n",
       "...                        ...                                           ...   \n",
       "112608   (-122.72457 47.38165)                        PUGET SOUND ENERGY INC   \n",
       "112613    (-122.3503 47.71868)  CITY OF SEATTLE - (WA)|CITY OF TACOMA - (WA)   \n",
       "112624     (-122.521 47.62728)                        PUGET SOUND ENERGY INC   \n",
       "112628   (-122.36498 47.72238)  CITY OF SEATTLE - (WA)|CITY OF TACOMA - (WA)   \n",
       "112633   (-122.09124 47.33778)                        PUGET SOUND ENERGY INC   \n",
       "\n",
       "          Latitude Longitude  \n",
       "2       -120.50721  46.60448  \n",
       "3        -121.7515  48.53892  \n",
       "4       -122.20596  47.97659  \n",
       "5       -122.18384   47.8031  \n",
       "6       -122.23019  47.94949  \n",
       "...            ...       ...  \n",
       "112608  -122.72457  47.38165  \n",
       "112613   -122.3503  47.71868  \n",
       "112624    -122.521  47.62728  \n",
       "112628  -122.36498  47.72238  \n",
       "112633  -122.09124  47.33778  \n",
       "\n",
       "[36282 rows x 14 columns]"
      ]
     },
     "execution_count": 33,
     "metadata": {},
     "output_type": "execute_result"
    }
   ],
   "source": [
    "data"
   ]
  },
  {
   "cell_type": "code",
   "execution_count": 34,
   "id": "948b35c0",
   "metadata": {},
   "outputs": [
    {
     "name": "stdout",
     "output_type": "stream",
     "text": [
      "<class 'pandas.core.frame.DataFrame'>\n",
      "Int64Index: 36282 entries, 2 to 112633\n",
      "Data columns (total 14 columns):\n",
      " #   Column                                             Non-Null Count  Dtype \n",
      "---  ------                                             --------------  ----- \n",
      " 0   County                                             36282 non-null  object\n",
      " 1   City                                               36282 non-null  object\n",
      " 2   State                                              36282 non-null  object\n",
      " 3   Postal Code                                        36282 non-null  int64 \n",
      " 4   Model Year                                         36282 non-null  int64 \n",
      " 5   Make                                               36282 non-null  object\n",
      " 6   Model                                              36282 non-null  object\n",
      " 7   Electric Vehicle Type                              36282 non-null  object\n",
      " 8   Clean Alternative Fuel Vehicle (CAFV) Eligibility  36282 non-null  object\n",
      " 9   Electric Range                                     36282 non-null  int64 \n",
      " 10  Vehicle Location                                   36282 non-null  object\n",
      " 11  Electric Utility                                   36282 non-null  object\n",
      " 12  Latitude                                           36282 non-null  object\n",
      " 13  Longitude                                          36282 non-null  object\n",
      "dtypes: int64(3), object(11)\n",
      "memory usage: 28.0 MB\n"
     ]
    }
   ],
   "source": [
    "data.info(memory_usage= 'deep')"
   ]
  },
  {
   "cell_type": "code",
   "execution_count": 35,
   "id": "e990d10d",
   "metadata": {},
   "outputs": [],
   "source": [
    "import vaex\n",
    "\n",
    "import pylab as plt\n",
    "%matplotlib inline\n",
    "\n",
    "import warnings\n",
    "warnings.filterwarnings('ignore')"
   ]
  },
  {
   "cell_type": "code",
   "execution_count": 36,
   "id": "8185377c",
   "metadata": {},
   "outputs": [],
   "source": [
    "data.Latitude=data.Latitude.astype('float')\n",
    "data.Longitude= data.Longitude.astype('float')"
   ]
  },
  {
   "cell_type": "code",
   "execution_count": 37,
   "id": "bc3a6841",
   "metadata": {},
   "outputs": [
    {
     "name": "stdout",
     "output_type": "stream",
     "text": [
      "<class 'pandas.core.frame.DataFrame'>\n",
      "Int64Index: 36282 entries, 2 to 112633\n",
      "Data columns (total 14 columns):\n",
      " #   Column                                             Non-Null Count  Dtype  \n",
      "---  ------                                             --------------  -----  \n",
      " 0   County                                             36282 non-null  object \n",
      " 1   City                                               36282 non-null  object \n",
      " 2   State                                              36282 non-null  object \n",
      " 3   Postal Code                                        36282 non-null  int64  \n",
      " 4   Model Year                                         36282 non-null  int64  \n",
      " 5   Make                                               36282 non-null  object \n",
      " 6   Model                                              36282 non-null  object \n",
      " 7   Electric Vehicle Type                              36282 non-null  object \n",
      " 8   Clean Alternative Fuel Vehicle (CAFV) Eligibility  36282 non-null  object \n",
      " 9   Electric Range                                     36282 non-null  int64  \n",
      " 10  Vehicle Location                                   36282 non-null  object \n",
      " 11  Electric Utility                                   36282 non-null  object \n",
      " 12  Latitude                                           36282 non-null  float64\n",
      " 13  Longitude                                          36282 non-null  float64\n",
      "dtypes: float64(2), int64(3), object(9)\n",
      "memory usage: 24.0 MB\n"
     ]
    }
   ],
   "source": [
    "data.info(memory_usage= 'deep')"
   ]
  },
  {
   "cell_type": "code",
   "execution_count": 53,
   "id": "717c32bf",
   "metadata": {},
   "outputs": [],
   "source": [
    "data.to_csv('data/Clean_Electric_Vehicle_Population_Data.csv', index=False)"
   ]
  },
  {
   "cell_type": "code",
   "execution_count": 66,
   "id": "9f7d0035",
   "metadata": {},
   "outputs": [
    {
     "data": {
      "image/png": "[encoded data removed]",
      "text/plain": [
       "<Figure size 900x500 with 1 Axes>"
      ]
     },
     "metadata": {},
     "output_type": "display_data"
    }
   ],
   "source": [
    "Companies = data.groupby('Make').count().sort_values(by='City',ascending=False)['City'].index\n",
    "values = data.groupby('Make').count().sort_values(by='City',ascending=False)['City'].values\n",
    "\n",
    "\n",
    "plt.figure(figsize=(9,5))\n",
    "sns.barplot(x=Companies[:10],y=values[:10])\n",
    "\n",
    "plt.xlabel('Make')\n",
    "plt.ylabel('Count')\n",
    "plt.show()"
   ]
  },
  {
   "cell_type": "code",
   "execution_count": null,
   "id": "d0d8d733",
   "metadata": {},
   "outputs": [],
   "source": []
  },
  {
   "cell_type": "code",
   "execution_count": 67,
   "id": "8c9bf3f0",
   "metadata": {},
   "outputs": [
    {
     "data": {
      "image/png": "[encoded data removed]",
      "text/plain": [
       "<Figure size 900x500 with 1 Axes>"
      ]
     },
     "metadata": {},
     "output_type": "display_data"
    }
   ],
   "source": [
    "modelos = data.groupby('Model').count().sort_values(by='City',ascending=False)['City'].index\n",
    "values = data.groupby('Model').count().sort_values(by='City',ascending=False)['City'].values\n",
    "\n",
    "\n",
    "plt.figure(figsize=(9,5))\n",
    "sns.barplot(x=modelos[:10],y=values[:10])\n",
    "\n",
    "plt.xlabel('model')\n",
    "plt.ylabel('Count')\n",
    "plt.show()"
   ]
  },
  {
   "cell_type": "code",
   "execution_count": 71,
   "id": "8e3ed9b0",
   "metadata": {},
   "outputs": [
    {
     "data": {
      "image/png": "[encoded data removed]",
      "text/plain": [
       "<Figure size 900x500 with 1 Axes>"
      ]
     },
     "metadata": {},
     "output_type": "display_data"
    }
   ],
   "source": [
    "año = data.groupby('Model Year').count().sort_values(by='City',ascending=False)['City'].index\n",
    "values = data.groupby('Model Year').count().sort_values(by='City',ascending=False)['City'].values\n",
    "\n",
    "\n",
    "plt.figure(figsize=(9,5))\n",
    "sns.barplot(x=año[:10],y=values[:10])\n",
    "\n",
    "plt.xlabel('year')\n",
    "plt.ylabel('Count')\n",
    "plt.show()"
   ]
  },
  {
   "cell_type": "code",
   "execution_count": 77,
   "id": "da1fef4c",
   "metadata": {},
   "outputs": [
    {
     "data": {
      "application/vnd.plotly.v1+json": {
       "config": {
        "plotlyServerURL": "https://plot.ly"
       },
       "data": [
        {
         "domain": {
          "x": [
           0,
           1
          ],
          "y": [
           0,
           1
          ]
         },
         "hovertemplate": "label=%{label}<br>value=%{value}<extra></extra>",
         "labels": [
          "TESLA",
          "CHEVROLET",
          "NISSAN",
          "FORD",
          "BMW",
          "KIA",
          "TOYOTA",
          "VOLVO",
          "AUDI",
          "VOLKSWAGEN"
         ],
         "legendgroup": "",
         "name": "",
         "showlegend": true,
         "type": "pie",
         "values": [
          6939,
          4672,
          3978,
          3860,
          3344,
          3289,
          2502,
          1903,
          1841,
          1604
         ]
        }
       ],
       "layout": {
        "height": 600,
        "legend": {
         "tracegroupgap": 0
        },
        "margin": {
         "t": 60
        },
        "template": {
         "data": {
          "bar": [
           {
            "error_x": {
             "color": "#2a3f5f"
            },
            "error_y": {
             "color": "#2a3f5f"
            },
            "marker": {
             "line": {
              "color": "#E5ECF6",
              "width": 0.5
             },
             "pattern": {
              "fillmode": "overlay",
              "size": 10,
              "solidity": 0.2
             }
            },
            "type": "bar"
           }
          ],
          "barpolar": [
           {
            "marker": {
             "line": {
              "color": "#E5ECF6",
              "width": 0.5
             },
             "pattern": {
              "fillmode": "overlay",
              "size": 10,
              "solidity": 0.2
             }
            },
            "type": "barpolar"
           }
          ],
          "carpet": [
           {
            "aaxis": {
             "endlinecolor": "#2a3f5f",
             "gridcolor": "white",
             "linecolor": "white",
             "minorgridcolor": "white",
             "startlinecolor": "#2a3f5f"
            },
            "baxis": {
             "endlinecolor": "#2a3f5f",
             "gridcolor": "white",
             "linecolor": "white",
             "minorgridcolor": "white",
             "startlinecolor": "#2a3f5f"
            },
            "type": "carpet"
           }
          ],
          "choropleth": [
           {
            "colorbar": {
             "outlinewidth": 0,
             "ticks": ""
            },
            "type": "choropleth"
           }
          ],
          "contour": [
           {
            "colorbar": {
             "outlinewidth": 0,
             "ticks": ""
            },
            "colorscale": [
             [
              0,
              "#0d0887"
             ],
             [
              0.1111111111111111,
              "#46039f"
             ],
             [
              0.2222222222222222,
              "#7201a8"
             ],
             [
              0.3333333333333333,
              "#9c179e"
             ],
             [
              0.4444444444444444,
              "#bd3786"
             ],
             [
              0.5555555555555556,
              "#d8576b"
             ],
             [
              0.6666666666666666,
              "#ed7953"
             ],
             [
              0.7777777777777778,
              "#fb9f3a"
             ],
             [
              0.8888888888888888,
              "#fdca26"
             ],
             [
              1,
              "#f0f921"
             ]
            ],
            "type": "contour"
           }
          ],
          "contourcarpet": [
           {
            "colorbar": {
             "outlinewidth": 0,
             "ticks": ""
            },
            "type": "contourcarpet"
           }
          ],
          "heatmap": [
           {
            "colorbar": {
             "outlinewidth": 0,
             "ticks": ""
            },
            "colorscale": [
             [
              0,
              "#0d0887"
             ],
             [
              0.1111111111111111,
              "#46039f"
             ],
             [
              0.2222222222222222,
              "#7201a8"
             ],
             [
              0.3333333333333333,
              "#9c179e"
             ],
             [
              0.4444444444444444,
              "#bd3786"
             ],
             [
              0.5555555555555556,
              "#d8576b"
             ],
             [
              0.6666666666666666,
              "#ed7953"
             ],
             [
              0.7777777777777778,
              "#fb9f3a"
             ],
             [
              0.8888888888888888,
              "#fdca26"
             ],
             [
              1,
              "#f0f921"
             ]
            ],
            "type": "heatmap"
           }
          ],
          "heatmapgl": [
           {
            "colorbar": {
             "outlinewidth": 0,
             "ticks": ""
            },
            "colorscale": [
             [
              0,
              "#0d0887"
             ],
             [
              0.1111111111111111,
              "#46039f"
             ],
             [
              0.2222222222222222,
              "#7201a8"
             ],
             [
              0.3333333333333333,
              "#9c179e"
             ],
             [
              0.4444444444444444,
              "#bd3786"
             ],
             [
              0.5555555555555556,
              "#d8576b"
             ],
             [
              0.6666666666666666,
              "#ed7953"
             ],
             [
              0.7777777777777778,
              "#fb9f3a"
             ],
             [
              0.8888888888888888,
              "#fdca26"
             ],
             [
              1,
              "#f0f921"
             ]
            ],
            "type": "heatmapgl"
           }
          ],
          "histogram": [
           {
            "marker": {
             "pattern": {
              "fillmode": "overlay",
              "size": 10,
              "solidity": 0.2
             }
            },
            "type": "histogram"
           }
          ],
          "histogram2d": [
           {
            "colorbar": {
             "outlinewidth": 0,
             "ticks": ""
            },
            "colorscale": [
             [
              0,
              "#0d0887"
             ],
             [
              0.1111111111111111,
              "#46039f"
             ],
             [
              0.2222222222222222,
              "#7201a8"
             ],
             [
              0.3333333333333333,
              "#9c179e"
             ],
             [
              0.4444444444444444,
              "#bd3786"
             ],
             [
              0.5555555555555556,
              "#d8576b"
             ],
             [
              0.6666666666666666,
              "#ed7953"
             ],
             [
              0.7777777777777778,
              "#fb9f3a"
             ],
             [
              0.8888888888888888,
              "#fdca26"
             ],
             [
              1,
              "#f0f921"
             ]
            ],
            "type": "histogram2d"
           }
          ],
          "histogram2dcontour": [
           {
            "colorbar": {
             "outlinewidth": 0,
             "ticks": ""
            },
            "colorscale": [
             [
              0,
              "#0d0887"
             ],
             [
              0.1111111111111111,
              "#46039f"
             ],
             [
              0.2222222222222222,
              "#7201a8"
             ],
             [
              0.3333333333333333,
              "#9c179e"
             ],
             [
              0.4444444444444444,
              "#bd3786"
             ],
             [
              0.5555555555555556,
              "#d8576b"
             ],
             [
              0.6666666666666666,
              "#ed7953"
             ],
             [
              0.7777777777777778,
              "#fb9f3a"
             ],
             [
              0.8888888888888888,
              "#fdca26"
             ],
             [
              1,
              "#f0f921"
             ]
            ],
            "type": "histogram2dcontour"
           }
          ],
          "mesh3d": [
           {
            "colorbar": {
             "outlinewidth": 0,
             "ticks": ""
            },
            "type": "mesh3d"
           }
          ],
          "parcoords": [
           {
            "line": {
             "colorbar": {
              "outlinewidth": 0,
              "ticks": ""
             }
            },
            "type": "parcoords"
           }
          ],
          "pie": [
           {
            "automargin": true,
            "type": "pie"
           }
          ],
          "scatter": [
           {
            "fillpattern": {
             "fillmode": "overlay",
             "size": 10,
             "solidity": 0.2
            },
            "type": "scatter"
           }
          ],
          "scatter3d": [
           {
            "line": {
             "colorbar": {
              "outlinewidth": 0,
              "ticks": ""
             }
            },
            "marker": {
             "colorbar": {
              "outlinewidth": 0,
              "ticks": ""
             }
            },
            "type": "scatter3d"
           }
          ],
          "scattercarpet": [
           {
            "marker": {
             "colorbar": {
              "outlinewidth": 0,
              "ticks": ""
             }
            },
            "type": "scattercarpet"
           }
          ],
          "scattergeo": [
           {
            "marker": {
             "colorbar": {
              "outlinewidth": 0,
              "ticks": ""
             }
            },
            "type": "scattergeo"
           }
          ],
          "scattergl": [
           {
            "marker": {
             "colorbar": {
              "outlinewidth": 0,
              "ticks": ""
             }
            },
            "type": "scattergl"
           }
          ],
          "scattermapbox": [
           {
            "marker": {
             "colorbar": {
              "outlinewidth": 0,
              "ticks": ""
             }
            },
            "type": "scattermapbox"
           }
          ],
          "scatterpolar": [
           {
            "marker": {
             "colorbar": {
              "outlinewidth": 0,
              "ticks": ""
             }
            },
            "type": "scatterpolar"
           }
          ],
          "scatterpolargl": [
           {
            "marker": {
             "colorbar": {
              "outlinewidth": 0,
              "ticks": ""
             }
            },
            "type": "scatterpolargl"
           }
          ],
          "scatterternary": [
           {
            "marker": {
             "colorbar": {
              "outlinewidth": 0,
              "ticks": ""
             }
            },
            "type": "scatterternary"
           }
          ],
          "surface": [
           {
            "colorbar": {
             "outlinewidth": 0,
             "ticks": ""
            },
            "colorscale": [
             [
              0,
              "#0d0887"
             ],
             [
              0.1111111111111111,
              "#46039f"
             ],
             [
              0.2222222222222222,
              "#7201a8"
             ],
             [
              0.3333333333333333,
              "#9c179e"
             ],
             [
              0.4444444444444444,
              "#bd3786"
             ],
             [
              0.5555555555555556,
              "#d8576b"
             ],
             [
              0.6666666666666666,
              "#ed7953"
             ],
             [
              0.7777777777777778,
              "#fb9f3a"
             ],
             [
              0.8888888888888888,
              "#fdca26"
             ],
             [
              1,
              "#f0f921"
             ]
            ],
            "type": "surface"
           }
          ],
          "table": [
           {
            "cells": {
             "fill": {
              "color": "#EBF0F8"
             },
             "line": {
              "color": "white"
             }
            },
            "header": {
             "fill": {
              "color": "#C8D4E3"
             },
             "line": {
              "color": "white"
             }
            },
            "type": "table"
           }
          ]
         },
         "layout": {
          "annotationdefaults": {
           "arrowcolor": "#2a3f5f",
           "arrowhead": 0,
           "arrowwidth": 1
          },
          "autotypenumbers": "strict",
          "coloraxis": {
           "colorbar": {
            "outlinewidth": 0,
            "ticks": ""
           }
          },
          "colorscale": {
           "diverging": [
            [
             0,
             "#8e0152"
            ],
            [
             0.1,
             "#c51b7d"
            ],
            [
             0.2,
             "#de77ae"
            ],
            [
             0.3,
             "#f1b6da"
            ],
            [
             0.4,
             "#fde0ef"
            ],
            [
             0.5,
             "#f7f7f7"
            ],
            [
             0.6,
             "#e6f5d0"
            ],
            [
             0.7,
             "#b8e186"
            ],
            [
             0.8,
             "#7fbc41"
            ],
            [
             0.9,
             "#4d9221"
            ],
            [
             1,
             "#276419"
            ]
           ],
           "sequential": [
            [
             0,
             "#0d0887"
            ],
            [
             0.1111111111111111,
             "#46039f"
            ],
            [
             0.2222222222222222,
             "#7201a8"
            ],
            [
             0.3333333333333333,
             "#9c179e"
            ],
            [
             0.4444444444444444,
             "#bd3786"
            ],
            [
             0.5555555555555556,
             "#d8576b"
            ],
            [
             0.6666666666666666,
             "#ed7953"
            ],
            [
             0.7777777777777778,
             "#fb9f3a"
            ],
            [
             0.8888888888888888,
             "#fdca26"
            ],
            [
             1,
             "#f0f921"
            ]
           ],
           "sequentialminus": [
            [
             0,
             "#0d0887"
            ],
            [
             0.1111111111111111,
             "#46039f"
            ],
            [
             0.2222222222222222,
             "#7201a8"
            ],
            [
             0.3333333333333333,
             "#9c179e"
            ],
            [
             0.4444444444444444,
             "#bd3786"
            ],
            [
             0.5555555555555556,
             "#d8576b"
            ],
            [
             0.6666666666666666,
             "#ed7953"
            ],
            [
             0.7777777777777778,
             "#fb9f3a"
            ],
            [
             0.8888888888888888,
             "#fdca26"
            ],
            [
             1,
             "#f0f921"
            ]
           ]
          },
          "colorway": [
           "#636efa",
           "#EF553B",
           "#00cc96",
           "#ab63fa",
           "#FFA15A",
           "#19d3f3",
           "#FF6692",
           "#B6E880",
           "#FF97FF",
           "#FECB52"
          ],
          "font": {
           "color": "#2a3f5f"
          },
          "geo": {
           "bgcolor": "white",
           "lakecolor": "white",
           "landcolor": "#E5ECF6",
           "showlakes": true,
           "showland": true,
           "subunitcolor": "white"
          },
          "hoverlabel": {
           "align": "left"
          },
          "hovermode": "closest",
          "mapbox": {
           "style": "light"
          },
          "paper_bgcolor": "white",
          "plot_bgcolor": "#E5ECF6",
          "polar": {
           "angularaxis": {
            "gridcolor": "white",
            "linecolor": "white",
            "ticks": ""
           },
           "bgcolor": "#E5ECF6",
           "radialaxis": {
            "gridcolor": "white",
            "linecolor": "white",
            "ticks": ""
           }
          },
          "scene": {
           "xaxis": {
            "backgroundcolor": "#E5ECF6",
            "gridcolor": "white",
            "gridwidth": 2,
            "linecolor": "white",
            "showbackground": true,
            "ticks": "",
            "zerolinecolor": "white"
           },
           "yaxis": {
            "backgroundcolor": "#E5ECF6",
            "gridcolor": "white",
            "gridwidth": 2,
            "linecolor": "white",
            "showbackground": true,
            "ticks": "",
            "zerolinecolor": "white"
           },
           "zaxis": {
            "backgroundcolor": "#E5ECF6",
            "gridcolor": "white",
            "gridwidth": 2,
            "linecolor": "white",
            "showbackground": true,
            "ticks": "",
            "zerolinecolor": "white"
           }
          },
          "shapedefaults": {
           "line": {
            "color": "#2a3f5f"
           }
          },
          "ternary": {
           "aaxis": {
            "gridcolor": "white",
            "linecolor": "white",
            "ticks": ""
           },
           "baxis": {
            "gridcolor": "white",
            "linecolor": "white",
            "ticks": ""
           },
           "bgcolor": "#E5ECF6",
           "caxis": {
            "gridcolor": "white",
            "linecolor": "white",
            "ticks": ""
           }
          },
          "title": {
           "x": 0.05
          },
          "xaxis": {
           "automargin": true,
           "gridcolor": "white",
           "linecolor": "white",
           "ticks": "",
           "title": {
            "standoff": 15
           },
           "zerolinecolor": "white",
           "zerolinewidth": 2
          },
          "yaxis": {
           "automargin": true,
           "gridcolor": "white",
           "linecolor": "white",
           "ticks": "",
           "title": {
            "standoff": 15
           },
           "zerolinecolor": "white",
           "zerolinewidth": 2
          }
         }
        },
        "width": 600
       }
      },
      "text/html": [
       "<div>                            <div id=\"b11a68f2-be58-4654-a97e-29988b867557\" class=\"plotly-graph-div\" style=\"height:600px; width:600px;\"></div>            <script type=\"text/javascript\">                require([\"plotly\"], function(Plotly) {                    window.PLOTLYENV=window.PLOTLYENV || {};                                    if (document.getElementById(\"b11a68f2-be58-4654-a97e-29988b867557\")) {                    Plotly.newPlot(                        \"b11a68f2-be58-4654-a97e-29988b867557\",                        [{\"domain\":{\"x\":[0.0,1.0],\"y\":[0.0,1.0]},\"hovertemplate\":\"label=%{label}<br>value=%{value}<extra></extra>\",\"labels\":[\"TESLA\",\"CHEVROLET\",\"NISSAN\",\"FORD\",\"BMW\",\"KIA\",\"TOYOTA\",\"VOLVO\",\"AUDI\",\"VOLKSWAGEN\"],\"legendgroup\":\"\",\"name\":\"\",\"showlegend\":true,\"values\":[6939,4672,3978,3860,3344,3289,2502,1903,1841,1604],\"type\":\"pie\"}],                        {\"template\":{\"data\":{\"histogram2dcontour\":[{\"type\":\"histogram2dcontour\",\"colorbar\":{\"outlinewidth\":0,\"ticks\":\"\"},\"colorscale\":[[0.0,\"#0d0887\"],[0.1111111111111111,\"#46039f\"],[0.2222222222222222,\"#7201a8\"],[0.3333333333333333,\"#9c179e\"],[0.4444444444444444,\"#bd3786\"],[0.5555555555555556,\"#d8576b\"],[0.6666666666666666,\"#ed7953\"],[0.7777777777777778,\"#fb9f3a\"],[0.8888888888888888,\"#fdca26\"],[1.0,\"#f0f921\"]]}],\"choropleth\":[{\"type\":\"choropleth\",\"colorbar\":{\"outlinewidth\":0,\"ticks\":\"\"}}],\"histogram2d\":[{\"type\":\"histogram2d\",\"colorbar\":{\"outlinewidth\":0,\"ticks\":\"\"},\"colorscale\":[[0.0,\"#0d0887\"],[0.1111111111111111,\"#46039f\"],[0.2222222222222222,\"#7201a8\"],[0.3333333333333333,\"#9c179e\"],[0.4444444444444444,\"#bd3786\"],[0.5555555555555556,\"#d8576b\"],[0.6666666666666666,\"#ed7953\"],[0.7777777777777778,\"#fb9f3a\"],[0.8888888888888888,\"#fdca26\"],[1.0,\"#f0f921\"]]}],\"heatmap\":[{\"type\":\"heatmap\",\"colorbar\":{\"outlinewidth\":0,\"ticks\":\"\"},\"colorscale\":[[0.0,\"#0d0887\"],[0.1111111111111111,\"#46039f\"],[0.2222222222222222,\"#7201a8\"],[0.3333333333333333,\"#9c179e\"],[0.4444444444444444,\"#bd3786\"],[0.5555555555555556,\"#d8576b\"],[0.6666666666666666,\"#ed7953\"],[0.7777777777777778,\"#fb9f3a\"],[0.8888888888888888,\"#fdca26\"],[1.0,\"#f0f921\"]]}],\"heatmapgl\":[{\"type\":\"heatmapgl\",\"colorbar\":{\"outlinewidth\":0,\"ticks\":\"\"},\"colorscale\":[[0.0,\"#0d0887\"],[0.1111111111111111,\"#46039f\"],[0.2222222222222222,\"#7201a8\"],[0.3333333333333333,\"#9c179e\"],[0.4444444444444444,\"#bd3786\"],[0.5555555555555556,\"#d8576b\"],[0.6666666666666666,\"#ed7953\"],[0.7777777777777778,\"#fb9f3a\"],[0.8888888888888888,\"#fdca26\"],[1.0,\"#f0f921\"]]}],\"contourcarpet\":[{\"type\":\"contourcarpet\",\"colorbar\":{\"outlinewidth\":0,\"ticks\":\"\"}}],\"contour\":[{\"type\":\"contour\",\"colorbar\":{\"outlinewidth\":0,\"ticks\":\"\"},\"colorscale\":[[0.0,\"#0d0887\"],[0.1111111111111111,\"#46039f\"],[0.2222222222222222,\"#7201a8\"],[0.3333333333333333,\"#9c179e\"],[0.4444444444444444,\"#bd3786\"],[0.5555555555555556,\"#d8576b\"],[0.6666666666666666,\"#ed7953\"],[0.7777777777777778,\"#fb9f3a\"],[0.8888888888888888,\"#fdca26\"],[1.0,\"#f0f921\"]]}],\"surface\":[{\"type\":\"surface\",\"colorbar\":{\"outlinewidth\":0,\"ticks\":\"\"},\"colorscale\":[[0.0,\"#0d0887\"],[0.1111111111111111,\"#46039f\"],[0.2222222222222222,\"#7201a8\"],[0.3333333333333333,\"#9c179e\"],[0.4444444444444444,\"#bd3786\"],[0.5555555555555556,\"#d8576b\"],[0.6666666666666666,\"#ed7953\"],[0.7777777777777778,\"#fb9f3a\"],[0.8888888888888888,\"#fdca26\"],[1.0,\"#f0f921\"]]}],\"mesh3d\":[{\"type\":\"mesh3d\",\"colorbar\":{\"outlinewidth\":0,\"ticks\":\"\"}}],\"scatter\":[{\"fillpattern\":{\"fillmode\":\"overlay\",\"size\":10,\"solidity\":0.2},\"type\":\"scatter\"}],\"parcoords\":[{\"type\":\"parcoords\",\"line\":{\"colorbar\":{\"outlinewidth\":0,\"ticks\":\"\"}}}],\"scatterpolargl\":[{\"type\":\"scatterpolargl\",\"marker\":{\"colorbar\":{\"outlinewidth\":0,\"ticks\":\"\"}}}],\"bar\":[{\"error_x\":{\"color\":\"#2a3f5f\"},\"error_y\":{\"color\":\"#2a3f5f\"},\"marker\":{\"line\":{\"color\":\"#E5ECF6\",\"width\":0.5},\"pattern\":{\"fillmode\":\"overlay\",\"size\":10,\"solidity\":0.2}},\"type\":\"bar\"}],\"scattergeo\":[{\"type\":\"scattergeo\",\"marker\":{\"colorbar\":{\"outlinewidth\":0,\"ticks\":\"\"}}}],\"scatterpolar\":[{\"type\":\"scatterpolar\",\"marker\":{\"colorbar\":{\"outlinewidth\":0,\"ticks\":\"\"}}}],\"histogram\":[{\"marker\":{\"pattern\":{\"fillmode\":\"overlay\",\"size\":10,\"solidity\":0.2}},\"type\":\"histogram\"}],\"scattergl\":[{\"type\":\"scattergl\",\"marker\":{\"colorbar\":{\"outlinewidth\":0,\"ticks\":\"\"}}}],\"scatter3d\":[{\"type\":\"scatter3d\",\"line\":{\"colorbar\":{\"outlinewidth\":0,\"ticks\":\"\"}},\"marker\":{\"colorbar\":{\"outlinewidth\":0,\"ticks\":\"\"}}}],\"scattermapbox\":[{\"type\":\"scattermapbox\",\"marker\":{\"colorbar\":{\"outlinewidth\":0,\"ticks\":\"\"}}}],\"scatterternary\":[{\"type\":\"scatterternary\",\"marker\":{\"colorbar\":{\"outlinewidth\":0,\"ticks\":\"\"}}}],\"scattercarpet\":[{\"type\":\"scattercarpet\",\"marker\":{\"colorbar\":{\"outlinewidth\":0,\"ticks\":\"\"}}}],\"carpet\":[{\"aaxis\":{\"endlinecolor\":\"#2a3f5f\",\"gridcolor\":\"white\",\"linecolor\":\"white\",\"minorgridcolor\":\"white\",\"startlinecolor\":\"#2a3f5f\"},\"baxis\":{\"endlinecolor\":\"#2a3f5f\",\"gridcolor\":\"white\",\"linecolor\":\"white\",\"minorgridcolor\":\"white\",\"startlinecolor\":\"#2a3f5f\"},\"type\":\"carpet\"}],\"table\":[{\"cells\":{\"fill\":{\"color\":\"#EBF0F8\"},\"line\":{\"color\":\"white\"}},\"header\":{\"fill\":{\"color\":\"#C8D4E3\"},\"line\":{\"color\":\"white\"}},\"type\":\"table\"}],\"barpolar\":[{\"marker\":{\"line\":{\"color\":\"#E5ECF6\",\"width\":0.5},\"pattern\":{\"fillmode\":\"overlay\",\"size\":10,\"solidity\":0.2}},\"type\":\"barpolar\"}],\"pie\":[{\"automargin\":true,\"type\":\"pie\"}]},\"layout\":{\"autotypenumbers\":\"strict\",\"colorway\":[\"#636efa\",\"#EF553B\",\"#00cc96\",\"#ab63fa\",\"#FFA15A\",\"#19d3f3\",\"#FF6692\",\"#B6E880\",\"#FF97FF\",\"#FECB52\"],\"font\":{\"color\":\"#2a3f5f\"},\"hovermode\":\"closest\",\"hoverlabel\":{\"align\":\"left\"},\"paper_bgcolor\":\"white\",\"plot_bgcolor\":\"#E5ECF6\",\"polar\":{\"bgcolor\":\"#E5ECF6\",\"angularaxis\":{\"gridcolor\":\"white\",\"linecolor\":\"white\",\"ticks\":\"\"},\"radialaxis\":{\"gridcolor\":\"white\",\"linecolor\":\"white\",\"ticks\":\"\"}},\"ternary\":{\"bgcolor\":\"#E5ECF6\",\"aaxis\":{\"gridcolor\":\"white\",\"linecolor\":\"white\",\"ticks\":\"\"},\"baxis\":{\"gridcolor\":\"white\",\"linecolor\":\"white\",\"ticks\":\"\"},\"caxis\":{\"gridcolor\":\"white\",\"linecolor\":\"white\",\"ticks\":\"\"}},\"coloraxis\":{\"colorbar\":{\"outlinewidth\":0,\"ticks\":\"\"}},\"colorscale\":{\"sequential\":[[0.0,\"#0d0887\"],[0.1111111111111111,\"#46039f\"],[0.2222222222222222,\"#7201a8\"],[0.3333333333333333,\"#9c179e\"],[0.4444444444444444,\"#bd3786\"],[0.5555555555555556,\"#d8576b\"],[0.6666666666666666,\"#ed7953\"],[0.7777777777777778,\"#fb9f3a\"],[0.8888888888888888,\"#fdca26\"],[1.0,\"#f0f921\"]],\"sequentialminus\":[[0.0,\"#0d0887\"],[0.1111111111111111,\"#46039f\"],[0.2222222222222222,\"#7201a8\"],[0.3333333333333333,\"#9c179e\"],[0.4444444444444444,\"#bd3786\"],[0.5555555555555556,\"#d8576b\"],[0.6666666666666666,\"#ed7953\"],[0.7777777777777778,\"#fb9f3a\"],[0.8888888888888888,\"#fdca26\"],[1.0,\"#f0f921\"]],\"diverging\":[[0,\"#8e0152\"],[0.1,\"#c51b7d\"],[0.2,\"#de77ae\"],[0.3,\"#f1b6da\"],[0.4,\"#fde0ef\"],[0.5,\"#f7f7f7\"],[0.6,\"#e6f5d0\"],[0.7,\"#b8e186\"],[0.8,\"#7fbc41\"],[0.9,\"#4d9221\"],[1,\"#276419\"]]},\"xaxis\":{\"gridcolor\":\"white\",\"linecolor\":\"white\",\"ticks\":\"\",\"title\":{\"standoff\":15},\"zerolinecolor\":\"white\",\"automargin\":true,\"zerolinewidth\":2},\"yaxis\":{\"gridcolor\":\"white\",\"linecolor\":\"white\",\"ticks\":\"\",\"title\":{\"standoff\":15},\"zerolinecolor\":\"white\",\"automargin\":true,\"zerolinewidth\":2},\"scene\":{\"xaxis\":{\"backgroundcolor\":\"#E5ECF6\",\"gridcolor\":\"white\",\"linecolor\":\"white\",\"showbackground\":true,\"ticks\":\"\",\"zerolinecolor\":\"white\",\"gridwidth\":2},\"yaxis\":{\"backgroundcolor\":\"#E5ECF6\",\"gridcolor\":\"white\",\"linecolor\":\"white\",\"showbackground\":true,\"ticks\":\"\",\"zerolinecolor\":\"white\",\"gridwidth\":2},\"zaxis\":{\"backgroundcolor\":\"#E5ECF6\",\"gridcolor\":\"white\",\"linecolor\":\"white\",\"showbackground\":true,\"ticks\":\"\",\"zerolinecolor\":\"white\",\"gridwidth\":2}},\"shapedefaults\":{\"line\":{\"color\":\"#2a3f5f\"}},\"annotationdefaults\":{\"arrowcolor\":\"#2a3f5f\",\"arrowhead\":0,\"arrowwidth\":1},\"geo\":{\"bgcolor\":\"white\",\"landcolor\":\"#E5ECF6\",\"subunitcolor\":\"white\",\"showland\":true,\"showlakes\":true,\"lakecolor\":\"white\"},\"title\":{\"x\":0.05},\"mapbox\":{\"style\":\"light\"}}},\"legend\":{\"tracegroupgap\":0},\"margin\":{\"t\":60},\"height\":600,\"width\":600},                        {\"responsive\": true}                    ).then(function(){\n",
       "                            \n",
       "var gd = document.getElementById('b11a68f2-be58-4654-a97e-29988b867557');\n",
       "var x = new MutationObserver(function (mutations, observer) {{\n",
       "        var display = window.getComputedStyle(gd).display;\n",
       "        if (!display || display === 'none') {{\n",
       "            console.log([gd, 'removed!']);\n",
       "            Plotly.purge(gd);\n",
       "            observer.disconnect();\n",
       "        }}\n",
       "}});\n",
       "\n",
       "// Listen for the removal of the full notebook cells\n",
       "var notebookContainer = gd.closest('#notebook-container');\n",
       "if (notebookContainer) {{\n",
       "    x.observe(notebookContainer, {childList: true});\n",
       "}}\n",
       "\n",
       "// Listen for the clearing of the current output cell\n",
       "var outputEl = gd.closest('.output');\n",
       "if (outputEl) {{\n",
       "    x.observe(outputEl, {childList: true});\n",
       "}}\n",
       "\n",
       "                        })                };                });            </script>        </div>"
      ]
     },
     "metadata": {},
     "output_type": "display_data"
    }
   ],
   "source": [
    "\n",
    "px.pie(names=Companies[:10],values=values[:10],width=600,height=600)\n"
   ]
  },
  {
   "cell_type": "code",
   "execution_count": 81,
   "id": "3b22557d",
   "metadata": {},
   "outputs": [
    {
     "data": {
      "application/vnd.plotly.v1+json": {
       "config": {
        "plotlyServerURL": "https://plot.ly"
       },
       "data": [
        {
         "domain": {
          "x": [
           0,
           1
          ],
          "y": [
           0,
           1
          ]
         },
         "hovertemplate": "label=%{label}<br>value=%{value}<extra></extra>",
         "labels": [
          "Electric",
          "Plug-in Hybrid"
         ],
         "legendgroup": "",
         "name": "",
         "showlegend": true,
         "type": "pie",
         "values": [
          21723,
          14559
         ]
        }
       ],
       "layout": {
        "height": 600,
        "legend": {
         "tracegroupgap": 0
        },
        "margin": {
         "t": 60
        },
        "template": {
         "data": {
          "bar": [
           {
            "error_x": {
             "color": "#2a3f5f"
            },
            "error_y": {
             "color": "#2a3f5f"
            },
            "marker": {
             "line": {
              "color": "#E5ECF6",
              "width": 0.5
             },
             "pattern": {
              "fillmode": "overlay",
              "size": 10,
              "solidity": 0.2
             }
            },
            "type": "bar"
           }
          ],
          "barpolar": [
           {
            "marker": {
             "line": {
              "color": "#E5ECF6",
              "width": 0.5
             },
             "pattern": {
              "fillmode": "overlay",
              "size": 10,
              "solidity": 0.2
             }
            },
            "type": "barpolar"
           }
          ],
          "carpet": [
           {
            "aaxis": {
             "endlinecolor": "#2a3f5f",
             "gridcolor": "white",
             "linecolor": "white",
             "minorgridcolor": "white",
             "startlinecolor": "#2a3f5f"
            },
            "baxis": {
             "endlinecolor": "#2a3f5f",
             "gridcolor": "white",
             "linecolor": "white",
             "minorgridcolor": "white",
             "startlinecolor": "#2a3f5f"
            },
            "type": "carpet"
           }
          ],
          "choropleth": [
           {
            "colorbar": {
             "outlinewidth": 0,
             "ticks": ""
            },
            "type": "choropleth"
           }
          ],
          "contour": [
           {
            "colorbar": {
             "outlinewidth": 0,
             "ticks": ""
            },
            "colorscale": [
             [
              0,
              "#0d0887"
             ],
             [
              0.1111111111111111,
              "#46039f"
             ],
             [
              0.2222222222222222,
              "#7201a8"
             ],
             [
              0.3333333333333333,
              "#9c179e"
             ],
             [
              0.4444444444444444,
              "#bd3786"
             ],
             [
              0.5555555555555556,
              "#d8576b"
             ],
             [
              0.6666666666666666,
              "#ed7953"
             ],
             [
              0.7777777777777778,
              "#fb9f3a"
             ],
             [
              0.8888888888888888,
              "#fdca26"
             ],
             [
              1,
              "#f0f921"
             ]
            ],
            "type": "contour"
           }
          ],
          "contourcarpet": [
           {
            "colorbar": {
             "outlinewidth": 0,
             "ticks": ""
            },
            "type": "contourcarpet"
           }
          ],
          "heatmap": [
           {
            "colorbar": {
             "outlinewidth": 0,
             "ticks": ""
            },
            "colorscale": [
             [
              0,
              "#0d0887"
             ],
             [
              0.1111111111111111,
              "#46039f"
             ],
             [
              0.2222222222222222,
              "#7201a8"
             ],
             [
              0.3333333333333333,
              "#9c179e"
             ],
             [
              0.4444444444444444,
              "#bd3786"
             ],
             [
              0.5555555555555556,
              "#d8576b"
             ],
             [
              0.6666666666666666,
              "#ed7953"
             ],
             [
              0.7777777777777778,
              "#fb9f3a"
             ],
             [
              0.8888888888888888,
              "#fdca26"
             ],
             [
              1,
              "#f0f921"
             ]
            ],
            "type": "heatmap"
           }
          ],
          "heatmapgl": [
           {
            "colorbar": {
             "outlinewidth": 0,
             "ticks": ""
            },
            "colorscale": [
             [
              0,
              "#0d0887"
             ],
             [
              0.1111111111111111,
              "#46039f"
             ],
             [
              0.2222222222222222,
              "#7201a8"
             ],
             [
              0.3333333333333333,
              "#9c179e"
             ],
             [
              0.4444444444444444,
              "#bd3786"
             ],
             [
              0.5555555555555556,
              "#d8576b"
             ],
             [
              0.6666666666666666,
              "#ed7953"
             ],
             [
              0.7777777777777778,
              "#fb9f3a"
             ],
             [
              0.8888888888888888,
              "#fdca26"
             ],
             [
              1,
              "#f0f921"
             ]
            ],
            "type": "heatmapgl"
           }
          ],
          "histogram": [
           {
            "marker": {
             "pattern": {
              "fillmode": "overlay",
              "size": 10,
              "solidity": 0.2
             }
            },
            "type": "histogram"
           }
          ],
          "histogram2d": [
           {
            "colorbar": {
             "outlinewidth": 0,
             "ticks": ""
            },
            "colorscale": [
             [
              0,
              "#0d0887"
             ],
             [
              0.1111111111111111,
              "#46039f"
             ],
             [
              0.2222222222222222,
              "#7201a8"
             ],
             [
              0.3333333333333333,
              "#9c179e"
             ],
             [
              0.4444444444444444,
              "#bd3786"
             ],
             [
              0.5555555555555556,
              "#d8576b"
             ],
             [
              0.6666666666666666,
              "#ed7953"
             ],
             [
              0.7777777777777778,
              "#fb9f3a"
             ],
             [
              0.8888888888888888,
              "#fdca26"
             ],
             [
              1,
              "#f0f921"
             ]
            ],
            "type": "histogram2d"
           }
          ],
          "histogram2dcontour": [
           {
            "colorbar": {
             "outlinewidth": 0,
             "ticks": ""
            },
            "colorscale": [
             [
              0,
              "#0d0887"
             ],
             [
              0.1111111111111111,
              "#46039f"
             ],
             [
              0.2222222222222222,
              "#7201a8"
             ],
             [
              0.3333333333333333,
              "#9c179e"
             ],
             [
              0.4444444444444444,
              "#bd3786"
             ],
             [
              0.5555555555555556,
              "#d8576b"
             ],
             [
              0.6666666666666666,
              "#ed7953"
             ],
             [
              0.7777777777777778,
              "#fb9f3a"
             ],
             [
              0.8888888888888888,
              "#fdca26"
             ],
             [
              1,
              "#f0f921"
             ]
            ],
            "type": "histogram2dcontour"
           }
          ],
          "mesh3d": [
           {
            "colorbar": {
             "outlinewidth": 0,
             "ticks": ""
            },
            "type": "mesh3d"
           }
          ],
          "parcoords": [
           {
            "line": {
             "colorbar": {
              "outlinewidth": 0,
              "ticks": ""
             }
            },
            "type": "parcoords"
           }
          ],
          "pie": [
           {
            "automargin": true,
            "type": "pie"
           }
          ],
          "scatter": [
           {
            "fillpattern": {
             "fillmode": "overlay",
             "size": 10,
             "solidity": 0.2
            },
            "type": "scatter"
           }
          ],
          "scatter3d": [
           {
            "line": {
             "colorbar": {
              "outlinewidth": 0,
              "ticks": ""
             }
            },
            "marker": {
             "colorbar": {
              "outlinewidth": 0,
              "ticks": ""
             }
            },
            "type": "scatter3d"
           }
          ],
          "scattercarpet": [
           {
            "marker": {
             "colorbar": {
              "outlinewidth": 0,
              "ticks": ""
             }
            },
            "type": "scattercarpet"
           }
          ],
          "scattergeo": [
           {
            "marker": {
             "colorbar": {
              "outlinewidth": 0,
              "ticks": ""
             }
            },
            "type": "scattergeo"
           }
          ],
          "scattergl": [
           {
            "marker": {
             "colorbar": {
              "outlinewidth": 0,
              "ticks": ""
             }
            },
            "type": "scattergl"
           }
          ],
          "scattermapbox": [
           {
            "marker": {
             "colorbar": {
              "outlinewidth": 0,
              "ticks": ""
             }
            },
            "type": "scattermapbox"
           }
          ],
          "scatterpolar": [
           {
            "marker": {
             "colorbar": {
              "outlinewidth": 0,
              "ticks": ""
             }
            },
            "type": "scatterpolar"
           }
          ],
          "scatterpolargl": [
           {
            "marker": {
             "colorbar": {
              "outlinewidth": 0,
              "ticks": ""
             }
            },
            "type": "scatterpolargl"
           }
          ],
          "scatterternary": [
           {
            "marker": {
             "colorbar": {
              "outlinewidth": 0,
              "ticks": ""
             }
            },
            "type": "scatterternary"
           }
          ],
          "surface": [
           {
            "colorbar": {
             "outlinewidth": 0,
             "ticks": ""
            },
            "colorscale": [
             [
              0,
              "#0d0887"
             ],
             [
              0.1111111111111111,
              "#46039f"
             ],
             [
              0.2222222222222222,
              "#7201a8"
             ],
             [
              0.3333333333333333,
              "#9c179e"
             ],
             [
              0.4444444444444444,
              "#bd3786"
             ],
             [
              0.5555555555555556,
              "#d8576b"
             ],
             [
              0.6666666666666666,
              "#ed7953"
             ],
             [
              0.7777777777777778,
              "#fb9f3a"
             ],
             [
              0.8888888888888888,
              "#fdca26"
             ],
             [
              1,
              "#f0f921"
             ]
            ],
            "type": "surface"
           }
          ],
          "table": [
           {
            "cells": {
             "fill": {
              "color": "#EBF0F8"
             },
             "line": {
              "color": "white"
             }
            },
            "header": {
             "fill": {
              "color": "#C8D4E3"
             },
             "line": {
              "color": "white"
             }
            },
            "type": "table"
           }
          ]
         },
         "layout": {
          "annotationdefaults": {
           "arrowcolor": "#2a3f5f",
           "arrowhead": 0,
           "arrowwidth": 1
          },
          "autotypenumbers": "strict",
          "coloraxis": {
           "colorbar": {
            "outlinewidth": 0,
            "ticks": ""
           }
          },
          "colorscale": {
           "diverging": [
            [
             0,
             "#8e0152"
            ],
            [
             0.1,
             "#c51b7d"
            ],
            [
             0.2,
             "#de77ae"
            ],
            [
             0.3,
             "#f1b6da"
            ],
            [
             0.4,
             "#fde0ef"
            ],
            [
             0.5,
             "#f7f7f7"
            ],
            [
             0.6,
             "#e6f5d0"
            ],
            [
             0.7,
             "#b8e186"
            ],
            [
             0.8,
             "#7fbc41"
            ],
            [
             0.9,
             "#4d9221"
            ],
            [
             1,
             "#276419"
            ]
           ],
           "sequential": [
            [
             0,
             "#0d0887"
            ],
            [
             0.1111111111111111,
             "#46039f"
            ],
            [
             0.2222222222222222,
             "#7201a8"
            ],
            [
             0.3333333333333333,
             "#9c179e"
            ],
            [
             0.4444444444444444,
             "#bd3786"
            ],
            [
             0.5555555555555556,
             "#d8576b"
            ],
            [
             0.6666666666666666,
             "#ed7953"
            ],
            [
             0.7777777777777778,
             "#fb9f3a"
            ],
            [
             0.8888888888888888,
             "#fdca26"
            ],
            [
             1,
             "#f0f921"
            ]
           ],
           "sequentialminus": [
            [
             0,
             "#0d0887"
            ],
            [
             0.1111111111111111,
             "#46039f"
            ],
            [
             0.2222222222222222,
             "#7201a8"
            ],
            [
             0.3333333333333333,
             "#9c179e"
            ],
            [
             0.4444444444444444,
             "#bd3786"
            ],
            [
             0.5555555555555556,
             "#d8576b"
            ],
            [
             0.6666666666666666,
             "#ed7953"
            ],
            [
             0.7777777777777778,
             "#fb9f3a"
            ],
            [
             0.8888888888888888,
             "#fdca26"
            ],
            [
             1,
             "#f0f921"
            ]
           ]
          },
          "colorway": [
           "#636efa",
           "#EF553B",
           "#00cc96",
           "#ab63fa",
           "#FFA15A",
           "#19d3f3",
           "#FF6692",
           "#B6E880",
           "#FF97FF",
           "#FECB52"
          ],
          "font": {
           "color": "#2a3f5f"
          },
          "geo": {
           "bgcolor": "white",
           "lakecolor": "white",
           "landcolor": "#E5ECF6",
           "showlakes": true,
           "showland": true,
           "subunitcolor": "white"
          },
          "hoverlabel": {
           "align": "left"
          },
          "hovermode": "closest",
          "mapbox": {
           "style": "light"
          },
          "paper_bgcolor": "white",
          "plot_bgcolor": "#E5ECF6",
          "polar": {
           "angularaxis": {
            "gridcolor": "white",
            "linecolor": "white",
            "ticks": ""
           },
           "bgcolor": "#E5ECF6",
           "radialaxis": {
            "gridcolor": "white",
            "linecolor": "white",
            "ticks": ""
           }
          },
          "scene": {
           "xaxis": {
            "backgroundcolor": "#E5ECF6",
            "gridcolor": "white",
            "gridwidth": 2,
            "linecolor": "white",
            "showbackground": true,
            "ticks": "",
            "zerolinecolor": "white"
           },
           "yaxis": {
            "backgroundcolor": "#E5ECF6",
            "gridcolor": "white",
            "gridwidth": 2,
            "linecolor": "white",
            "showbackground": true,
            "ticks": "",
            "zerolinecolor": "white"
           },
           "zaxis": {
            "backgroundcolor": "#E5ECF6",
            "gridcolor": "white",
            "gridwidth": 2,
            "linecolor": "white",
            "showbackground": true,
            "ticks": "",
            "zerolinecolor": "white"
           }
          },
          "shapedefaults": {
           "line": {
            "color": "#2a3f5f"
           }
          },
          "ternary": {
           "aaxis": {
            "gridcolor": "white",
            "linecolor": "white",
            "ticks": ""
           },
           "baxis": {
            "gridcolor": "white",
            "linecolor": "white",
            "ticks": ""
           },
           "bgcolor": "#E5ECF6",
           "caxis": {
            "gridcolor": "white",
            "linecolor": "white",
            "ticks": ""
           }
          },
          "title": {
           "x": 0.05
          },
          "xaxis": {
           "automargin": true,
           "gridcolor": "white",
           "linecolor": "white",
           "ticks": "",
           "title": {
            "standoff": 15
           },
           "zerolinecolor": "white",
           "zerolinewidth": 2
          },
          "yaxis": {
           "automargin": true,
           "gridcolor": "white",
           "linecolor": "white",
           "ticks": "",
           "title": {
            "standoff": 15
           },
           "zerolinecolor": "white",
           "zerolinewidth": 2
          }
         }
        },
        "width": 600
       }
      },
      "text/html": [
       "<div>                            <div id=\"c0fbd170-5b5a-456f-b2bf-6c88937d93f9\" class=\"plotly-graph-div\" style=\"height:600px; width:600px;\"></div>            <script type=\"text/javascript\">                require([\"plotly\"], function(Plotly) {                    window.PLOTLYENV=window.PLOTLYENV || {};                                    if (document.getElementById(\"c0fbd170-5b5a-456f-b2bf-6c88937d93f9\")) {                    Plotly.newPlot(                        \"c0fbd170-5b5a-456f-b2bf-6c88937d93f9\",                        [{\"domain\":{\"x\":[0.0,1.0],\"y\":[0.0,1.0]},\"hovertemplate\":\"label=%{label}<br>value=%{value}<extra></extra>\",\"labels\":[\"Electric\",\"Plug-in Hybrid\"],\"legendgroup\":\"\",\"name\":\"\",\"showlegend\":true,\"values\":[21723,14559],\"type\":\"pie\"}],                        {\"template\":{\"data\":{\"histogram2dcontour\":[{\"type\":\"histogram2dcontour\",\"colorbar\":{\"outlinewidth\":0,\"ticks\":\"\"},\"colorscale\":[[0.0,\"#0d0887\"],[0.1111111111111111,\"#46039f\"],[0.2222222222222222,\"#7201a8\"],[0.3333333333333333,\"#9c179e\"],[0.4444444444444444,\"#bd3786\"],[0.5555555555555556,\"#d8576b\"],[0.6666666666666666,\"#ed7953\"],[0.7777777777777778,\"#fb9f3a\"],[0.8888888888888888,\"#fdca26\"],[1.0,\"#f0f921\"]]}],\"choropleth\":[{\"type\":\"choropleth\",\"colorbar\":{\"outlinewidth\":0,\"ticks\":\"\"}}],\"histogram2d\":[{\"type\":\"histogram2d\",\"colorbar\":{\"outlinewidth\":0,\"ticks\":\"\"},\"colorscale\":[[0.0,\"#0d0887\"],[0.1111111111111111,\"#46039f\"],[0.2222222222222222,\"#7201a8\"],[0.3333333333333333,\"#9c179e\"],[0.4444444444444444,\"#bd3786\"],[0.5555555555555556,\"#d8576b\"],[0.6666666666666666,\"#ed7953\"],[0.7777777777777778,\"#fb9f3a\"],[0.8888888888888888,\"#fdca26\"],[1.0,\"#f0f921\"]]}],\"heatmap\":[{\"type\":\"heatmap\",\"colorbar\":{\"outlinewidth\":0,\"ticks\":\"\"},\"colorscale\":[[0.0,\"#0d0887\"],[0.1111111111111111,\"#46039f\"],[0.2222222222222222,\"#7201a8\"],[0.3333333333333333,\"#9c179e\"],[0.4444444444444444,\"#bd3786\"],[0.5555555555555556,\"#d8576b\"],[0.6666666666666666,\"#ed7953\"],[0.7777777777777778,\"#fb9f3a\"],[0.8888888888888888,\"#fdca26\"],[1.0,\"#f0f921\"]]}],\"heatmapgl\":[{\"type\":\"heatmapgl\",\"colorbar\":{\"outlinewidth\":0,\"ticks\":\"\"},\"colorscale\":[[0.0,\"#0d0887\"],[0.1111111111111111,\"#46039f\"],[0.2222222222222222,\"#7201a8\"],[0.3333333333333333,\"#9c179e\"],[0.4444444444444444,\"#bd3786\"],[0.5555555555555556,\"#d8576b\"],[0.6666666666666666,\"#ed7953\"],[0.7777777777777778,\"#fb9f3a\"],[0.8888888888888888,\"#fdca26\"],[1.0,\"#f0f921\"]]}],\"contourcarpet\":[{\"type\":\"contourcarpet\",\"colorbar\":{\"outlinewidth\":0,\"ticks\":\"\"}}],\"contour\":[{\"type\":\"contour\",\"colorbar\":{\"outlinewidth\":0,\"ticks\":\"\"},\"colorscale\":[[0.0,\"#0d0887\"],[0.1111111111111111,\"#46039f\"],[0.2222222222222222,\"#7201a8\"],[0.3333333333333333,\"#9c179e\"],[0.4444444444444444,\"#bd3786\"],[0.5555555555555556,\"#d8576b\"],[0.6666666666666666,\"#ed7953\"],[0.7777777777777778,\"#fb9f3a\"],[0.8888888888888888,\"#fdca26\"],[1.0,\"#f0f921\"]]}],\"surface\":[{\"type\":\"surface\",\"colorbar\":{\"outlinewidth\":0,\"ticks\":\"\"},\"colorscale\":[[0.0,\"#0d0887\"],[0.1111111111111111,\"#46039f\"],[0.2222222222222222,\"#7201a8\"],[0.3333333333333333,\"#9c179e\"],[0.4444444444444444,\"#bd3786\"],[0.5555555555555556,\"#d8576b\"],[0.6666666666666666,\"#ed7953\"],[0.7777777777777778,\"#fb9f3a\"],[0.8888888888888888,\"#fdca26\"],[1.0,\"#f0f921\"]]}],\"mesh3d\":[{\"type\":\"mesh3d\",\"colorbar\":{\"outlinewidth\":0,\"ticks\":\"\"}}],\"scatter\":[{\"fillpattern\":{\"fillmode\":\"overlay\",\"size\":10,\"solidity\":0.2},\"type\":\"scatter\"}],\"parcoords\":[{\"type\":\"parcoords\",\"line\":{\"colorbar\":{\"outlinewidth\":0,\"ticks\":\"\"}}}],\"scatterpolargl\":[{\"type\":\"scatterpolargl\",\"marker\":{\"colorbar\":{\"outlinewidth\":0,\"ticks\":\"\"}}}],\"bar\":[{\"error_x\":{\"color\":\"#2a3f5f\"},\"error_y\":{\"color\":\"#2a3f5f\"},\"marker\":{\"line\":{\"color\":\"#E5ECF6\",\"width\":0.5},\"pattern\":{\"fillmode\":\"overlay\",\"size\":10,\"solidity\":0.2}},\"type\":\"bar\"}],\"scattergeo\":[{\"type\":\"scattergeo\",\"marker\":{\"colorbar\":{\"outlinewidth\":0,\"ticks\":\"\"}}}],\"scatterpolar\":[{\"type\":\"scatterpolar\",\"marker\":{\"colorbar\":{\"outlinewidth\":0,\"ticks\":\"\"}}}],\"histogram\":[{\"marker\":{\"pattern\":{\"fillmode\":\"overlay\",\"size\":10,\"solidity\":0.2}},\"type\":\"histogram\"}],\"scattergl\":[{\"type\":\"scattergl\",\"marker\":{\"colorbar\":{\"outlinewidth\":0,\"ticks\":\"\"}}}],\"scatter3d\":[{\"type\":\"scatter3d\",\"line\":{\"colorbar\":{\"outlinewidth\":0,\"ticks\":\"\"}},\"marker\":{\"colorbar\":{\"outlinewidth\":0,\"ticks\":\"\"}}}],\"scattermapbox\":[{\"type\":\"scattermapbox\",\"marker\":{\"colorbar\":{\"outlinewidth\":0,\"ticks\":\"\"}}}],\"scatterternary\":[{\"type\":\"scatterternary\",\"marker\":{\"colorbar\":{\"outlinewidth\":0,\"ticks\":\"\"}}}],\"scattercarpet\":[{\"type\":\"scattercarpet\",\"marker\":{\"colorbar\":{\"outlinewidth\":0,\"ticks\":\"\"}}}],\"carpet\":[{\"aaxis\":{\"endlinecolor\":\"#2a3f5f\",\"gridcolor\":\"white\",\"linecolor\":\"white\",\"minorgridcolor\":\"white\",\"startlinecolor\":\"#2a3f5f\"},\"baxis\":{\"endlinecolor\":\"#2a3f5f\",\"gridcolor\":\"white\",\"linecolor\":\"white\",\"minorgridcolor\":\"white\",\"startlinecolor\":\"#2a3f5f\"},\"type\":\"carpet\"}],\"table\":[{\"cells\":{\"fill\":{\"color\":\"#EBF0F8\"},\"line\":{\"color\":\"white\"}},\"header\":{\"fill\":{\"color\":\"#C8D4E3\"},\"line\":{\"color\":\"white\"}},\"type\":\"table\"}],\"barpolar\":[{\"marker\":{\"line\":{\"color\":\"#E5ECF6\",\"width\":0.5},\"pattern\":{\"fillmode\":\"overlay\",\"size\":10,\"solidity\":0.2}},\"type\":\"barpolar\"}],\"pie\":[{\"automargin\":true,\"type\":\"pie\"}]},\"layout\":{\"autotypenumbers\":\"strict\",\"colorway\":[\"#636efa\",\"#EF553B\",\"#00cc96\",\"#ab63fa\",\"#FFA15A\",\"#19d3f3\",\"#FF6692\",\"#B6E880\",\"#FF97FF\",\"#FECB52\"],\"font\":{\"color\":\"#2a3f5f\"},\"hovermode\":\"closest\",\"hoverlabel\":{\"align\":\"left\"},\"paper_bgcolor\":\"white\",\"plot_bgcolor\":\"#E5ECF6\",\"polar\":{\"bgcolor\":\"#E5ECF6\",\"angularaxis\":{\"gridcolor\":\"white\",\"linecolor\":\"white\",\"ticks\":\"\"},\"radialaxis\":{\"gridcolor\":\"white\",\"linecolor\":\"white\",\"ticks\":\"\"}},\"ternary\":{\"bgcolor\":\"#E5ECF6\",\"aaxis\":{\"gridcolor\":\"white\",\"linecolor\":\"white\",\"ticks\":\"\"},\"baxis\":{\"gridcolor\":\"white\",\"linecolor\":\"white\",\"ticks\":\"\"},\"caxis\":{\"gridcolor\":\"white\",\"linecolor\":\"white\",\"ticks\":\"\"}},\"coloraxis\":{\"colorbar\":{\"outlinewidth\":0,\"ticks\":\"\"}},\"colorscale\":{\"sequential\":[[0.0,\"#0d0887\"],[0.1111111111111111,\"#46039f\"],[0.2222222222222222,\"#7201a8\"],[0.3333333333333333,\"#9c179e\"],[0.4444444444444444,\"#bd3786\"],[0.5555555555555556,\"#d8576b\"],[0.6666666666666666,\"#ed7953\"],[0.7777777777777778,\"#fb9f3a\"],[0.8888888888888888,\"#fdca26\"],[1.0,\"#f0f921\"]],\"sequentialminus\":[[0.0,\"#0d0887\"],[0.1111111111111111,\"#46039f\"],[0.2222222222222222,\"#7201a8\"],[0.3333333333333333,\"#9c179e\"],[0.4444444444444444,\"#bd3786\"],[0.5555555555555556,\"#d8576b\"],[0.6666666666666666,\"#ed7953\"],[0.7777777777777778,\"#fb9f3a\"],[0.8888888888888888,\"#fdca26\"],[1.0,\"#f0f921\"]],\"diverging\":[[0,\"#8e0152\"],[0.1,\"#c51b7d\"],[0.2,\"#de77ae\"],[0.3,\"#f1b6da\"],[0.4,\"#fde0ef\"],[0.5,\"#f7f7f7\"],[0.6,\"#e6f5d0\"],[0.7,\"#b8e186\"],[0.8,\"#7fbc41\"],[0.9,\"#4d9221\"],[1,\"#276419\"]]},\"xaxis\":{\"gridcolor\":\"white\",\"linecolor\":\"white\",\"ticks\":\"\",\"title\":{\"standoff\":15},\"zerolinecolor\":\"white\",\"automargin\":true,\"zerolinewidth\":2},\"yaxis\":{\"gridcolor\":\"white\",\"linecolor\":\"white\",\"ticks\":\"\",\"title\":{\"standoff\":15},\"zerolinecolor\":\"white\",\"automargin\":true,\"zerolinewidth\":2},\"scene\":{\"xaxis\":{\"backgroundcolor\":\"#E5ECF6\",\"gridcolor\":\"white\",\"linecolor\":\"white\",\"showbackground\":true,\"ticks\":\"\",\"zerolinecolor\":\"white\",\"gridwidth\":2},\"yaxis\":{\"backgroundcolor\":\"#E5ECF6\",\"gridcolor\":\"white\",\"linecolor\":\"white\",\"showbackground\":true,\"ticks\":\"\",\"zerolinecolor\":\"white\",\"gridwidth\":2},\"zaxis\":{\"backgroundcolor\":\"#E5ECF6\",\"gridcolor\":\"white\",\"linecolor\":\"white\",\"showbackground\":true,\"ticks\":\"\",\"zerolinecolor\":\"white\",\"gridwidth\":2}},\"shapedefaults\":{\"line\":{\"color\":\"#2a3f5f\"}},\"annotationdefaults\":{\"arrowcolor\":\"#2a3f5f\",\"arrowhead\":0,\"arrowwidth\":1},\"geo\":{\"bgcolor\":\"white\",\"landcolor\":\"#E5ECF6\",\"subunitcolor\":\"white\",\"showland\":true,\"showlakes\":true,\"lakecolor\":\"white\"},\"title\":{\"x\":0.05},\"mapbox\":{\"style\":\"light\"}}},\"legend\":{\"tracegroupgap\":0},\"margin\":{\"t\":60},\"height\":600,\"width\":600},                        {\"responsive\": true}                    ).then(function(){\n",
       "                            \n",
       "var gd = document.getElementById('c0fbd170-5b5a-456f-b2bf-6c88937d93f9');\n",
       "var x = new MutationObserver(function (mutations, observer) {{\n",
       "        var display = window.getComputedStyle(gd).display;\n",
       "        if (!display || display === 'none') {{\n",
       "            console.log([gd, 'removed!']);\n",
       "            Plotly.purge(gd);\n",
       "            observer.disconnect();\n",
       "        }}\n",
       "}});\n",
       "\n",
       "// Listen for the removal of the full notebook cells\n",
       "var notebookContainer = gd.closest('#notebook-container');\n",
       "if (notebookContainer) {{\n",
       "    x.observe(notebookContainer, {childList: true});\n",
       "}}\n",
       "\n",
       "// Listen for the clearing of the current output cell\n",
       "var outputEl = gd.closest('.output');\n",
       "if (outputEl) {{\n",
       "    x.observe(outputEl, {childList: true});\n",
       "}}\n",
       "\n",
       "                        })                };                });            </script>        </div>"
      ]
     },
     "metadata": {},
     "output_type": "display_data"
    }
   ],
   "source": [
    "\n",
    "Vehicle_type = data.groupby('Electric Vehicle Type').count()['City'].index\n",
    "values = data.groupby('Electric Vehicle Type').count()['City'].values\n",
    "\n",
    "px.pie(names=Vehicle_type,values=values,width=600,height=600)"
   ]
  },
  {
   "cell_type": "code",
   "execution_count": 84,
   "id": "5012f738",
   "metadata": {},
   "outputs": [
    {
     "data": {
      "image/png": "[encoded data removed]",
      "text/plain": [
       "<Figure size 900x500 with 1 Axes>"
      ]
     },
     "metadata": {},
     "output_type": "display_data"
    }
   ],
   "source": [
    "modelos = data.groupby('Electric Utility').count().sort_values(by='City',ascending=False)['City'].index\n",
    "values = data.groupby('Electric Utility').count().sort_values(by='City',ascending=False)['City'].values\n",
    "\n",
    "\n",
    "plt.figure(figsize=(9,5))\n",
    "sns.barplot(x=modelos[:10],y=values[:10])\n",
    "plt.xticks(rotation= 90)\n",
    "plt.xlabel('model')\n",
    "plt.ylabel('Count')\n",
    "plt.show()"
   ]
  },
  {
   "cell_type": "code",
   "execution_count": null,
   "id": "735e9bbf",
   "metadata": {},
   "outputs": [],
   "source": []
  }
 ],
 "metadata": {
  "kernelspec": {
   "display_name": "Python 3 (ipykernel)",
   "language": "python",
   "name": "python3"
  },
  "language_info": {
   "codemirror_mode": {
    "name": "ipython",
    "version": 3
   },
   "file_extension": ".py",
   "mimetype": "text/x-python",
   "name": "python",
   "nbconvert_exporter": "python",
   "pygments_lexer": "ipython3",
   "version": "3.10.9"
  }
 },
 "nbformat": 4,
 "nbformat_minor": 5
}
