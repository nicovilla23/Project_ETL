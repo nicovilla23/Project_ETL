{
 "cells": [
  {
   "cell_type": "code",
   "execution_count": 72,
   "id": "6509a480",
   "metadata": {},
   "outputs": [],
   "source": [
    "import pandas as pd\n",
    "import requests as req\n",
    "\n",
    "from tqdm.notebook import tqdm\n",
    "\n",
    "\n",
    "from bs4 import BeautifulSoup as bs\n",
    "\n",
    "from joblib import Parallel, delayed"
   ]
  },
  {
   "cell_type": "code",
   "execution_count": 78,
   "id": "15170b80",
   "metadata": {},
   "outputs": [],
   "source": [
    "url = 'https://insideevs.com/news/565883/electric-car-prices-us/'\n",
    "\n",
    "html = req.get(url).content \n",
    "\n",
    "soup = bs(html, 'html.parser')"
   ]
  },
  {
   "cell_type": "code",
   "execution_count": 83,
   "id": "8e74d707",
   "metadata": {},
   "outputs": [],
   "source": [
    "tabla = soup.find('table')"
   ]
  },
  {
   "cell_type": "code",
   "execution_count": 95,
   "id": "4791a6f7",
   "metadata": {},
   "outputs": [],
   "source": [
    "rows = tabla.find_all('tr')"
   ]
  },
  {
   "cell_type": "code",
   "execution_count": null,
   "id": "fdf3de95",
   "metadata": {},
   "outputs": [],
   "source": []
  }
 ],
 "metadata": {
  "kernelspec": {
   "display_name": "Python 3 (ipykernel)",
   "language": "python",
   "name": "python3"
  },
  "language_info": {
   "codemirror_mode": {
    "name": "ipython",
    "version": 3
   },
   "file_extension": ".py",
   "mimetype": "text/x-python",
   "name": "python",
   "nbconvert_exporter": "python",
   "pygments_lexer": "ipython3",
   "version": "3.10.9"
  }
 },
 "nbformat": 4,
 "nbformat_minor": 5
}
